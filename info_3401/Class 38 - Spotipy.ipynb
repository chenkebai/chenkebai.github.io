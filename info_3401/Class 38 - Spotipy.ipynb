{
 "cells": [
  {
   "cell_type": "markdown",
   "metadata": {},
   "source": [
    "### Authentication and set up"
   ]
  },
  {
   "cell_type": "code",
   "execution_count": 1,
   "metadata": {},
   "outputs": [
    {
     "name": "stdout",
     "output_type": "stream",
     "text": [
      "0 Ransom\n",
      "1 Diva (feat. Lil Tecca)\n",
      "2 When You Down (with Polo G feat. Lil Durk)\n",
      "3 Ransom (with Juice WRLD) - Remix\n",
      "4 Dolly (with Lil Uzi Vert)\n",
      "5 Love Me\n",
      "6 Did It Again\n",
      "7 Out Of Love (feat. Internet Money)\n",
      "8 Somebody\n",
      "9 Our Time\n",
      "10 Shots\n",
      "11 All Star (with Lil Tjay)\n",
      "12 Foreign (feat. Nav)\n",
      "13 Out Of Luck\n",
      "14 Chemistry\n",
      "15 Somebody (feat. A Boogie Wit Da Hoodie & Lil Tecca)\n",
      "16 Amigo\n",
      "17 Royal Rumble\n",
      "18 JLO (feat. Lil Tecca)\n",
      "19 How I Was Raised\n"
     ]
    }
   ],
   "source": [
    "import spotipy\n",
    "from spotipy.oauth2 import SpotifyClientCredentials\n",
    "\n",
    "CLIENT_ID = \"ba1e3150469b4953ae6f54c6f961a2a0\"\n",
    "CLIENT_SECRET = \"517fe80a51d842b8b47ea0f0a23a82ef\"\n",
    "\n",
    "sp = spotipy.Spotify(auth_manager=SpotifyClientCredentials(client_id=CLIENT_ID,\n",
    "                                                           client_secret=CLIENT_SECRET))\n",
    "\n",
    "results = sp.search(q='Lil Tecca', limit=20)\n",
    "for idx, track in enumerate(results['tracks']['items']):\n",
    "    print(idx, track['name'])"
   ]
  },
  {
   "cell_type": "code",
   "execution_count": 11,
   "metadata": {},
   "outputs": [],
   "source": [
    "! pbpaste > secret.txt"
   ]
  },
  {
   "cell_type": "code",
   "execution_count": 17,
   "metadata": {},
   "outputs": [
    {
     "data": {
      "text/plain": [
       "'\"defb77b266ee4a8cb9fbeeecd02ae203\"'"
      ]
     },
     "execution_count": 17,
     "metadata": {},
     "output_type": "execute_result"
    }
   ],
   "source": [
    "with open(\"secret.txt\", \"r\") as inf:\n",
    "    secret = inf.read()"
   ]
  },
  {
   "cell_type": "markdown",
   "metadata": {},
   "source": [
    "### Search\n",
    "\n",
    "https://spotipy.readthedocs.io/en/2.16.1/?highlight=search#spotipy.client.Spotify.search"
   ]
  },
  {
   "cell_type": "code",
   "execution_count": 4,
   "metadata": {},
   "outputs": [
    {
     "ename": "SyntaxError",
     "evalue": "invalid syntax (<ipython-input-4-2f4e2fbcfbbb>, line 10)",
     "output_type": "error",
     "traceback": [
      "\u001b[1;36m  File \u001b[1;32m\"<ipython-input-4-2f4e2fbcfbbb>\"\u001b[1;36m, line \u001b[1;32m10\u001b[0m\n\u001b[1;33m    searchResult = sp.search('Passenger', type='artist', limit=20)\u001b[0m\n\u001b[1;37m    ^\u001b[0m\n\u001b[1;31mSyntaxError\u001b[0m\u001b[1;31m:\u001b[0m invalid syntax\n"
     ]
    }
   ],
   "source": [
    "import spotipy\n",
    "from spotipy.oauth2 import SpotifyClientCredentials\n",
    "\n",
    "ID = 'ba1e3150469b4953ae6f54c6f961a2a0'\n",
    "SECRET = '517fe80a51d842b8b47ea0f0a23a82ef'\n",
    "\n",
    "sp = spotipy.Spotify(auth_manager=SpotifyClientCredentials(client_id=ID,\n",
    "                                                           client_secret=SECRET)\n",
    "\n",
    "searchResult = sp.search('Passenger', type='artist', limit=20)\n",
    "\n",
    "for item in "
   ]
  },
  {
   "cell_type": "markdown",
   "metadata": {},
   "source": [
    "### Using spotify as a reference\n"
   ]
  },
  {
   "cell_type": "markdown",
   "metadata": {},
   "source": [
    "### Explore the API \n",
    "\n",
    "- https://spotipy.readthedocs.io/en/2.16.1/"
   ]
  },
  {
   "cell_type": "markdown",
   "metadata": {},
   "source": [
    "### Projects check in"
   ]
  }
 ],
 "metadata": {
  "kernelspec": {
   "display_name": "Python 3",
   "language": "python",
   "name": "python3"
  },
  "language_info": {
   "codemirror_mode": {
    "name": "ipython",
    "version": 3
   },
   "file_extension": ".py",
   "mimetype": "text/x-python",
   "name": "python",
   "nbconvert_exporter": "python",
   "pygments_lexer": "ipython3",
   "version": "3.8.5"
  }
 },
 "nbformat": 4,
 "nbformat_minor": 4
}
