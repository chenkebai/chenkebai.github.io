{
 "cells": [
  {
   "cell_type": "markdown",
   "metadata": {},
   "source": [
    "### More practice with joins\n",
    "- CU Boulder, INFO3401\n",
    "- Oct 30, 2020"
   ]
  },
  {
   "cell_type": "markdown",
   "metadata": {},
   "source": [
    "### Joins\n",
    "\n",
    "\n",
    "\n",
    "Joining data is **very** fundamental in data analysis. There are different ways to join data and it is important to understand the difference. This is very important for your final project. \n",
    "\n",
    "This notebook is designed to give you practice. For this notebook, we will be using a small dataset from a pet hotel. The data consists of \"guests\" and details about when the \"guests\" have been fed. "
   ]
  },
  {
   "cell_type": "code",
   "execution_count": 1,
   "metadata": {},
   "outputs": [],
   "source": [
    "import pandas as pd\n",
    "\n",
    "guests = pd.DataFrame({'name': [\"sir john\", \"fluffy\", \"mittens\", \"taco\", \"gwyneth\"], \n",
    "                       \"species\": [\"dog\", \"cat\", \"cat\", \"cat\", \"dog\"],\n",
    "                       \"weight(lb)\": [55, 9, 12, 10, 33]})\n",
    "\n",
    "feedings = pd.DataFrame({\"date\": [\"2020-06-29 08:22:14\", \"2020-06-29 08:07:17\",\n",
    "                           \"2020-06-29 08:23:33\", \"2020-06-28 08:02:35\",\n",
    "                           \"2020-06-29 08:15:12\", \"2020-06-28 08:14:27\"],\n",
    "                          \"name\": [\"fluffy\", \"mittens\", \"gwyneth\", \"fluffy\", \"mittens\", \"taco\"]\n",
    "                         })"
   ]
  },
  {
   "cell_type": "code",
   "execution_count": 6,
   "metadata": {},
   "outputs": [
    {
     "data": {
      "text/html": [
       "<div>\n",
       "<style scoped>\n",
       "    .dataframe tbody tr th:only-of-type {\n",
       "        vertical-align: middle;\n",
       "    }\n",
       "\n",
       "    .dataframe tbody tr th {\n",
       "        vertical-align: top;\n",
       "    }\n",
       "\n",
       "    .dataframe thead th {\n",
       "        text-align: right;\n",
       "    }\n",
       "</style>\n",
       "<table border=\"1\" class=\"dataframe\">\n",
       "  <thead>\n",
       "    <tr style=\"text-align: right;\">\n",
       "      <th></th>\n",
       "      <th>name</th>\n",
       "      <th>species</th>\n",
       "      <th>weight(lb)</th>\n",
       "    </tr>\n",
       "  </thead>\n",
       "  <tbody>\n",
       "    <tr>\n",
       "      <th>0</th>\n",
       "      <td>sir john</td>\n",
       "      <td>dog</td>\n",
       "      <td>55</td>\n",
       "    </tr>\n",
       "    <tr>\n",
       "      <th>1</th>\n",
       "      <td>fluffy</td>\n",
       "      <td>cat</td>\n",
       "      <td>9</td>\n",
       "    </tr>\n",
       "    <tr>\n",
       "      <th>2</th>\n",
       "      <td>mittens</td>\n",
       "      <td>cat</td>\n",
       "      <td>12</td>\n",
       "    </tr>\n",
       "    <tr>\n",
       "      <th>3</th>\n",
       "      <td>taco</td>\n",
       "      <td>cat</td>\n",
       "      <td>10</td>\n",
       "    </tr>\n",
       "    <tr>\n",
       "      <th>4</th>\n",
       "      <td>gwyneth</td>\n",
       "      <td>dog</td>\n",
       "      <td>33</td>\n",
       "    </tr>\n",
       "  </tbody>\n",
       "</table>\n",
       "</div>"
      ],
      "text/plain": [
       "       name species  weight(lb)\n",
       "0  sir john     dog          55\n",
       "1    fluffy     cat           9\n",
       "2   mittens     cat          12\n",
       "3      taco     cat          10\n",
       "4   gwyneth     dog          33"
      ]
     },
     "execution_count": 6,
     "metadata": {},
     "output_type": "execute_result"
    }
   ],
   "source": [
    "guests"
   ]
  },
  {
   "cell_type": "code",
   "execution_count": 7,
   "metadata": {},
   "outputs": [
    {
     "data": {
      "text/html": [
       "<div>\n",
       "<style scoped>\n",
       "    .dataframe tbody tr th:only-of-type {\n",
       "        vertical-align: middle;\n",
       "    }\n",
       "\n",
       "    .dataframe tbody tr th {\n",
       "        vertical-align: top;\n",
       "    }\n",
       "\n",
       "    .dataframe thead th {\n",
       "        text-align: right;\n",
       "    }\n",
       "</style>\n",
       "<table border=\"1\" class=\"dataframe\">\n",
       "  <thead>\n",
       "    <tr style=\"text-align: right;\">\n",
       "      <th></th>\n",
       "      <th>date</th>\n",
       "      <th>name</th>\n",
       "    </tr>\n",
       "  </thead>\n",
       "  <tbody>\n",
       "    <tr>\n",
       "      <th>0</th>\n",
       "      <td>2020-06-29 08:22:14</td>\n",
       "      <td>fluffy</td>\n",
       "    </tr>\n",
       "    <tr>\n",
       "      <th>1</th>\n",
       "      <td>2020-06-29 08:07:17</td>\n",
       "      <td>mittens</td>\n",
       "    </tr>\n",
       "    <tr>\n",
       "      <th>2</th>\n",
       "      <td>2020-06-29 08:23:33</td>\n",
       "      <td>gwyneth</td>\n",
       "    </tr>\n",
       "    <tr>\n",
       "      <th>3</th>\n",
       "      <td>2020-06-28 08:02:35</td>\n",
       "      <td>fluffy</td>\n",
       "    </tr>\n",
       "    <tr>\n",
       "      <th>4</th>\n",
       "      <td>2020-06-29 08:15:12</td>\n",
       "      <td>mittens</td>\n",
       "    </tr>\n",
       "    <tr>\n",
       "      <th>5</th>\n",
       "      <td>2020-06-28 08:14:27</td>\n",
       "      <td>taco</td>\n",
       "    </tr>\n",
       "  </tbody>\n",
       "</table>\n",
       "</div>"
      ],
      "text/plain": [
       "                  date     name\n",
       "0  2020-06-29 08:22:14   fluffy\n",
       "1  2020-06-29 08:07:17  mittens\n",
       "2  2020-06-29 08:23:33  gwyneth\n",
       "3  2020-06-28 08:02:35   fluffy\n",
       "4  2020-06-29 08:15:12  mittens\n",
       "5  2020-06-28 08:14:27     taco"
      ]
     },
     "execution_count": 7,
     "metadata": {},
     "output_type": "execute_result"
    }
   ],
   "source": [
    "feedings"
   ]
  },
  {
   "cell_type": "markdown",
   "metadata": {},
   "source": [
    "## Inner join\n",
    "\n",
    "There are several ways to join datasets. We will start with an inner join. An inner join merges rows two dataframes based on the `intersection` of their keys. Remember than an intersection of two sets is all items in both sets."
   ]
  },
  {
   "cell_type": "code",
   "execution_count": 17,
   "metadata": {},
   "outputs": [
    {
     "name": "stdout",
     "output_type": "stream",
     "text": [
      "{'gwyneth', 'taco', 'fluffy', 'mittens'}\n"
     ]
    }
   ],
   "source": [
    "# Find the intersection of the set of pet names in guests and the set of pet names feedings\n",
    "\n",
    "guest_names = set(guests['name'].to_list()) # fill this variable\n",
    "feedings_names = set(feedings['name'].to_list()) # fill this variable\n",
    "intersection = guest_names and feedings_names # fill this variable\n",
    "\n",
    "print(intersection)"
   ]
  },
  {
   "cell_type": "code",
   "execution_count": 18,
   "metadata": {},
   "outputs": [
    {
     "name": "stdout",
     "output_type": "stream",
     "text": [
      "{'gwyneth', 'taco', 'mittens', 'sir john', 'fluffy'}\n"
     ]
    }
   ],
   "source": [
    "guest_names = set(guests['name'].to_list()) # fill this variable\n",
    "feedings_names = set(feedings['name'].to_list()) # fill this variable\n",
    "union = guest_names.union(feedings_names) # fill this variable\n",
    "\n",
    "print(union)"
   ]
  },
  {
   "cell_type": "markdown",
   "metadata": {},
   "source": [
    "#### Code an inner join \n",
    "Merge the guests and feedings data frames on the `name` keys using an inner join. There is some starter code included below to help you out. Your job is to modify the code.\n",
    "You might need to consult the [documentation](https://pandas.pydata.org/pandas-docs/stable/reference/api/pandas.DataFrame.merge.html).\n"
   ]
  },
  {
   "cell_type": "code",
   "execution_count": 10,
   "metadata": {},
   "outputs": [
    {
     "data": {
      "text/html": [
       "<div>\n",
       "<style scoped>\n",
       "    .dataframe tbody tr th:only-of-type {\n",
       "        vertical-align: middle;\n",
       "    }\n",
       "\n",
       "    .dataframe tbody tr th {\n",
       "        vertical-align: top;\n",
       "    }\n",
       "\n",
       "    .dataframe thead th {\n",
       "        text-align: right;\n",
       "    }\n",
       "</style>\n",
       "<table border=\"1\" class=\"dataframe\">\n",
       "  <thead>\n",
       "    <tr style=\"text-align: right;\">\n",
       "      <th></th>\n",
       "      <th>name</th>\n",
       "      <th>species</th>\n",
       "      <th>weight(lb)</th>\n",
       "      <th>date</th>\n",
       "    </tr>\n",
       "  </thead>\n",
       "  <tbody>\n",
       "    <tr>\n",
       "      <th>0</th>\n",
       "      <td>fluffy</td>\n",
       "      <td>cat</td>\n",
       "      <td>9</td>\n",
       "      <td>2020-06-29 08:22:14</td>\n",
       "    </tr>\n",
       "    <tr>\n",
       "      <th>1</th>\n",
       "      <td>fluffy</td>\n",
       "      <td>cat</td>\n",
       "      <td>9</td>\n",
       "      <td>2020-06-28 08:02:35</td>\n",
       "    </tr>\n",
       "    <tr>\n",
       "      <th>2</th>\n",
       "      <td>mittens</td>\n",
       "      <td>cat</td>\n",
       "      <td>12</td>\n",
       "      <td>2020-06-29 08:07:17</td>\n",
       "    </tr>\n",
       "    <tr>\n",
       "      <th>3</th>\n",
       "      <td>mittens</td>\n",
       "      <td>cat</td>\n",
       "      <td>12</td>\n",
       "      <td>2020-06-29 08:15:12</td>\n",
       "    </tr>\n",
       "    <tr>\n",
       "      <th>4</th>\n",
       "      <td>taco</td>\n",
       "      <td>cat</td>\n",
       "      <td>10</td>\n",
       "      <td>2020-06-28 08:14:27</td>\n",
       "    </tr>\n",
       "    <tr>\n",
       "      <th>5</th>\n",
       "      <td>gwyneth</td>\n",
       "      <td>dog</td>\n",
       "      <td>33</td>\n",
       "      <td>2020-06-29 08:23:33</td>\n",
       "    </tr>\n",
       "  </tbody>\n",
       "</table>\n",
       "</div>"
      ],
      "text/plain": [
       "      name species  weight(lb)                 date\n",
       "0   fluffy     cat           9  2020-06-29 08:22:14\n",
       "1   fluffy     cat           9  2020-06-28 08:02:35\n",
       "2  mittens     cat          12  2020-06-29 08:07:17\n",
       "3  mittens     cat          12  2020-06-29 08:15:12\n",
       "4     taco     cat          10  2020-06-28 08:14:27\n",
       "5  gwyneth     dog          33  2020-06-29 08:23:33"
      ]
     },
     "execution_count": 10,
     "metadata": {},
     "output_type": "execute_result"
    }
   ],
   "source": [
    "guests_feedings_inner = pd.merge(guests, feedings, how=\"inner\", on='name')\n",
    "guests_feedings_inner"
   ]
  },
  {
   "cell_type": "markdown",
   "metadata": {},
   "source": [
    "#### Questions \n",
    "\n",
    "Take a look at `guests_feedings_inner`. \n",
    "\n",
    "1. Can you use this table to figure out when Sir John was fed most recently? Why or why not? How does this relate to what you found out about the intersection of the keys from these two data frames above?\n",
    "\n",
    "No because Sir john is not in the both data set."
   ]
  },
  {
   "cell_type": "markdown",
   "metadata": {},
   "source": [
    "2. What would happen if you used the following line of code (see below) to figure out the average weight of cats and dogs at the pet hotel? Would your conclusions be sound?\n",
    "\n",
    "No we miss one pet in the data set, it's also repeating animals as well."
   ]
  },
  {
   "cell_type": "code",
   "execution_count": 12,
   "metadata": {},
   "outputs": [
    {
     "data": {
      "text/plain": [
       "species\n",
       "cat    10.4\n",
       "dog    33.0\n",
       "Name: weight(lb), dtype: float64"
      ]
     },
     "execution_count": 12,
     "metadata": {},
     "output_type": "execute_result"
    }
   ],
   "source": [
    "guests_feedings_inner.groupby(\"species\")[\"weight(lb)\"].mean()"
   ]
  },
  {
   "cell_type": "markdown",
   "metadata": {},
   "source": [
    "## Outer join\n",
    "\n",
    "#### Code an outer join \n",
    "Merge the guests and feedings data frames on `name` using an `outer` join. An outer join will merge dataframes based on the union of their keys. There is some starter code included below to help you out. Your job is to modify the code.\n",
    "You might need to consult the [documentation](https://pandas.pydata.org/pandas-docs/stable/reference/api/pandas.DataFrame.merge.html)."
   ]
  },
  {
   "cell_type": "code",
   "execution_count": 15,
   "metadata": {},
   "outputs": [
    {
     "data": {
      "text/html": [
       "<div>\n",
       "<style scoped>\n",
       "    .dataframe tbody tr th:only-of-type {\n",
       "        vertical-align: middle;\n",
       "    }\n",
       "\n",
       "    .dataframe tbody tr th {\n",
       "        vertical-align: top;\n",
       "    }\n",
       "\n",
       "    .dataframe thead th {\n",
       "        text-align: right;\n",
       "    }\n",
       "</style>\n",
       "<table border=\"1\" class=\"dataframe\">\n",
       "  <thead>\n",
       "    <tr style=\"text-align: right;\">\n",
       "      <th></th>\n",
       "      <th>name</th>\n",
       "      <th>species</th>\n",
       "      <th>weight(lb)</th>\n",
       "      <th>date</th>\n",
       "    </tr>\n",
       "  </thead>\n",
       "  <tbody>\n",
       "    <tr>\n",
       "      <th>0</th>\n",
       "      <td>sir john</td>\n",
       "      <td>dog</td>\n",
       "      <td>55</td>\n",
       "      <td>NaN</td>\n",
       "    </tr>\n",
       "    <tr>\n",
       "      <th>1</th>\n",
       "      <td>fluffy</td>\n",
       "      <td>cat</td>\n",
       "      <td>9</td>\n",
       "      <td>2020-06-29 08:22:14</td>\n",
       "    </tr>\n",
       "    <tr>\n",
       "      <th>2</th>\n",
       "      <td>fluffy</td>\n",
       "      <td>cat</td>\n",
       "      <td>9</td>\n",
       "      <td>2020-06-28 08:02:35</td>\n",
       "    </tr>\n",
       "    <tr>\n",
       "      <th>3</th>\n",
       "      <td>mittens</td>\n",
       "      <td>cat</td>\n",
       "      <td>12</td>\n",
       "      <td>2020-06-29 08:07:17</td>\n",
       "    </tr>\n",
       "    <tr>\n",
       "      <th>4</th>\n",
       "      <td>mittens</td>\n",
       "      <td>cat</td>\n",
       "      <td>12</td>\n",
       "      <td>2020-06-29 08:15:12</td>\n",
       "    </tr>\n",
       "    <tr>\n",
       "      <th>5</th>\n",
       "      <td>taco</td>\n",
       "      <td>cat</td>\n",
       "      <td>10</td>\n",
       "      <td>2020-06-28 08:14:27</td>\n",
       "    </tr>\n",
       "    <tr>\n",
       "      <th>6</th>\n",
       "      <td>gwyneth</td>\n",
       "      <td>dog</td>\n",
       "      <td>33</td>\n",
       "      <td>2020-06-29 08:23:33</td>\n",
       "    </tr>\n",
       "  </tbody>\n",
       "</table>\n",
       "</div>"
      ],
      "text/plain": [
       "       name species  weight(lb)                 date\n",
       "0  sir john     dog          55                  NaN\n",
       "1    fluffy     cat           9  2020-06-29 08:22:14\n",
       "2    fluffy     cat           9  2020-06-28 08:02:35\n",
       "3   mittens     cat          12  2020-06-29 08:07:17\n",
       "4   mittens     cat          12  2020-06-29 08:15:12\n",
       "5      taco     cat          10  2020-06-28 08:14:27\n",
       "6   gwyneth     dog          33  2020-06-29 08:23:33"
      ]
     },
     "execution_count": 15,
     "metadata": {},
     "output_type": "execute_result"
    }
   ],
   "source": [
    "guests_feedings_outer = pd.merge(guests, feedings, how=\"outer\", on='name')\n",
    "guests_feedings_outer"
   ]
  },
  {
   "cell_type": "markdown",
   "metadata": {},
   "source": [
    "Take a look at `guests_feedings_outer`. \n",
    "\n",
    "1. Why is sir john included in the table this time? \n",
    "\n",
    "becasue of outer join \n",
    "\n",
    "2. Why is there a NaN for sir john in the date field?\n",
    "\n",
    "Sir John is not being fed.\n",
    "3. What should you conclude about the last time Sir John was fed at the pet hotel? How should you fill the NaN, if at all?\n",
    "\n",
    "no"
   ]
  },
  {
   "cell_type": "markdown",
   "metadata": {},
   "source": [
    "## The big question! \n",
    "\n",
    "The main takeaway from this is you need to be careful when joining data. Make sure you understand *what* pandas (or anther library) is doing and *why*. Run small tests and investigate output to double check that you are right. And make sure you think through how the behavior from the library will affect your conclusions. \n",
    "\n",
    "#### Big question\n",
    "\n",
    "What are you thinking about for your final project? What data do you plan to join? What are possible pitfalls from missing or repeated data in your project?"
   ]
  },
  {
   "cell_type": "markdown",
   "metadata": {},
   "source": [
    "## Right join and left join\n",
    "\n",
    "For homework, build on what you have learned so far and investigate right join and left join using the [pandas](https://pandas.pydata.org/pandas-docs/stable/reference/api/pandas.DataFrame.merge.html) documentation. You might need to also read about [LEFT JOIN and RIGHT JOIN in SQL](https://www.w3schools.com/sql/sql_join_left.asp) for additional context.\n",
    "\n",
    "1. What happens when you perform a left join on these tables. What is included and excluded and why? \n",
    "\n",
    "2. What happens when you perform a right join on these tables. What is included and excluded and why? \n"
   ]
  }
 ],
 "metadata": {
  "kernelspec": {
   "display_name": "Python 3",
   "language": "python",
   "name": "python3"
  },
  "language_info": {
   "codemirror_mode": {
    "name": "ipython",
    "version": 3
   },
   "file_extension": ".py",
   "mimetype": "text/x-python",
   "name": "python",
   "nbconvert_exporter": "python",
   "pygments_lexer": "ipython3",
   "version": "3.8.5"
  }
 },
 "nbformat": 4,
 "nbformat_minor": 4
}
