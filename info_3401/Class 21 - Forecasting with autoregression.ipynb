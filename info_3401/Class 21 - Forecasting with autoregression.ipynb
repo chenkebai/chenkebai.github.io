{
 "cells": [
  {
   "cell_type": "markdown",
   "metadata": {},
   "source": [
    "# INFO 3401 – Class 21: Forecasting with autocorrelation and prophet\n",
    "\n",
    "[Brian C. Keegan, Ph.D.](http://brianckeegan.com/)  \n",
    "[Assistant Professor, Department of Information Science](https://www.colorado.edu/cmci/people/information-science/brian-c-keegan)  \n",
    "University of Colorado Boulder  \n",
    "\n",
    "Copyright and distributed under an [MIT License](https://opensource.org/licenses/MIT).\n",
    "\n",
    "## Learning Objectives\n",
    "This lecture will introduce forecasting, one of the most common data analysis tasks when working with time series data.\n",
    "\n",
    "* Review content about temporal structure, additive models, and autocorrelation\n",
    "* Using the `statsmodels` and `prophet` libraries to forecast temporal data\n",
    "* Making and interpreting forecasts using DIA, BEST, and other time series data\n",
    "\n",
    "## Background\n",
    "\n",
    "Last week we covered many different functions, methods, and attributes for working with temporal data in pandas and finding common patterns in temporal data. This week we will use this knowledge to make forecasts of what the future using historical data, apply different forecasting methods and tools, and evaluate the performance of forecasts."
   ]
  },
  {
   "cell_type": "markdown",
   "metadata": {},
   "source": [
    "## Load libraries"
   ]
  },
  {
   "cell_type": "code",
   "execution_count": 1,
   "metadata": {},
   "outputs": [],
   "source": [
    "# Data processing libraries\n",
    "import pandas as pd\n",
    "import numpy as np\n",
    "\n",
    "pd.options.display.max_columns = 100\n",
    "\n",
    "# Visualization libraries\n",
    "%matplotlib inline\n",
    "import matplotlib.pyplot as plt\n",
    "import seaborn as sb\n",
    "\n",
    "# Statistical analysis libraries\n",
    "import statsmodels.formula.api as smf\n",
    "import statsmodels.api as sm"
   ]
  },
  {
   "cell_type": "markdown",
   "metadata": {},
   "source": [
    "## Load data"
   ]
  },
  {
   "cell_type": "code",
   "execution_count": 2,
   "metadata": {},
   "outputs": [
    {
     "name": "stdout",
     "output_type": "stream",
     "text": [
      "(307, 7)\n"
     ]
    },
    {
     "data": {
      "text/html": [
       "<div>\n",
       "<style scoped>\n",
       "    .dataframe tbody tr th:only-of-type {\n",
       "        vertical-align: middle;\n",
       "    }\n",
       "\n",
       "    .dataframe tbody tr th {\n",
       "        vertical-align: top;\n",
       "    }\n",
       "\n",
       "    .dataframe thead th {\n",
       "        text-align: right;\n",
       "    }\n",
       "</style>\n",
       "<table border=\"1\" class=\"dataframe\">\n",
       "  <thead>\n",
       "    <tr style=\"text-align: right;\">\n",
       "      <th></th>\n",
       "      <th>American</th>\n",
       "      <th>Delta</th>\n",
       "      <th>Frontier</th>\n",
       "      <th>Other</th>\n",
       "      <th>Southwest</th>\n",
       "      <th>United Express</th>\n",
       "      <th>United</th>\n",
       "    </tr>\n",
       "  </thead>\n",
       "  <tbody>\n",
       "    <tr>\n",
       "      <td>2019-11-01</td>\n",
       "      <td>248838</td>\n",
       "      <td>271136</td>\n",
       "      <td>645543</td>\n",
       "      <td>269124</td>\n",
       "      <td>1502102.0</td>\n",
       "      <td>653590</td>\n",
       "      <td>1713647</td>\n",
       "    </tr>\n",
       "    <tr>\n",
       "      <td>2019-12-01</td>\n",
       "      <td>285504</td>\n",
       "      <td>312654</td>\n",
       "      <td>558746</td>\n",
       "      <td>306029</td>\n",
       "      <td>1661202.0</td>\n",
       "      <td>749165</td>\n",
       "      <td>1915520</td>\n",
       "    </tr>\n",
       "    <tr>\n",
       "      <td>2020-01-01</td>\n",
       "      <td>252609</td>\n",
       "      <td>277318</td>\n",
       "      <td>527185</td>\n",
       "      <td>282431</td>\n",
       "      <td>1407678.0</td>\n",
       "      <td>685777</td>\n",
       "      <td>1765230</td>\n",
       "    </tr>\n",
       "    <tr>\n",
       "      <td>2020-02-01</td>\n",
       "      <td>236439</td>\n",
       "      <td>263292</td>\n",
       "      <td>493984</td>\n",
       "      <td>258516</td>\n",
       "      <td>1306590.0</td>\n",
       "      <td>694512</td>\n",
       "      <td>1655042</td>\n",
       "    </tr>\n",
       "    <tr>\n",
       "      <td>2020-03-01</td>\n",
       "      <td>146987</td>\n",
       "      <td>150119</td>\n",
       "      <td>306420</td>\n",
       "      <td>147830</td>\n",
       "      <td>770226.0</td>\n",
       "      <td>438251</td>\n",
       "      <td>963524</td>\n",
       "    </tr>\n",
       "    <tr>\n",
       "      <td>2020-04-01</td>\n",
       "      <td>25272</td>\n",
       "      <td>14773</td>\n",
       "      <td>29753</td>\n",
       "      <td>8748</td>\n",
       "      <td>89035.0</td>\n",
       "      <td>41679</td>\n",
       "      <td>89838</td>\n",
       "    </tr>\n",
       "    <tr>\n",
       "      <td>2020-05-01</td>\n",
       "      <td>48289</td>\n",
       "      <td>28214</td>\n",
       "      <td>144702</td>\n",
       "      <td>14486</td>\n",
       "      <td>320493.0</td>\n",
       "      <td>120265</td>\n",
       "      <td>158422</td>\n",
       "    </tr>\n",
       "    <tr>\n",
       "      <td>2020-06-01</td>\n",
       "      <td>74928</td>\n",
       "      <td>48656</td>\n",
       "      <td>323277</td>\n",
       "      <td>45765</td>\n",
       "      <td>809923.0</td>\n",
       "      <td>197807</td>\n",
       "      <td>250012</td>\n",
       "    </tr>\n",
       "    <tr>\n",
       "      <td>2020-07-01</td>\n",
       "      <td>154607</td>\n",
       "      <td>81130</td>\n",
       "      <td>479485</td>\n",
       "      <td>148904</td>\n",
       "      <td>945160.0</td>\n",
       "      <td>294247</td>\n",
       "      <td>488744</td>\n",
       "    </tr>\n",
       "    <tr>\n",
       "      <td>2020-08-01</td>\n",
       "      <td>171353</td>\n",
       "      <td>105907</td>\n",
       "      <td>533026</td>\n",
       "      <td>136293</td>\n",
       "      <td>951646.0</td>\n",
       "      <td>339484</td>\n",
       "      <td>747851</td>\n",
       "    </tr>\n",
       "  </tbody>\n",
       "</table>\n",
       "</div>"
      ],
      "text/plain": [
       "            American   Delta  Frontier   Other  Southwest  United Express  \\\n",
       "2019-11-01    248838  271136    645543  269124  1502102.0          653590   \n",
       "2019-12-01    285504  312654    558746  306029  1661202.0          749165   \n",
       "2020-01-01    252609  277318    527185  282431  1407678.0          685777   \n",
       "2020-02-01    236439  263292    493984  258516  1306590.0          694512   \n",
       "2020-03-01    146987  150119    306420  147830   770226.0          438251   \n",
       "2020-04-01     25272   14773     29753    8748    89035.0           41679   \n",
       "2020-05-01     48289   28214    144702   14486   320493.0          120265   \n",
       "2020-06-01     74928   48656    323277   45765   809923.0          197807   \n",
       "2020-07-01    154607   81130    479485  148904   945160.0          294247   \n",
       "2020-08-01    171353  105907    533026  136293   951646.0          339484   \n",
       "\n",
       "             United  \n",
       "2019-11-01  1713647  \n",
       "2019-12-01  1915520  \n",
       "2020-01-01  1765230  \n",
       "2020-02-01  1655042  \n",
       "2020-03-01   963524  \n",
       "2020-04-01    89838  \n",
       "2020-05-01   158422  \n",
       "2020-06-01   250012  \n",
       "2020-07-01   488744  \n",
       "2020-08-01   747851  "
      ]
     },
     "execution_count": 2,
     "metadata": {},
     "output_type": "execute_result"
    }
   ],
   "source": [
    "# Read in the data\n",
    "den_pass_df = pd.read_csv('den_passengers.csv',index_col=0)\n",
    "\n",
    "# Cast the index to periods then timestamps\n",
    "den_pass_df.index = pd.to_datetime(den_pass_df.index)#[0],den_pass_df.index[-1],freq='M').to_timestamp()\n",
    "\n",
    "# Park the original columns\n",
    "orig_cols = den_pass_df.columns\n",
    "\n",
    "# Inspect\n",
    "print(den_pass_df.shape)\n",
    "den_pass_df.tail(10)"
   ]
  },
  {
   "cell_type": "markdown",
   "metadata": {},
   "source": [
    "Engineer new features (from Class 20 notebook)."
   ]
  },
  {
   "cell_type": "code",
   "execution_count": 3,
   "metadata": {},
   "outputs": [
    {
     "data": {
      "text/html": [
       "<div>\n",
       "<style scoped>\n",
       "    .dataframe tbody tr th:only-of-type {\n",
       "        vertical-align: middle;\n",
       "    }\n",
       "\n",
       "    .dataframe tbody tr th {\n",
       "        vertical-align: top;\n",
       "    }\n",
       "\n",
       "    .dataframe thead th {\n",
       "        text-align: right;\n",
       "    }\n",
       "</style>\n",
       "<table border=\"1\" class=\"dataframe\">\n",
       "  <thead>\n",
       "    <tr style=\"text-align: right;\">\n",
       "      <th></th>\n",
       "      <th>American</th>\n",
       "      <th>Delta</th>\n",
       "      <th>Frontier</th>\n",
       "      <th>Other</th>\n",
       "      <th>Southwest</th>\n",
       "      <th>United Express</th>\n",
       "      <th>United</th>\n",
       "      <th>Total</th>\n",
       "      <th>Rolling Total</th>\n",
       "      <th>months_open</th>\n",
       "    </tr>\n",
       "  </thead>\n",
       "  <tbody>\n",
       "    <tr>\n",
       "      <td>2020-04-01</td>\n",
       "      <td>25272</td>\n",
       "      <td>14773</td>\n",
       "      <td>29753</td>\n",
       "      <td>8748</td>\n",
       "      <td>89035.0</td>\n",
       "      <td>41679</td>\n",
       "      <td>89838</td>\n",
       "      <td>299098.0</td>\n",
       "      <td>5.172371e+06</td>\n",
       "      <td>306.366667</td>\n",
       "    </tr>\n",
       "    <tr>\n",
       "      <td>2020-05-01</td>\n",
       "      <td>48289</td>\n",
       "      <td>28214</td>\n",
       "      <td>144702</td>\n",
       "      <td>14486</td>\n",
       "      <td>320493.0</td>\n",
       "      <td>120265</td>\n",
       "      <td>158422</td>\n",
       "      <td>834871.0</td>\n",
       "      <td>4.738468e+06</td>\n",
       "      <td>307.366667</td>\n",
       "    </tr>\n",
       "    <tr>\n",
       "      <td>2020-06-01</td>\n",
       "      <td>74928</td>\n",
       "      <td>48656</td>\n",
       "      <td>323277</td>\n",
       "      <td>45765</td>\n",
       "      <td>809923.0</td>\n",
       "      <td>197807</td>\n",
       "      <td>250012</td>\n",
       "      <td>1750368.0</td>\n",
       "      <td>4.352193e+06</td>\n",
       "      <td>308.400000</td>\n",
       "    </tr>\n",
       "    <tr>\n",
       "      <td>2020-07-01</td>\n",
       "      <td>154607</td>\n",
       "      <td>81130</td>\n",
       "      <td>479485</td>\n",
       "      <td>148904</td>\n",
       "      <td>945160.0</td>\n",
       "      <td>294247</td>\n",
       "      <td>488744</td>\n",
       "      <td>2592277.0</td>\n",
       "      <td>4.007159e+06</td>\n",
       "      <td>309.400000</td>\n",
       "    </tr>\n",
       "    <tr>\n",
       "      <td>2020-08-01</td>\n",
       "      <td>171353</td>\n",
       "      <td>105907</td>\n",
       "      <td>533026</td>\n",
       "      <td>136293</td>\n",
       "      <td>951646.0</td>\n",
       "      <td>339484</td>\n",
       "      <td>747851</td>\n",
       "      <td>2985560.0</td>\n",
       "      <td>3.718033e+06</td>\n",
       "      <td>310.433333</td>\n",
       "    </tr>\n",
       "  </tbody>\n",
       "</table>\n",
       "</div>"
      ],
      "text/plain": [
       "            American   Delta  Frontier   Other  Southwest  United Express  \\\n",
       "2020-04-01     25272   14773     29753    8748    89035.0           41679   \n",
       "2020-05-01     48289   28214    144702   14486   320493.0          120265   \n",
       "2020-06-01     74928   48656    323277   45765   809923.0          197807   \n",
       "2020-07-01    154607   81130    479485  148904   945160.0          294247   \n",
       "2020-08-01    171353  105907    533026  136293   951646.0          339484   \n",
       "\n",
       "            United      Total  Rolling Total  months_open  \n",
       "2020-04-01   89838   299098.0   5.172371e+06   306.366667  \n",
       "2020-05-01  158422   834871.0   4.738468e+06   307.366667  \n",
       "2020-06-01  250012  1750368.0   4.352193e+06   308.400000  \n",
       "2020-07-01  488744  2592277.0   4.007159e+06   309.400000  \n",
       "2020-08-01  747851  2985560.0   3.718033e+06   310.433333  "
      ]
     },
     "execution_count": 3,
     "metadata": {},
     "output_type": "execute_result"
    }
   ],
   "source": [
    "den_pass_df['Total'] = den_pass_df[orig_cols].sum(1)\n",
    "den_pass_df['Rolling Total'] = den_pass_df['Total'].rolling(12).mean()\n",
    "den_pass_df['months_open'] = (den_pass_df.index - pd.Timestamp('1995-02-01'))/pd.Timedelta(30,'D')\n",
    "\n",
    "# Inspect\n",
    "den_pass_df.tail()"
   ]
  },
  {
   "cell_type": "markdown",
   "metadata": {},
   "source": [
    "Visualize (from Class 20 notebook)."
   ]
  },
  {
   "cell_type": "code",
   "execution_count": 4,
   "metadata": {},
   "outputs": [
    {
     "data": {
      "text/plain": [
       "Text(2020-01, 500000.0, 'COVID-19 shutdowns')"
      ]
     },
     "execution_count": 4,
     "metadata": {},
     "output_type": "execute_result"
    },
    {
     "data": {
      "image/png": "[encoded data removed]",
      "text/plain": [
       "<Figure size 864x432 with 1 Axes>"
      ]
     },
     "metadata": {
      "needs_background": "light"
     },
     "output_type": "display_data"
    }
   ],
   "source": [
    "f,ax = plt.subplots(figsize=(12,6))\n",
    "den_pass_df['Total'].plot(lw=3,ax=ax)\n",
    "den_pass_df['Rolling Total'].plot(lw=3,ax=ax,c='k')\n",
    "\n",
    "ax.set_ylabel('Total passengers')\n",
    "\n",
    "# Annotate\n",
    "ax.axvline(pd.Period('2001-09'),c='r',ls='--',lw=1)\n",
    "ax.text(pd.Period('2001-09')+3,1.75e6,'9/11 attacks',c='r')\n",
    "\n",
    "ax.axvline(pd.Period('2008-09'),c='r',ls='--',lw=1)\n",
    "ax.text(pd.Period('2008-09')+3,3e6,'Great Recession',c='r')\n",
    "\n",
    "ax.axvline(pd.Period('2020-04'),c='r',ls='--',lw=1)\n",
    "ax.text(pd.Period('2020-04')-3,5e5,'COVID-19 shutdowns',c='r',ha='right')\n",
    "\n",
    "# f.savefig('den_passengers.png',dpi=300)"
   ]
  },
  {
   "cell_type": "markdown",
   "metadata": {},
   "source": [
    "## Forecasting with lag (pre-class)\n",
    "\n",
    "We also know that autocorrelation in temporal data explains a lot of variance in time series data: the state of the world yesterday tends to be similar to today which tends to be similar to tomorrow.\n",
    "\n",
    "We can use statsmodel's `plot_acf` function to plot the auto-correlation of this time series. You could also use pandas's `autocorrelation_plot`."
   ]
  },
  {
   "cell_type": "code",
   "execution_count": 5,
   "metadata": {},
   "outputs": [
    {
     "data": {
      "text/plain": [
       "Text(0, 0.5, 'Correlation')"
      ]
     },
     "execution_count": 5,
     "metadata": {},
     "output_type": "execute_result"
    },
    {
     "data": {
      "image/png": "[encoded data removed]",
      "text/plain": [
       "<Figure size 720x360 with 1 Axes>"
      ]
     },
     "metadata": {
      "needs_background": "light"
     },
     "output_type": "display_data"
    }
   ],
   "source": [
    "# Make an empty plot\n",
    "f,ax = plt.subplots(figsize=(10,5))\n",
    "\n",
    "# Make the plot\n",
    "p = sm.graphics.tsa.plot_acf(den_pass_df['Total'],\n",
    "                             ax=ax,\n",
    "                             zero=False,\n",
    "                             lags=36\n",
    "                            )\n",
    "\n",
    "# Give some more ticks\n",
    "ax.set_xticks(range(0,37,2))\n",
    "\n",
    "# Label axes\n",
    "ax.set_xlabel('Lag')\n",
    "ax.set_ylabel('Correlation')"
   ]
  },
  {
   "cell_type": "markdown",
   "metadata": {},
   "source": [
    "We can use pandas's `.shift()` method to compute these correlations as well."
   ]
  },
  {
   "cell_type": "code",
   "execution_count": 6,
   "metadata": {},
   "outputs": [
    {
     "data": {
      "text/plain": [
       "2019-11-01    6073368.0\n",
       "2019-12-01    5303980.0\n",
       "2020-01-01    5788820.0\n",
       "2020-02-01    5198228.0\n",
       "2020-03-01    4908375.0\n",
       "2020-04-01    2923357.0\n",
       "2020-05-01     299098.0\n",
       "2020-06-01     834871.0\n",
       "2020-07-01    1750368.0\n",
       "2020-08-01    2592277.0\n",
       "Name: Total, dtype: float64"
      ]
     },
     "execution_count": 6,
     "metadata": {},
     "output_type": "execute_result"
    }
   ],
   "source": [
    "den_pass_df['Total'].shift(1).tail(10)"
   ]
  },
  {
   "cell_type": "code",
   "execution_count": 7,
   "metadata": {},
   "outputs": [
    {
     "data": {
      "text/html": [
       "<div>\n",
       "<style scoped>\n",
       "    .dataframe tbody tr th:only-of-type {\n",
       "        vertical-align: middle;\n",
       "    }\n",
       "\n",
       "    .dataframe tbody tr th {\n",
       "        vertical-align: top;\n",
       "    }\n",
       "\n",
       "    .dataframe thead th {\n",
       "        text-align: right;\n",
       "    }\n",
       "</style>\n",
       "<table border=\"1\" class=\"dataframe\">\n",
       "  <thead>\n",
       "    <tr style=\"text-align: right;\">\n",
       "      <th></th>\n",
       "      <th>Total</th>\n",
       "      <th>Lag1</th>\n",
       "      <th>Lag2</th>\n",
       "      <th>Lag3</th>\n",
       "      <th>Lag4</th>\n",
       "    </tr>\n",
       "  </thead>\n",
       "  <tbody>\n",
       "    <tr>\n",
       "      <td>1995-06-01</td>\n",
       "      <td>2803418.0</td>\n",
       "      <td>2532545.0</td>\n",
       "      <td>2422712.0</td>\n",
       "      <td>2842669.0</td>\n",
       "      <td>70562.0</td>\n",
       "    </tr>\n",
       "    <tr>\n",
       "      <td>1995-07-01</td>\n",
       "      <td>2917049.0</td>\n",
       "      <td>2803418.0</td>\n",
       "      <td>2532545.0</td>\n",
       "      <td>2422712.0</td>\n",
       "      <td>2842669.0</td>\n",
       "    </tr>\n",
       "    <tr>\n",
       "      <td>1995-08-01</td>\n",
       "      <td>2933160.0</td>\n",
       "      <td>2917049.0</td>\n",
       "      <td>2803418.0</td>\n",
       "      <td>2532545.0</td>\n",
       "      <td>2422712.0</td>\n",
       "    </tr>\n",
       "    <tr>\n",
       "      <td>1995-09-01</td>\n",
       "      <td>2415564.0</td>\n",
       "      <td>2933160.0</td>\n",
       "      <td>2917049.0</td>\n",
       "      <td>2803418.0</td>\n",
       "      <td>2532545.0</td>\n",
       "    </tr>\n",
       "    <tr>\n",
       "      <td>1995-10-01</td>\n",
       "      <td>2469394.0</td>\n",
       "      <td>2415564.0</td>\n",
       "      <td>2933160.0</td>\n",
       "      <td>2917049.0</td>\n",
       "      <td>2803418.0</td>\n",
       "    </tr>\n",
       "  </tbody>\n",
       "</table>\n",
       "</div>"
      ],
      "text/plain": [
       "                Total       Lag1       Lag2       Lag3       Lag4\n",
       "1995-06-01  2803418.0  2532545.0  2422712.0  2842669.0    70562.0\n",
       "1995-07-01  2917049.0  2803418.0  2532545.0  2422712.0  2842669.0\n",
       "1995-08-01  2933160.0  2917049.0  2803418.0  2532545.0  2422712.0\n",
       "1995-09-01  2415564.0  2933160.0  2917049.0  2803418.0  2532545.0\n",
       "1995-10-01  2469394.0  2415564.0  2933160.0  2917049.0  2803418.0"
      ]
     },
     "execution_count": 7,
     "metadata": {},
     "output_type": "execute_result"
    }
   ],
   "source": [
    "# Make a new shift_df\n",
    "\n",
    "shift_df = pd.DataFrame({'Total':den_pass_df['Total'],\n",
    "                         'Lag1':den_pass_df['Total'].shift(1),\n",
    "                         'Lag2':den_pass_df['Total'].shift(2),\n",
    "                         'Lag3':den_pass_df['Total'].shift(3),\n",
    "                         'Lag4':den_pass_df['Total'].shift(4),\n",
    "                        })\n",
    "\n",
    "shift_df.head(10)\n",
    "\n",
    "shift_df = shift_df.loc['1995-06-01':]\n",
    "shift_df.head()"
   ]
  },
  {
   "cell_type": "code",
   "execution_count": 8,
   "metadata": {},
   "outputs": [
    {
     "data": {
      "text/plain": [
       "0.8958737320454404"
      ]
     },
     "execution_count": 8,
     "metadata": {},
     "output_type": "execute_result"
    }
   ],
   "source": [
    "np.corrcoef(shift_df['Total'],shift_df['Lag1'])[0,1]"
   ]
  },
  {
   "cell_type": "code",
   "execution_count": 9,
   "metadata": {},
   "outputs": [
    {
     "data": {
      "text/plain": [
       "0.6547206852141673"
      ]
     },
     "execution_count": 9,
     "metadata": {},
     "output_type": "execute_result"
    }
   ],
   "source": [
    "np.corrcoef(shift_df['Total'],shift_df['Lag4'])[0,1]"
   ]
  },
  {
   "cell_type": "markdown",
   "metadata": {},
   "source": [
    "## Comparing model performance (pre-class)\n",
    "Now we'll estimate a regression model incorporating the \"Lag1\" variable to see how it affects performance."
   ]
  },
  {
   "cell_type": "code",
   "execution_count": 10,
   "metadata": {},
   "outputs": [
    {
     "data": {
      "text/html": [
       "<div>\n",
       "<style scoped>\n",
       "    .dataframe tbody tr th:only-of-type {\n",
       "        vertical-align: middle;\n",
       "    }\n",
       "\n",
       "    .dataframe tbody tr th {\n",
       "        vertical-align: top;\n",
       "    }\n",
       "\n",
       "    .dataframe thead th {\n",
       "        text-align: right;\n",
       "    }\n",
       "</style>\n",
       "<table border=\"1\" class=\"dataframe\">\n",
       "  <thead>\n",
       "    <tr style=\"text-align: right;\">\n",
       "      <th></th>\n",
       "      <th>Total</th>\n",
       "      <th>Lag1</th>\n",
       "      <th>Lag2</th>\n",
       "      <th>Lag3</th>\n",
       "      <th>Lag4</th>\n",
       "    </tr>\n",
       "  </thead>\n",
       "  <tbody>\n",
       "    <tr>\n",
       "      <td>2020-04-01</td>\n",
       "      <td>299098.0</td>\n",
       "      <td>2923357.0</td>\n",
       "      <td>4908375.0</td>\n",
       "      <td>5198228.0</td>\n",
       "      <td>5788820.0</td>\n",
       "    </tr>\n",
       "    <tr>\n",
       "      <td>2020-05-01</td>\n",
       "      <td>834871.0</td>\n",
       "      <td>299098.0</td>\n",
       "      <td>2923357.0</td>\n",
       "      <td>4908375.0</td>\n",
       "      <td>5198228.0</td>\n",
       "    </tr>\n",
       "    <tr>\n",
       "      <td>2020-06-01</td>\n",
       "      <td>1750368.0</td>\n",
       "      <td>834871.0</td>\n",
       "      <td>299098.0</td>\n",
       "      <td>2923357.0</td>\n",
       "      <td>4908375.0</td>\n",
       "    </tr>\n",
       "    <tr>\n",
       "      <td>2020-07-01</td>\n",
       "      <td>2592277.0</td>\n",
       "      <td>1750368.0</td>\n",
       "      <td>834871.0</td>\n",
       "      <td>299098.0</td>\n",
       "      <td>2923357.0</td>\n",
       "    </tr>\n",
       "    <tr>\n",
       "      <td>2020-08-01</td>\n",
       "      <td>2985560.0</td>\n",
       "      <td>2592277.0</td>\n",
       "      <td>1750368.0</td>\n",
       "      <td>834871.0</td>\n",
       "      <td>299098.0</td>\n",
       "    </tr>\n",
       "  </tbody>\n",
       "</table>\n",
       "</div>"
      ],
      "text/plain": [
       "                Total       Lag1       Lag2       Lag3       Lag4\n",
       "2020-04-01   299098.0  2923357.0  4908375.0  5198228.0  5788820.0\n",
       "2020-05-01   834871.0   299098.0  2923357.0  4908375.0  5198228.0\n",
       "2020-06-01  1750368.0   834871.0   299098.0  2923357.0  4908375.0\n",
       "2020-07-01  2592277.0  1750368.0   834871.0   299098.0  2923357.0\n",
       "2020-08-01  2985560.0  2592277.0  1750368.0   834871.0   299098.0"
      ]
     },
     "execution_count": 10,
     "metadata": {},
     "output_type": "execute_result"
    }
   ],
   "source": [
    "shift_df.tail()"
   ]
  },
  {
   "cell_type": "code",
   "execution_count": 11,
   "metadata": {},
   "outputs": [],
   "source": [
    "# Feature engineer shift_df\n",
    "shift_df['months_open'] = (shift_df.index - pd.Timestamp('1995-02-01'))/pd.Timedelta(30,'D')\n",
    "shift_df['month'] = [i.month for i in shift_df.index]\n",
    "\n",
    "# Estimate Model 0 from Class 20 with only a linear trend\n",
    "m0 = smf.ols('Total ~ months_open',data=shift_df).fit()\n",
    "\n",
    "# Estimate Model 1 from Class 20 with a linear trend and fixed effects for months\n",
    "m1 = smf.ols('Total ~ months_open + C(month)',data=shift_df).fit()\n",
    "\n",
    "# Estimate a new Model 2 with a linear trend and a lagged variable\n",
    "m2 = smf.ols('Total ~ months_open + Lag1',data=shift_df).fit()\n",
    "\n",
    "# Estimate a new Model 3 with a linear trend, fixed effects on months, and a lagged variable\n",
    "m3 = smf.ols('Total ~ months_open + C(month) + Lag1',data=shift_df).fit()\n",
    "\n",
    "# Estimate a new Model 4 with a linear trend, fixed effects on months, and 4 lagged variables\n",
    "m4 = smf.ols('Total ~ months_open + C(month) + Lag1 + Lag2 + Lag3 + Lag4',data=shift_df).fit()"
   ]
  },
  {
   "cell_type": "markdown",
   "metadata": {},
   "source": [
    "Compare the R2 values"
   ]
  },
  {
   "cell_type": "code",
   "execution_count": 12,
   "metadata": {},
   "outputs": [
    {
     "name": "stdout",
     "output_type": "stream",
     "text": [
      "The R2 for m0 is: 0.541\n",
      "The R2 for m1 is: 0.648\n",
      "The R2 for m2 is: 0.812\n",
      "The R2 for m3 is: 0.935\n",
      "The R2 for m4 is: 0.944\n"
     ]
    }
   ],
   "source": [
    "for _i,_m in enumerate([m0,m1,m2,m3,m4]):\n",
    "    print(\"The R2 for m{0} is: {1:.3f}\".format(_i,_m.rsquared))"
   ]
  },
  {
   "cell_type": "markdown",
   "metadata": {},
   "source": [
    "Put the predictions for each model back into `shift_df` to compare."
   ]
  },
  {
   "cell_type": "code",
   "execution_count": 13,
   "metadata": {},
   "outputs": [
    {
     "data": {
      "text/html": [
       "<div>\n",
       "<style scoped>\n",
       "    .dataframe tbody tr th:only-of-type {\n",
       "        vertical-align: middle;\n",
       "    }\n",
       "\n",
       "    .dataframe tbody tr th {\n",
       "        vertical-align: top;\n",
       "    }\n",
       "\n",
       "    .dataframe thead th {\n",
       "        text-align: right;\n",
       "    }\n",
       "</style>\n",
       "<table border=\"1\" class=\"dataframe\">\n",
       "  <thead>\n",
       "    <tr style=\"text-align: right;\">\n",
       "      <th></th>\n",
       "      <th>Total</th>\n",
       "      <th>Lag1</th>\n",
       "      <th>Lag2</th>\n",
       "      <th>Lag3</th>\n",
       "      <th>Lag4</th>\n",
       "      <th>months_open</th>\n",
       "      <th>month</th>\n",
       "      <th>m0</th>\n",
       "      <th>m1</th>\n",
       "      <th>m2</th>\n",
       "      <th>m3</th>\n",
       "      <th>m4</th>\n",
       "    </tr>\n",
       "  </thead>\n",
       "  <tbody>\n",
       "    <tr>\n",
       "      <td>1995-06-01</td>\n",
       "      <td>2803418.0</td>\n",
       "      <td>2532545.0</td>\n",
       "      <td>2422712.0</td>\n",
       "      <td>2842669.0</td>\n",
       "      <td>70562.0</td>\n",
       "      <td>4.000000</td>\n",
       "      <td>6</td>\n",
       "      <td>2.671251e+06</td>\n",
       "      <td>2.983927e+06</td>\n",
       "      <td>2.581690e+06</td>\n",
       "      <td>2.931626e+06</td>\n",
       "      <td>2.837585e+06</td>\n",
       "    </tr>\n",
       "    <tr>\n",
       "      <td>1995-07-01</td>\n",
       "      <td>2917049.0</td>\n",
       "      <td>2803418.0</td>\n",
       "      <td>2532545.0</td>\n",
       "      <td>2422712.0</td>\n",
       "      <td>2842669.0</td>\n",
       "      <td>5.000000</td>\n",
       "      <td>7</td>\n",
       "      <td>2.679352e+06</td>\n",
       "      <td>3.251295e+06</td>\n",
       "      <td>2.795465e+06</td>\n",
       "      <td>3.107893e+06</td>\n",
       "      <td>3.064638e+06</td>\n",
       "    </tr>\n",
       "    <tr>\n",
       "      <td>1995-08-01</td>\n",
       "      <td>2933160.0</td>\n",
       "      <td>2917049.0</td>\n",
       "      <td>2803418.0</td>\n",
       "      <td>2532545.0</td>\n",
       "      <td>2422712.0</td>\n",
       "      <td>6.033333</td>\n",
       "      <td>8</td>\n",
       "      <td>2.687723e+06</td>\n",
       "      <td>3.159090e+06</td>\n",
       "      <td>2.886150e+06</td>\n",
       "      <td>2.871576e+06</td>\n",
       "      <td>2.819144e+06</td>\n",
       "    </tr>\n",
       "    <tr>\n",
       "      <td>1995-09-01</td>\n",
       "      <td>2415564.0</td>\n",
       "      <td>2933160.0</td>\n",
       "      <td>2917049.0</td>\n",
       "      <td>2803418.0</td>\n",
       "      <td>2532545.0</td>\n",
       "      <td>7.066667</td>\n",
       "      <td>9</td>\n",
       "      <td>2.696094e+06</td>\n",
       "      <td>2.615048e+06</td>\n",
       "      <td>2.900462e+06</td>\n",
       "      <td>2.328998e+06</td>\n",
       "      <td>2.383665e+06</td>\n",
       "    </tr>\n",
       "    <tr>\n",
       "      <td>1995-10-01</td>\n",
       "      <td>2469394.0</td>\n",
       "      <td>2415564.0</td>\n",
       "      <td>2933160.0</td>\n",
       "      <td>2917049.0</td>\n",
       "      <td>2803418.0</td>\n",
       "      <td>8.066667</td>\n",
       "      <td>10</td>\n",
       "      <td>2.704195e+06</td>\n",
       "      <td>2.769891e+06</td>\n",
       "      <td>2.496745e+06</td>\n",
       "      <td>2.607670e+06</td>\n",
       "      <td>2.660370e+06</td>\n",
       "    </tr>\n",
       "  </tbody>\n",
       "</table>\n",
       "</div>"
      ],
      "text/plain": [
       "                Total       Lag1       Lag2       Lag3       Lag4  \\\n",
       "1995-06-01  2803418.0  2532545.0  2422712.0  2842669.0    70562.0   \n",
       "1995-07-01  2917049.0  2803418.0  2532545.0  2422712.0  2842669.0   \n",
       "1995-08-01  2933160.0  2917049.0  2803418.0  2532545.0  2422712.0   \n",
       "1995-09-01  2415564.0  2933160.0  2917049.0  2803418.0  2532545.0   \n",
       "1995-10-01  2469394.0  2415564.0  2933160.0  2917049.0  2803418.0   \n",
       "\n",
       "            months_open  month            m0            m1            m2  \\\n",
       "1995-06-01     4.000000      6  2.671251e+06  2.983927e+06  2.581690e+06   \n",
       "1995-07-01     5.000000      7  2.679352e+06  3.251295e+06  2.795465e+06   \n",
       "1995-08-01     6.033333      8  2.687723e+06  3.159090e+06  2.886150e+06   \n",
       "1995-09-01     7.066667      9  2.696094e+06  2.615048e+06  2.900462e+06   \n",
       "1995-10-01     8.066667     10  2.704195e+06  2.769891e+06  2.496745e+06   \n",
       "\n",
       "                      m3            m4  \n",
       "1995-06-01  2.931626e+06  2.837585e+06  \n",
       "1995-07-01  3.107893e+06  3.064638e+06  \n",
       "1995-08-01  2.871576e+06  2.819144e+06  \n",
       "1995-09-01  2.328998e+06  2.383665e+06  \n",
       "1995-10-01  2.607670e+06  2.660370e+06  "
      ]
     },
     "execution_count": 13,
     "metadata": {},
     "output_type": "execute_result"
    }
   ],
   "source": [
    "shift_df['m0'] = m0.predict({'months_open':shift_df['months_open']})\n",
    "\n",
    "shift_df['m1'] = m1.predict({'months_open':shift_df['months_open'],\n",
    "                             'month':shift_df['month']\n",
    "                            })\n",
    "\n",
    "shift_df['m2'] = m2.predict({'months_open':shift_df['months_open'],\n",
    "                             'Lag1':shift_df['Lag1']\n",
    "                            })\n",
    "\n",
    "shift_df['m3'] = m3.predict({'months_open':shift_df['months_open'],\n",
    "                             'month':shift_df['month'],\n",
    "                             'Lag1':shift_df['Lag1']\n",
    "                            })\n",
    "\n",
    "shift_df['m4'] = m4.predict({'months_open':shift_df['months_open'],\n",
    "                             'month':shift_df['month'],\n",
    "                             'Lag1':shift_df['Lag1'],\n",
    "                             'Lag2':shift_df['Lag2'],\n",
    "                             'Lag3':shift_df['Lag3'],\n",
    "                             'Lag4':shift_df['Lag4']\n",
    "                            })\n",
    "\n",
    "shift_df.head()"
   ]
  },
  {
   "cell_type": "markdown",
   "metadata": {},
   "source": [
    "Visualize the model predictions. Note how it's hard to see the differences in the M2, M3, and M4 predictions during the  COVID-19 shutdowns."
   ]
  },
  {
   "cell_type": "code",
   "execution_count": 14,
   "metadata": {},
   "outputs": [
    {
     "data": {
      "text/plain": [
       "<matplotlib.axes._subplots.AxesSubplot at 0x7f951b745d50>"
      ]
     },
     "execution_count": 14,
     "metadata": {},
     "output_type": "execute_result"
    },
    {
     "data": {
      "image/png": "[encoded data removed]",
      "text/plain": [
       "<Figure size 720x360 with 1 Axes>"
      ]
     },
     "metadata": {
      "needs_background": "light"
     },
     "output_type": "display_data"
    }
   ],
   "source": [
    "f,ax = plt.subplots(figsize=(10,5))\n",
    "\n",
    "# \"Zoom in\"\n",
    "_df = shift_df.loc['2015-01-01':]\n",
    "\n",
    "# Visualize the different model predictions against the observed data\n",
    "_df.plot.line(x='months_open',y='Total',c='k',label='Observed',ax=ax,lw=5,zorder=0)\n",
    "_df.plot.line(x='months_open',y='m0',c='tab:blue',label='Linear',ax=ax)\n",
    "_df.plot.line(x='months_open',y='m1',c='tab:orange',label='Linear + Fixed',ax=ax)\n",
    "_df.plot.line(x='months_open',y='m2',c='tab:green',label='Linear + Lagged',ax=ax)\n",
    "_df.plot.line(x='months_open',y='m3',c='tab:red',label='Linear + Fixed + 1 Lag',ax=ax)\n",
    "_df.plot.line(x='months_open',y='m4',c='tab:purple',label='Linear + Fixed + 4 Lags',ax=ax)"
   ]
  },
  {
   "cell_type": "markdown",
   "metadata": {},
   "source": [
    "Residuals are the remaining variance in the data not explained by the model. They are what's \"left over\" that the model couldn't predict. If you subtracted the observed data values from the model predictions, you would get residuals. \n",
    "\n",
    "Plot the residuals to see the errors different models make and how quickly the models with lagged terms catch back up with the observed data during the COVID-19 shutdowns."
   ]
  },
  {
   "cell_type": "code",
   "execution_count": 15,
   "metadata": {},
   "outputs": [
    {
     "data": {
      "text/plain": [
       "<matplotlib.lines.Line2D at 0x7f951b18f8d0>"
      ]
     },
     "execution_count": 15,
     "metadata": {},
     "output_type": "execute_result"
    },
    {
     "data": {
      "image/png": "[encoded data removed]",
      "text/plain": [
       "<Figure size 720x360 with 1 Axes>"
      ]
     },
     "metadata": {
      "needs_background": "light"
     },
     "output_type": "display_data"
    }
   ],
   "source": [
    "residuals_df = pd.DataFrame({'Linear':m0.resid,\n",
    "                             'Linear + Fixed':m1.resid,\n",
    "                             'Linear + Lag':m2.resid,\n",
    "                             'Linear + Fixed + 1 Lag':m3.resid,\n",
    "                             'Linear + Fixed + 4 Lags':m4.resid\n",
    "                            })\n",
    "\n",
    "# Visualize\n",
    "f,ax = plt.subplots(figsize=(10,5))\n",
    "residuals_df.loc['2015-01-01':].plot(ax=ax)\n",
    "\n",
    "# Annotate\n",
    "ax.axhline(0,c='k',ls='--',lw=1)\n",
    "# ax.axvline(pd.Timestamp('2001-09-01'),c='r',ls='--',lw=1)\n",
    "# ax.axvline(pd.Timestamp('2008-09-01'),c='r',ls='--',lw=1)\n",
    "# ax.axvline(pd.Timestamp('2020-04-01'),c='r',ls='--',lw=1)"
   ]
  },
  {
   "cell_type": "markdown",
   "metadata": {},
   "source": [
    "## Autoregressive time-series models (pre-class)\n",
    "\n",
    "The way we specified autoregressive or lagged terms in the model above (\"Lag1\", *etc*.) required a fair bit of work. statsmodels has a class of functions called [`AutoReg`](https://www.statsmodels.org/dev/generated/statsmodels.tsa.ar_model.AutoReg.html) that allow us to estimate autoregression time-series models in a much quicker way than feature engineering with extracting months, creating shifts, specifying model parameters, *etc*. like we did above."
   ]
  },
  {
   "cell_type": "code",
   "execution_count": 16,
   "metadata": {},
   "outputs": [
    {
     "ename": "ImportError",
     "evalue": "cannot import name 'AutoReg' from 'statsmodels.tsa.ar_model' (/Users/briankeegan/anaconda3/lib/python3.7/site-packages/statsmodels/tsa/ar_model.py)",
     "output_type": "error",
     "traceback": [
      "\u001b[0;31m---------------------------------------------------------------------------\u001b[0m",
      "\u001b[0;31mImportError\u001b[0m                               Traceback (most recent call last)",
      "\u001b[0;32m<ipython-input-16-8681a98d2ba6>\u001b[0m in \u001b[0;36m<module>\u001b[0;34m\u001b[0m\n\u001b[0;32m----> 1\u001b[0;31m \u001b[0;32mfrom\u001b[0m \u001b[0mstatsmodels\u001b[0m\u001b[0;34m.\u001b[0m\u001b[0mtsa\u001b[0m\u001b[0;34m.\u001b[0m\u001b[0mar_model\u001b[0m \u001b[0;32mimport\u001b[0m \u001b[0mAutoReg\u001b[0m\u001b[0;34m\u001b[0m\u001b[0;34m\u001b[0m\u001b[0m\n\u001b[0m",
      "\u001b[0;31mImportError\u001b[0m: cannot import name 'AutoReg' from 'statsmodels.tsa.ar_model' (/Users/briankeegan/anaconda3/lib/python3.7/site-packages/statsmodels/tsa/ar_model.py)"
     ]
    }
   ],
   "source": [
    "from statsmodels.tsa.ar_model import AutoReg"
   ]
  },
  {
   "cell_type": "markdown",
   "metadata": {},
   "source": [
    "We specify and fit the a Model 5 (\"m5\") on the original \"Total\" data from `den_pass_df`, and ([following the documentation](https://www.statsmodels.org/dev/generated/statsmodels.tsa.ar_model.AutoReg.html)) specify which lags we want to use (1, like we did above), whether to include a constant and/or trend terms (yes, like we did above), and whether to model seasonality effects (yes, like the fixed effects above).\n",
    "\n",
    "The summary on our fit model has an intercept and trend like we did before (m0 was a simple intercept and trend model) plus modeling seasonality (m1 incorporated fixed effects on month plus trend), and a lag term (m2 incorporated trend and lag). So this model is similar but not identical to model 3. There's no R2 value and other model fit parameters liek AIC, BIC, and log-likelihood can't really be compared to m3."
   ]
  },
  {
   "cell_type": "code",
   "execution_count": 88,
   "metadata": {},
   "outputs": [
    {
     "ename": "TypeError",
     "evalue": "__init__() got an unexpected keyword argument 'lags'",
     "output_type": "error",
     "traceback": [
      "\u001b[0;31m---------------------------------------------------------------------------\u001b[0m",
      "\u001b[0;31mTypeError\u001b[0m                                 Traceback (most recent call last)",
      "\u001b[0;32m<ipython-input-88-4c1fa5b59491>\u001b[0m in \u001b[0;36m<module>\u001b[0;34m\u001b[0m\n\u001b[1;32m      1\u001b[0m \u001b[0mden_total_s\u001b[0m \u001b[0;34m=\u001b[0m \u001b[0mden_pass_df\u001b[0m\u001b[0;34m[\u001b[0m\u001b[0;34m'Total'\u001b[0m\u001b[0;34m]\u001b[0m\u001b[0;34m.\u001b[0m\u001b[0mcopy\u001b[0m\u001b[0;34m(\u001b[0m\u001b[0;34m)\u001b[0m\u001b[0;34m\u001b[0m\u001b[0;34m\u001b[0m\u001b[0m\n\u001b[1;32m      2\u001b[0m \u001b[0;34m\u001b[0m\u001b[0m\n\u001b[0;32m----> 3\u001b[0;31m \u001b[0mm5\u001b[0m \u001b[0;34m=\u001b[0m \u001b[0mAR\u001b[0m\u001b[0;34m(\u001b[0m\u001b[0mden_total_s\u001b[0m\u001b[0;34m,\u001b[0m\u001b[0mlags\u001b[0m\u001b[0;34m=\u001b[0m\u001b[0;34m[\u001b[0m\u001b[0;36m1\u001b[0m\u001b[0;34m]\u001b[0m\u001b[0;34m,\u001b[0m\u001b[0mtrend\u001b[0m\u001b[0;34m=\u001b[0m\u001b[0;34m'ct'\u001b[0m\u001b[0;34m,\u001b[0m\u001b[0mseasonal\u001b[0m\u001b[0;34m=\u001b[0m\u001b[0;32mTrue\u001b[0m\u001b[0;34m)\u001b[0m\u001b[0;34m.\u001b[0m\u001b[0mfit\u001b[0m\u001b[0;34m(\u001b[0m\u001b[0;34m)\u001b[0m\u001b[0;34m\u001b[0m\u001b[0;34m\u001b[0m\u001b[0m\n\u001b[0m",
      "\u001b[0;31mTypeError\u001b[0m: __init__() got an unexpected keyword argument 'lags'"
     ]
    }
   ],
   "source": [
    "den_total_s = den_pass_df['Total'].copy()\n",
    "\n",
    "m5 = AR(den_total_s,lags=[1],trend='ct',seasonal=True).fit()"
   ]
  },
  {
   "cell_type": "markdown",
   "metadata": {},
   "source": [
    "But what we can do is add this model's historical predictions back into the data"
   ]
  },
  {
   "cell_type": "code",
   "execution_count": null,
   "metadata": {},
   "outputs": [],
   "source": []
  },
  {
   "cell_type": "markdown",
   "metadata": {},
   "source": [
    "Visualize the data."
   ]
  },
  {
   "cell_type": "code",
   "execution_count": null,
   "metadata": {},
   "outputs": [],
   "source": []
  },
  {
   "cell_type": "markdown",
   "metadata": {},
   "source": [
    "We can also plot the residuals for the most recent dates. There are massive negative residuals when the COVID-19 shutdowns happen in March and April when the models over-estimate the number of passengers based on the previous trends. But the models with auto-regressive terms (m2, m3, m4, m5) rapidly recover in performance and have more normal residuals within a few months despite the massive disruption."
   ]
  },
  {
   "cell_type": "code",
   "execution_count": null,
   "metadata": {},
   "outputs": [],
   "source": []
  },
  {
   "cell_type": "markdown",
   "metadata": {},
   "source": [
    "We can also visualize m5's forecast going forward."
   ]
  },
  {
   "cell_type": "code",
   "execution_count": null,
   "metadata": {},
   "outputs": [],
   "source": []
  },
  {
   "cell_type": "markdown",
   "metadata": {},
   "source": [
    "We could also use `m5`'s `.plot_predict()` method to visual the range of outcomes that are possible."
   ]
  },
  {
   "cell_type": "code",
   "execution_count": null,
   "metadata": {},
   "outputs": [],
   "source": []
  },
  {
   "cell_type": "markdown",
   "metadata": {},
   "source": [
    "## Forecasting with BEST data (in-class)\n",
    "\n",
    "First: Read in the BEST temperature data, cast the months column to a `Timestamp` or `Period` object, set as an index, and describe the data. Also rename the \"1M Anomaly\" column to \"Anomaly1M\" since this will save some headaches when we get to the statsmodel estimation. Finally, `.fillna(0)` to cast the missing \"1M Anomaly\" data to 0."
   ]
  },
  {
   "cell_type": "code",
   "execution_count": 11,
   "metadata": {},
   "outputs": [
    {
     "name": "stdout",
     "output_type": "stream",
     "text": [
      "(3248, 10)\n"
     ]
    },
    {
     "data": {
      "text/html": [
       "<div>\n",
       "<style scoped>\n",
       "    .dataframe tbody tr th:only-of-type {\n",
       "        vertical-align: middle;\n",
       "    }\n",
       "\n",
       "    .dataframe tbody tr th {\n",
       "        vertical-align: top;\n",
       "    }\n",
       "\n",
       "    .dataframe thead th {\n",
       "        text-align: right;\n",
       "    }\n",
       "</style>\n",
       "<table border=\"1\" class=\"dataframe\">\n",
       "  <thead>\n",
       "    <tr style=\"text-align: right;\">\n",
       "      <th></th>\n",
       "      <th>A1M</th>\n",
       "      <th>1M Uncertainty</th>\n",
       "      <th>A1Y</th>\n",
       "      <th>1Y Uncertainty</th>\n",
       "      <th>A5Y</th>\n",
       "      <th>5Y Uncertainty</th>\n",
       "      <th>A10Y</th>\n",
       "      <th>10Y Uncertainty</th>\n",
       "      <th>20Y Anomaly</th>\n",
       "      <th>20Y Uncertainty</th>\n",
       "    </tr>\n",
       "    <tr>\n",
       "      <th>Date</th>\n",
       "      <th></th>\n",
       "      <th></th>\n",
       "      <th></th>\n",
       "      <th></th>\n",
       "      <th></th>\n",
       "      <th></th>\n",
       "      <th></th>\n",
       "      <th></th>\n",
       "      <th></th>\n",
       "      <th></th>\n",
       "    </tr>\n",
       "  </thead>\n",
       "  <tbody>\n",
       "    <tr>\n",
       "      <td>1750-01-01</td>\n",
       "      <td>-0.652</td>\n",
       "      <td>3.925</td>\n",
       "      <td>NaN</td>\n",
       "      <td>NaN</td>\n",
       "      <td>NaN</td>\n",
       "      <td>NaN</td>\n",
       "      <td>NaN</td>\n",
       "      <td>NaN</td>\n",
       "      <td>NaN</td>\n",
       "      <td>NaN</td>\n",
       "    </tr>\n",
       "    <tr>\n",
       "      <td>1750-02-01</td>\n",
       "      <td>-1.223</td>\n",
       "      <td>4.059</td>\n",
       "      <td>-1.052</td>\n",
       "      <td>NaN</td>\n",
       "      <td>NaN</td>\n",
       "      <td>NaN</td>\n",
       "      <td>NaN</td>\n",
       "      <td>NaN</td>\n",
       "      <td>NaN</td>\n",
       "      <td>NaN</td>\n",
       "    </tr>\n",
       "    <tr>\n",
       "      <td>1750-03-01</td>\n",
       "      <td>0.065</td>\n",
       "      <td>3.250</td>\n",
       "      <td>-1.078</td>\n",
       "      <td>NaN</td>\n",
       "      <td>NaN</td>\n",
       "      <td>NaN</td>\n",
       "      <td>NaN</td>\n",
       "      <td>NaN</td>\n",
       "      <td>NaN</td>\n",
       "      <td>NaN</td>\n",
       "    </tr>\n",
       "    <tr>\n",
       "      <td>1750-04-01</td>\n",
       "      <td>-0.399</td>\n",
       "      <td>2.059</td>\n",
       "      <td>-1.108</td>\n",
       "      <td>NaN</td>\n",
       "      <td>NaN</td>\n",
       "      <td>NaN</td>\n",
       "      <td>NaN</td>\n",
       "      <td>NaN</td>\n",
       "      <td>NaN</td>\n",
       "      <td>NaN</td>\n",
       "    </tr>\n",
       "    <tr>\n",
       "      <td>1750-05-01</td>\n",
       "      <td>-1.838</td>\n",
       "      <td>3.638</td>\n",
       "      <td>-1.420</td>\n",
       "      <td>NaN</td>\n",
       "      <td>NaN</td>\n",
       "      <td>NaN</td>\n",
       "      <td>NaN</td>\n",
       "      <td>NaN</td>\n",
       "      <td>NaN</td>\n",
       "      <td>NaN</td>\n",
       "    </tr>\n",
       "  </tbody>\n",
       "</table>\n",
       "</div>"
      ],
      "text/plain": [
       "              A1M  1M Uncertainty    A1Y  1Y Uncertainty  A5Y  5Y Uncertainty  \\\n",
       "Date                                                                            \n",
       "1750-01-01 -0.652           3.925    NaN             NaN  NaN             NaN   \n",
       "1750-02-01 -1.223           4.059 -1.052             NaN  NaN             NaN   \n",
       "1750-03-01  0.065           3.250 -1.078             NaN  NaN             NaN   \n",
       "1750-04-01 -0.399           2.059 -1.108             NaN  NaN             NaN   \n",
       "1750-05-01 -1.838           3.638 -1.420             NaN  NaN             NaN   \n",
       "\n",
       "            A10Y  10Y Uncertainty  20Y Anomaly  20Y Uncertainty  \n",
       "Date                                                             \n",
       "1750-01-01   NaN              NaN          NaN              NaN  \n",
       "1750-02-01   NaN              NaN          NaN              NaN  \n",
       "1750-03-01   NaN              NaN          NaN              NaN  \n",
       "1750-04-01   NaN              NaN          NaN              NaN  \n",
       "1750-05-01   NaN              NaN          NaN              NaN  "
      ]
     },
     "execution_count": 11,
     "metadata": {},
     "output_type": "execute_result"
    }
   ],
   "source": [
    "best_df = pd.read_csv('berkeley_temps.csv',parse_dates=['Date'])\n",
    "\n",
    "best_df.set_index('Date', inplace = True)\n",
    "\n",
    "best_df.reindex(pd.date_range('1750-01-01','2020-08-01',freq='MS'),fill_value=0)\n",
    "\n",
    "print(best_df.shape)\n",
    "\n",
    "# Range columns\n",
    "best_df.rename(columns={'1M Anomaly':'A1M', \"1Y Anomaly\": 'A1Y', \"5Y Anomaly\": \"A5Y\", \"10Y Anomaly\": \"A10Y\", \"A20Y Anomaly\": \"A20Y\"}, inplace = True)\n",
    "#best_df[\"A1M\"].fillna \n",
    "best_df.head()"
   ]
  },
  {
   "cell_type": "markdown",
   "metadata": {},
   "source": [
    "Second: Make a plot of the \"1M anomaly\" data (ideally really wide). Also experiment with the 1Y, 5Y and other windows."
   ]
  },
  {
   "cell_type": "code",
   "execution_count": 13,
   "metadata": {},
   "outputs": [
    {
     "ename": "KeyError",
     "evalue": "'A20Y'",
     "output_type": "error",
     "traceback": [
      "\u001b[1;31m---------------------------------------------------------------------------\u001b[0m",
      "\u001b[1;31mKeyError\u001b[0m                                  Traceback (most recent call last)",
      "\u001b[1;32mC:\\Anaconda App\\lib\\site-packages\\pandas\\core\\indexes\\base.py\u001b[0m in \u001b[0;36mget_loc\u001b[1;34m(self, key, method, tolerance)\u001b[0m\n\u001b[0;32m   2896\u001b[0m             \u001b[1;32mtry\u001b[0m\u001b[1;33m:\u001b[0m\u001b[1;33m\u001b[0m\u001b[1;33m\u001b[0m\u001b[0m\n\u001b[1;32m-> 2897\u001b[1;33m                 \u001b[1;32mreturn\u001b[0m \u001b[0mself\u001b[0m\u001b[1;33m.\u001b[0m\u001b[0m_engine\u001b[0m\u001b[1;33m.\u001b[0m\u001b[0mget_loc\u001b[0m\u001b[1;33m(\u001b[0m\u001b[0mkey\u001b[0m\u001b[1;33m)\u001b[0m\u001b[1;33m\u001b[0m\u001b[1;33m\u001b[0m\u001b[0m\n\u001b[0m\u001b[0;32m   2898\u001b[0m             \u001b[1;32mexcept\u001b[0m \u001b[0mKeyError\u001b[0m\u001b[1;33m:\u001b[0m\u001b[1;33m\u001b[0m\u001b[1;33m\u001b[0m\u001b[0m\n",
      "\u001b[1;32mpandas\\_libs\\index.pyx\u001b[0m in \u001b[0;36mpandas._libs.index.IndexEngine.get_loc\u001b[1;34m()\u001b[0m\n",
      "\u001b[1;32mpandas\\_libs\\index.pyx\u001b[0m in \u001b[0;36mpandas._libs.index.IndexEngine.get_loc\u001b[1;34m()\u001b[0m\n",
      "\u001b[1;32mpandas\\_libs\\hashtable_class_helper.pxi\u001b[0m in \u001b[0;36mpandas._libs.hashtable.PyObjectHashTable.get_item\u001b[1;34m()\u001b[0m\n",
      "\u001b[1;32mpandas\\_libs\\hashtable_class_helper.pxi\u001b[0m in \u001b[0;36mpandas._libs.hashtable.PyObjectHashTable.get_item\u001b[1;34m()\u001b[0m\n",
      "\u001b[1;31mKeyError\u001b[0m: 'A20Y'",
      "\nDuring handling of the above exception, another exception occurred:\n",
      "\u001b[1;31mKeyError\u001b[0m                                  Traceback (most recent call last)",
      "\u001b[1;32m<ipython-input-13-a0d8d7596fd1>\u001b[0m in \u001b[0;36m<module>\u001b[1;34m\u001b[0m\n\u001b[0;32m      1\u001b[0m \u001b[0mf\u001b[0m\u001b[1;33m,\u001b[0m \u001b[0max\u001b[0m \u001b[1;33m=\u001b[0m \u001b[0mplt\u001b[0m\u001b[1;33m.\u001b[0m\u001b[0msubplots\u001b[0m\u001b[1;33m(\u001b[0m\u001b[0mfigsize\u001b[0m\u001b[1;33m=\u001b[0m\u001b[1;33m(\u001b[0m\u001b[1;36m20\u001b[0m\u001b[1;33m,\u001b[0m\u001b[1;36m5\u001b[0m\u001b[1;33m)\u001b[0m\u001b[1;33m)\u001b[0m\u001b[1;33m\u001b[0m\u001b[1;33m\u001b[0m\u001b[0m\n\u001b[1;32m----> 2\u001b[1;33m \u001b[0mbest_df\u001b[0m\u001b[1;33m[\u001b[0m\u001b[1;34m\"A20Y\"\u001b[0m\u001b[1;33m]\u001b[0m\u001b[1;33m.\u001b[0m\u001b[0mplot\u001b[0m\u001b[1;33m(\u001b[0m\u001b[0max\u001b[0m\u001b[1;33m=\u001b[0m\u001b[0max\u001b[0m\u001b[1;33m)\u001b[0m\u001b[1;33m\u001b[0m\u001b[1;33m\u001b[0m\u001b[0m\n\u001b[0m\u001b[0;32m      3\u001b[0m \u001b[0max\u001b[0m\u001b[1;33m.\u001b[0m\u001b[0mset_ylabel\u001b[0m\u001b[1;33m(\u001b[0m\u001b[1;34m'Temperature anomaly'\u001b[0m\u001b[1;33m)\u001b[0m\u001b[1;33m\u001b[0m\u001b[1;33m\u001b[0m\u001b[0m\n",
      "\u001b[1;32mC:\\Anaconda App\\lib\\site-packages\\pandas\\core\\frame.py\u001b[0m in \u001b[0;36m__getitem__\u001b[1;34m(self, key)\u001b[0m\n\u001b[0;32m   2978\u001b[0m             \u001b[1;32mif\u001b[0m \u001b[0mself\u001b[0m\u001b[1;33m.\u001b[0m\u001b[0mcolumns\u001b[0m\u001b[1;33m.\u001b[0m\u001b[0mnlevels\u001b[0m \u001b[1;33m>\u001b[0m \u001b[1;36m1\u001b[0m\u001b[1;33m:\u001b[0m\u001b[1;33m\u001b[0m\u001b[1;33m\u001b[0m\u001b[0m\n\u001b[0;32m   2979\u001b[0m                 \u001b[1;32mreturn\u001b[0m \u001b[0mself\u001b[0m\u001b[1;33m.\u001b[0m\u001b[0m_getitem_multilevel\u001b[0m\u001b[1;33m(\u001b[0m\u001b[0mkey\u001b[0m\u001b[1;33m)\u001b[0m\u001b[1;33m\u001b[0m\u001b[1;33m\u001b[0m\u001b[0m\n\u001b[1;32m-> 2980\u001b[1;33m             \u001b[0mindexer\u001b[0m \u001b[1;33m=\u001b[0m \u001b[0mself\u001b[0m\u001b[1;33m.\u001b[0m\u001b[0mcolumns\u001b[0m\u001b[1;33m.\u001b[0m\u001b[0mget_loc\u001b[0m\u001b[1;33m(\u001b[0m\u001b[0mkey\u001b[0m\u001b[1;33m)\u001b[0m\u001b[1;33m\u001b[0m\u001b[1;33m\u001b[0m\u001b[0m\n\u001b[0m\u001b[0;32m   2981\u001b[0m             \u001b[1;32mif\u001b[0m \u001b[0mis_integer\u001b[0m\u001b[1;33m(\u001b[0m\u001b[0mindexer\u001b[0m\u001b[1;33m)\u001b[0m\u001b[1;33m:\u001b[0m\u001b[1;33m\u001b[0m\u001b[1;33m\u001b[0m\u001b[0m\n\u001b[0;32m   2982\u001b[0m                 \u001b[0mindexer\u001b[0m \u001b[1;33m=\u001b[0m \u001b[1;33m[\u001b[0m\u001b[0mindexer\u001b[0m\u001b[1;33m]\u001b[0m\u001b[1;33m\u001b[0m\u001b[1;33m\u001b[0m\u001b[0m\n",
      "\u001b[1;32mC:\\Anaconda App\\lib\\site-packages\\pandas\\core\\indexes\\base.py\u001b[0m in \u001b[0;36mget_loc\u001b[1;34m(self, key, method, tolerance)\u001b[0m\n\u001b[0;32m   2897\u001b[0m                 \u001b[1;32mreturn\u001b[0m \u001b[0mself\u001b[0m\u001b[1;33m.\u001b[0m\u001b[0m_engine\u001b[0m\u001b[1;33m.\u001b[0m\u001b[0mget_loc\u001b[0m\u001b[1;33m(\u001b[0m\u001b[0mkey\u001b[0m\u001b[1;33m)\u001b[0m\u001b[1;33m\u001b[0m\u001b[1;33m\u001b[0m\u001b[0m\n\u001b[0;32m   2898\u001b[0m             \u001b[1;32mexcept\u001b[0m \u001b[0mKeyError\u001b[0m\u001b[1;33m:\u001b[0m\u001b[1;33m\u001b[0m\u001b[1;33m\u001b[0m\u001b[0m\n\u001b[1;32m-> 2899\u001b[1;33m                 \u001b[1;32mreturn\u001b[0m \u001b[0mself\u001b[0m\u001b[1;33m.\u001b[0m\u001b[0m_engine\u001b[0m\u001b[1;33m.\u001b[0m\u001b[0mget_loc\u001b[0m\u001b[1;33m(\u001b[0m\u001b[0mself\u001b[0m\u001b[1;33m.\u001b[0m\u001b[0m_maybe_cast_indexer\u001b[0m\u001b[1;33m(\u001b[0m\u001b[0mkey\u001b[0m\u001b[1;33m)\u001b[0m\u001b[1;33m)\u001b[0m\u001b[1;33m\u001b[0m\u001b[1;33m\u001b[0m\u001b[0m\n\u001b[0m\u001b[0;32m   2900\u001b[0m         \u001b[0mindexer\u001b[0m \u001b[1;33m=\u001b[0m \u001b[0mself\u001b[0m\u001b[1;33m.\u001b[0m\u001b[0mget_indexer\u001b[0m\u001b[1;33m(\u001b[0m\u001b[1;33m[\u001b[0m\u001b[0mkey\u001b[0m\u001b[1;33m]\u001b[0m\u001b[1;33m,\u001b[0m \u001b[0mmethod\u001b[0m\u001b[1;33m=\u001b[0m\u001b[0mmethod\u001b[0m\u001b[1;33m,\u001b[0m \u001b[0mtolerance\u001b[0m\u001b[1;33m=\u001b[0m\u001b[0mtolerance\u001b[0m\u001b[1;33m)\u001b[0m\u001b[1;33m\u001b[0m\u001b[1;33m\u001b[0m\u001b[0m\n\u001b[0;32m   2901\u001b[0m         \u001b[1;32mif\u001b[0m \u001b[0mindexer\u001b[0m\u001b[1;33m.\u001b[0m\u001b[0mndim\u001b[0m \u001b[1;33m>\u001b[0m \u001b[1;36m1\u001b[0m \u001b[1;32mor\u001b[0m \u001b[0mindexer\u001b[0m\u001b[1;33m.\u001b[0m\u001b[0msize\u001b[0m \u001b[1;33m>\u001b[0m \u001b[1;36m1\u001b[0m\u001b[1;33m:\u001b[0m\u001b[1;33m\u001b[0m\u001b[1;33m\u001b[0m\u001b[0m\n",
      "\u001b[1;32mpandas\\_libs\\index.pyx\u001b[0m in \u001b[0;36mpandas._libs.index.IndexEngine.get_loc\u001b[1;34m()\u001b[0m\n",
      "\u001b[1;32mpandas\\_libs\\index.pyx\u001b[0m in \u001b[0;36mpandas._libs.index.IndexEngine.get_loc\u001b[1;34m()\u001b[0m\n",
      "\u001b[1;32mpandas\\_libs\\hashtable_class_helper.pxi\u001b[0m in \u001b[0;36mpandas._libs.hashtable.PyObjectHashTable.get_item\u001b[1;34m()\u001b[0m\n",
      "\u001b[1;32mpandas\\_libs\\hashtable_class_helper.pxi\u001b[0m in \u001b[0;36mpandas._libs.hashtable.PyObjectHashTable.get_item\u001b[1;34m()\u001b[0m\n",
      "\u001b[1;31mKeyError\u001b[0m: 'A20Y'"
     ]
    },
    {
     "data": {
      "image/png": "[encoded data removed]",
      "text/plain": [
       "<Figure size 1440x360 with 1 Axes>"
      ]
     },
     "metadata": {
      "needs_background": "light"
     },
     "output_type": "display_data"
    }
   ],
   "source": [
    "f, ax = plt.subplots(figsize=(20,5))\n",
    "best_df[\"A20Y\"].plot(ax=ax)\n",
    "ax.set_ylabel('Temperature anomaly')"
   ]
  },
  {
   "cell_type": "markdown",
   "metadata": {},
   "source": [
    "Third: make a new column \"elapsed\" that (similar to the \"months_open\" variable from above) where the values are `float`s of the number of days since January 1750."
   ]
  },
  {
   "cell_type": "code",
   "execution_count": 18,
   "metadata": {},
   "outputs": [
    {
     "ename": "NameError",
     "evalue": "name 'best' is not defined",
     "output_type": "error",
     "traceback": [
      "\u001b[1;31m---------------------------------------------------------------------------\u001b[0m",
      "\u001b[1;31mNameError\u001b[0m                                 Traceback (most recent call last)",
      "\u001b[1;32m<ipython-input-18-e89ebedfd7a9>\u001b[0m in \u001b[0;36m<module>\u001b[1;34m\u001b[0m\n\u001b[0;32m      1\u001b[0m \u001b[1;31m#best_df.index - pd.Timestamp('1750-01-01') /\u001b[0m\u001b[1;33m\u001b[0m\u001b[1;33m\u001b[0m\u001b[1;33m\u001b[0m\u001b[0m\n\u001b[0;32m      2\u001b[0m \u001b[0mbest_df\u001b[0m\u001b[1;33m[\u001b[0m\u001b[1;34m\"elapsed\"\u001b[0m\u001b[1;33m]\u001b[0m \u001b[1;33m=\u001b[0m \u001b[1;33m(\u001b[0m\u001b[0mbest_df\u001b[0m\u001b[1;33m.\u001b[0m\u001b[0mindex\u001b[0m \u001b[1;33m-\u001b[0m \u001b[0mpd\u001b[0m\u001b[1;33m.\u001b[0m\u001b[0mTimestamp\u001b[0m\u001b[1;33m(\u001b[0m\u001b[1;34m'1750-01-01'\u001b[0m\u001b[1;33m)\u001b[0m\u001b[1;33m)\u001b[0m \u001b[1;33m/\u001b[0m \u001b[0mpd\u001b[0m\u001b[1;33m.\u001b[0m\u001b[0mTimedelta\u001b[0m\u001b[1;33m(\u001b[0m\u001b[1;36m30\u001b[0m\u001b[1;33m,\u001b[0m\u001b[1;34m'D'\u001b[0m\u001b[1;33m)\u001b[0m\u001b[1;33m\u001b[0m\u001b[1;33m\u001b[0m\u001b[0m\n\u001b[1;32m----> 3\u001b[1;33m \u001b[0mbest\u001b[0m\u001b[1;33m[\u001b[0m\u001b[1;34m'month'\u001b[0m\u001b[1;33m]\u001b[0m \u001b[1;33m=\u001b[0m \u001b[1;33m[\u001b[0m\u001b[0mi\u001b[0m\u001b[1;33m.\u001b[0m\u001b[0mmonth\u001b[0m \u001b[1;32mfor\u001b[0m \u001b[0mi\u001b[0m \u001b[1;32min\u001b[0m \u001b[0mbest_df\u001b[0m\u001b[1;33m.\u001b[0m\u001b[0mindex\u001b[0m\u001b[1;33m]\u001b[0m\u001b[1;33m\u001b[0m\u001b[1;33m\u001b[0m\u001b[0m\n\u001b[0m\u001b[0;32m      4\u001b[0m \u001b[1;33m\u001b[0m\u001b[0m\n\u001b[0;32m      5\u001b[0m \u001b[0mbest_df\u001b[0m\u001b[1;33m.\u001b[0m\u001b[0mhead\u001b[0m\u001b[1;33m(\u001b[0m\u001b[1;33m)\u001b[0m\u001b[1;33m\u001b[0m\u001b[1;33m\u001b[0m\u001b[0m\n",
      "\u001b[1;31mNameError\u001b[0m: name 'best' is not defined"
     ]
    }
   ],
   "source": [
    "#best_df.index - pd.Timestamp('1750-01-01') / \n",
    "best_df[\"elapsed\"] = (best_df.index - pd.Timestamp('1750-01-01')) / pd.Timedelta(30,'D')\n",
    "best['month'] = [i.month for i in best_df.index]\n",
    "\n",
    "best_df.head()"
   ]
  },
  {
   "cell_type": "markdown",
   "metadata": {},
   "source": [
    "Fourth: use statsmodel's formula functionality to specify an estimate a simple regression model using the \"elapsed\" as a predictor and the \"1M anomaly\" as an outcome variable. Alternatively, estimate a more advanced regression model that includes fixed effects on the month. Or an autoregressive term."
   ]
  },
  {
   "cell_type": "code",
   "execution_count": 17,
   "metadata": {},
   "outputs": [
    {
     "data": {
      "text/html": [
       "<table class=\"simpletable\">\n",
       "<caption>OLS Regression Results</caption>\n",
       "<tr>\n",
       "  <th>Dep. Variable:</th>           <td>A1Y</td>       <th>  R-squared:         </th> <td>   0.593</td>\n",
       "</tr>\n",
       "<tr>\n",
       "  <th>Model:</th>                   <td>OLS</td>       <th>  Adj. R-squared:    </th> <td>   0.593</td>\n",
       "</tr>\n",
       "<tr>\n",
       "  <th>Method:</th>             <td>Least Squares</td>  <th>  F-statistic:       </th> <td>   4711.</td>\n",
       "</tr>\n",
       "<tr>\n",
       "  <th>Date:</th>             <td>Fri, 09 Oct 2020</td> <th>  Prob (F-statistic):</th>  <td>  0.00</td> \n",
       "</tr>\n",
       "<tr>\n",
       "  <th>Time:</th>                 <td>10:44:47</td>     <th>  Log-Likelihood:    </th> <td> -1661.2</td>\n",
       "</tr>\n",
       "<tr>\n",
       "  <th>No. Observations:</th>      <td>  3229</td>      <th>  AIC:               </th> <td>   3326.</td>\n",
       "</tr>\n",
       "<tr>\n",
       "  <th>Df Residuals:</th>          <td>  3227</td>      <th>  BIC:               </th> <td>   3339.</td>\n",
       "</tr>\n",
       "<tr>\n",
       "  <th>Df Model:</th>              <td>     1</td>      <th>                     </th>     <td> </td>   \n",
       "</tr>\n",
       "<tr>\n",
       "  <th>Covariance Type:</th>      <td>nonrobust</td>    <th>                     </th>     <td> </td>   \n",
       "</tr>\n",
       "</table>\n",
       "<table class=\"simpletable\">\n",
       "<tr>\n",
       "      <td></td>         <th>coef</th>     <th>std err</th>      <th>t</th>      <th>P>|t|</th>  <th>[0.025</th>    <th>0.975]</th>  \n",
       "</tr>\n",
       "<tr>\n",
       "  <th>Intercept</th> <td>   -1.1476</td> <td>    0.014</td> <td>  -80.080</td> <td> 0.000</td> <td>   -1.176</td> <td>   -1.119</td>\n",
       "</tr>\n",
       "<tr>\n",
       "  <th>elapsed</th>   <td>    0.0005</td> <td> 7.53e-06</td> <td>   68.640</td> <td> 0.000</td> <td>    0.001</td> <td>    0.001</td>\n",
       "</tr>\n",
       "</table>\n",
       "<table class=\"simpletable\">\n",
       "<tr>\n",
       "  <th>Omnibus:</th>       <td>110.340</td> <th>  Durbin-Watson:     </th> <td>   0.045</td>\n",
       "</tr>\n",
       "<tr>\n",
       "  <th>Prob(Omnibus):</th> <td> 0.000</td>  <th>  Jarque-Bera (JB):  </th> <td> 175.472</td>\n",
       "</tr>\n",
       "<tr>\n",
       "  <th>Skew:</th>          <td> 0.311</td>  <th>  Prob(JB):          </th> <td>7.88e-39</td>\n",
       "</tr>\n",
       "<tr>\n",
       "  <th>Kurtosis:</th>      <td> 3.957</td>  <th>  Cond. No.          </th> <td>3.83e+03</td>\n",
       "</tr>\n",
       "</table><br/><br/>Warnings:<br/>[1] Standard Errors assume that the covariance matrix of the errors is correctly specified.<br/>[2] The condition number is large, 3.83e+03. This might indicate that there are<br/>strong multicollinearity or other numerical problems."
      ],
      "text/plain": [
       "<class 'statsmodels.iolib.summary.Summary'>\n",
       "\"\"\"\n",
       "                            OLS Regression Results                            \n",
       "==============================================================================\n",
       "Dep. Variable:                    A1Y   R-squared:                       0.593\n",
       "Model:                            OLS   Adj. R-squared:                  0.593\n",
       "Method:                 Least Squares   F-statistic:                     4711.\n",
       "Date:                Fri, 09 Oct 2020   Prob (F-statistic):               0.00\n",
       "Time:                        10:44:47   Log-Likelihood:                -1661.2\n",
       "No. Observations:                3229   AIC:                             3326.\n",
       "Df Residuals:                    3227   BIC:                             3339.\n",
       "Df Model:                           1                                         \n",
       "Covariance Type:            nonrobust                                         \n",
       "==============================================================================\n",
       "                 coef    std err          t      P>|t|      [0.025      0.975]\n",
       "------------------------------------------------------------------------------\n",
       "Intercept     -1.1476      0.014    -80.080      0.000      -1.176      -1.119\n",
       "elapsed        0.0005   7.53e-06     68.640      0.000       0.001       0.001\n",
       "==============================================================================\n",
       "Omnibus:                      110.340   Durbin-Watson:                   0.045\n",
       "Prob(Omnibus):                  0.000   Jarque-Bera (JB):              175.472\n",
       "Skew:                           0.311   Prob(JB):                     7.88e-39\n",
       "Kurtosis:                       3.957   Cond. No.                     3.83e+03\n",
       "==============================================================================\n",
       "\n",
       "Warnings:\n",
       "[1] Standard Errors assume that the covariance matrix of the errors is correctly specified.\n",
       "[2] The condition number is large, 3.83e+03. This might indicate that there are\n",
       "strong multicollinearity or other numerical problems.\n",
       "\"\"\""
      ]
     },
     "execution_count": 17,
     "metadata": {},
     "output_type": "execute_result"
    }
   ],
   "source": [
    "best_m0 = smf.ols('A1Y ~ elapsed', data = best_df).fit()\n",
    "best_m0.summary()"
   ]
  },
  {
   "cell_type": "markdown",
   "metadata": {},
   "source": [
    "Fifth: interpret the estimated parameters and performance of this regression model."
   ]
  },
  {
   "cell_type": "code",
   "execution_count": null,
   "metadata": {},
   "outputs": [],
   "source": [
    "best_m1 = smf.ols(\"A1Y \")"
   ]
  },
  {
   "cell_type": "markdown",
   "metadata": {},
   "source": [
    "Sixth: make a new DataFrame that goes a few years/decades into the future. Use the `.predict()` method on the fitted model from step 4 with the extended dates to forecast the future temperatures."
   ]
  },
  {
   "cell_type": "code",
   "execution_count": 19,
   "metadata": {},
   "outputs": [
    {
     "ename": "AttributeError",
     "evalue": "module 'pandas' has no attribute 'DateFrame'",
     "output_type": "error",
     "traceback": [
      "\u001b[1;31m---------------------------------------------------------------------------\u001b[0m",
      "\u001b[1;31mAttributeError\u001b[0m                            Traceback (most recent call last)",
      "\u001b[1;32m<ipython-input-19-ec8f079952b1>\u001b[0m in \u001b[0;36m<module>\u001b[1;34m\u001b[0m\n\u001b[0;32m      2\u001b[0m \u001b[0m_future\u001b[0m \u001b[1;33m=\u001b[0m \u001b[1;33m(\u001b[0m\u001b[0m_future\u001b[0m \u001b[1;33m-\u001b[0m \u001b[0mpd\u001b[0m\u001b[1;33m.\u001b[0m\u001b[0mTimestamp\u001b[0m\u001b[1;33m(\u001b[0m\u001b[1;34m'1750-01-01'\u001b[0m\u001b[1;33m)\u001b[0m\u001b[1;33m)\u001b[0m \u001b[1;33m/\u001b[0m \u001b[0mpd\u001b[0m\u001b[1;33m.\u001b[0m\u001b[0mTimedelta\u001b[0m\u001b[1;33m(\u001b[0m\u001b[1;36m30\u001b[0m\u001b[1;33m,\u001b[0m\u001b[1;34m'D'\u001b[0m\u001b[1;33m)\u001b[0m\u001b[1;33m\u001b[0m\u001b[1;33m\u001b[0m\u001b[0m\n\u001b[0;32m      3\u001b[0m \u001b[1;33m\u001b[0m\u001b[0m\n\u001b[1;32m----> 4\u001b[1;33m \u001b[0mbest_future_df\u001b[0m \u001b[1;33m=\u001b[0m \u001b[0mpd\u001b[0m\u001b[1;33m.\u001b[0m\u001b[0mDateFrame\u001b[0m\u001b[1;33m(\u001b[0m\u001b[1;33m{\u001b[0m\u001b[1;34m'elapsed'\u001b[0m\u001b[1;33m:\u001b[0m\u001b[0m_future_elapsed\u001b[0m\u001b[1;33m}\u001b[0m\u001b[1;33m,\u001b[0m \u001b[0mindex\u001b[0m \u001b[1;33m=\u001b[0m \u001b[0m_future\u001b[0m\u001b[1;33m)\u001b[0m\u001b[1;33m\u001b[0m\u001b[1;33m\u001b[0m\u001b[0m\n\u001b[0m\u001b[0;32m      5\u001b[0m \u001b[1;33m\u001b[0m\u001b[0m\n\u001b[0;32m      6\u001b[0m \u001b[0mbest_future_df\u001b[0m\u001b[1;33m.\u001b[0m\u001b[0mtail\u001b[0m\u001b[1;33m(\u001b[0m\u001b[1;33m)\u001b[0m\u001b[1;33m\u001b[0m\u001b[1;33m\u001b[0m\u001b[0m\n",
      "\u001b[1;32mC:\\Anaconda App\\lib\\site-packages\\pandas\\__init__.py\u001b[0m in \u001b[0;36m__getattr__\u001b[1;34m(name)\u001b[0m\n\u001b[0;32m    212\u001b[0m \u001b[1;33m\u001b[0m\u001b[0m\n\u001b[0;32m    213\u001b[0m             \u001b[1;32mreturn\u001b[0m \u001b[0mPanel\u001b[0m\u001b[1;33m\u001b[0m\u001b[1;33m\u001b[0m\u001b[0m\n\u001b[1;32m--> 214\u001b[1;33m         \u001b[1;32mraise\u001b[0m \u001b[0mAttributeError\u001b[0m\u001b[1;33m(\u001b[0m\u001b[1;34m\"module 'pandas' has no attribute '{}'\"\u001b[0m\u001b[1;33m.\u001b[0m\u001b[0mformat\u001b[0m\u001b[1;33m(\u001b[0m\u001b[0mname\u001b[0m\u001b[1;33m)\u001b[0m\u001b[1;33m)\u001b[0m\u001b[1;33m\u001b[0m\u001b[1;33m\u001b[0m\u001b[0m\n\u001b[0m\u001b[0;32m    215\u001b[0m \u001b[1;33m\u001b[0m\u001b[0m\n\u001b[0;32m    216\u001b[0m \u001b[1;33m\u001b[0m\u001b[0m\n",
      "\u001b[1;31mAttributeError\u001b[0m: module 'pandas' has no attribute 'DateFrame'"
     ]
    }
   ],
   "source": [
    "_future = pd.date_range('2000-01-01','2040-01-01',freq='MS')\n",
    "_future = (_future - pd.Timestamp('1750-01-01')) / pd.Timedelta(30,'D')\n",
    "\n",
    "best_future_df = pd.DateFrame({'elapsed':_future_elapsed}, index = _future)\n",
    "\n",
    "best_future_df.tail()"
   ]
  },
  {
   "cell_type": "code",
   "execution_count": null,
   "metadata": {},
   "outputs": [],
   "source": []
  },
  {
   "cell_type": "markdown",
   "metadata": {},
   "source": [
    "Seventh: visualize the model predictions going into the future."
   ]
  },
  {
   "cell_type": "code",
   "execution_count": null,
   "metadata": {},
   "outputs": [],
   "source": []
  },
  {
   "cell_type": "markdown",
   "metadata": {},
   "source": [
    "Use the autoregression model we introduced in this lecture instead."
   ]
  },
  {
   "cell_type": "code",
   "execution_count": null,
   "metadata": {},
   "outputs": [],
   "source": []
  },
  {
   "cell_type": "markdown",
   "metadata": {},
   "source": [
    "The model's prediction are a superficially poor fit to the underlying trend in the data and don't capture the accelerating increase in temperatures."
   ]
  },
  {
   "cell_type": "code",
   "execution_count": null,
   "metadata": {},
   "outputs": [],
   "source": []
  },
  {
   "cell_type": "code",
   "execution_count": null,
   "metadata": {},
   "outputs": [],
   "source": []
  },
  {
   "cell_type": "markdown",
   "metadata": {},
   "source": [
    "## fbprophet (time permitting)\n",
    "\n",
    "[Prophet](https://facebook.github.io/prophet/) is a time series forecasting tool developed (and obviously used by) data scientists at Facebook. There are a variety of more advanced statistical methods for modelling time series ([ARMA](https://en.wikipedia.org/wiki/Autoregressive%E2%80%93moving-average_model), [ARIMA](https://en.wikipedia.org/wiki/Autoregressive_integrated_moving_average), SARIMA, *etc*.) but these often involve doing computation-intensive [grid search](https://en.wikipedia.org/wiki/Hyperparameter_optimization) to find appropriate parameters or having deep understanding of the data or a theory to translate into parameters. Forecasting methods like ARMA, ARIMA, *etc*. are outside the scope of the class.\n",
    "\n",
    "The reason we're looking at Prophet is because it does all of these (and more!), *mostly* automatically. Definitely check out the [documentation](https://facebook.github.io/prophet/) and examples in both R and Python.\n",
    "\n",
    "I've adapted the [Getting Started](https://facebook.github.io/prophet/docs/quick_start.html#python-api) documentation for our purposes here. Prophet wants a simple DataFrame containing only a column \"ds\" with timestamps and a column \"y\" with values for that date.\n",
    "\n",
    "**AT THE TERMINAL WINDOW**, run this command and agree to update when it requests:\n",
    "\n",
    "`conda install -c conda-forge fbprophet`"
   ]
  },
  {
   "cell_type": "code",
   "execution_count": 1,
   "metadata": {},
   "outputs": [
    {
     "name": "stderr",
     "output_type": "stream",
     "text": [
      "Importing plotly failed. Interactive plots will not work.\n"
     ]
    }
   ],
   "source": [
    "from fbprophet import Prophet"
   ]
  },
  {
   "cell_type": "markdown",
   "metadata": {},
   "source": [
    "Reshape the data into a format that the Prophet wants."
   ]
  },
  {
   "cell_type": "code",
   "execution_count": null,
   "metadata": {},
   "outputs": [],
   "source": []
  },
  {
   "cell_type": "markdown",
   "metadata": {},
   "source": [
    "Fit the model. Since this data is at the monthly level, we do not need Prophet to estimate weekly or daily seasonality patterns. If you had data at the weekly or daily level, you probably would want it to estimate those. A few errors in red may be thrown and it should take a couple seconds for the estimation to finish."
   ]
  },
  {
   "cell_type": "code",
   "execution_count": null,
   "metadata": {},
   "outputs": [],
   "source": []
  },
  {
   "cell_type": "markdown",
   "metadata": {},
   "source": [
    "We can use the `make_future_dataframe` method attached to the `m3` model we just estimated to make predictions into the future. Let's estimate a decade into the future, or 20 years \\* 12 months/year = 240 months. Make sure to specify the \"freq='M'\" option, or it will default to daily estimates which doesn't make much sense for our monthly data."
   ]
  },
  {
   "cell_type": "code",
   "execution_count": null,
   "metadata": {},
   "outputs": [],
   "source": []
  },
  {
   "cell_type": "markdown",
   "metadata": {},
   "source": [
    "Make the predictions."
   ]
  },
  {
   "cell_type": "code",
   "execution_count": null,
   "metadata": {},
   "outputs": [],
   "source": []
  },
  {
   "cell_type": "markdown",
   "metadata": {},
   "source": [
    "Inspect the predictions made by Prophet. This will include the historical data (black points), the line connecting these points, and the forecast into the future with errors.\n",
    "\n",
    "It's also worth reading this October 5, 2020 *New Yorker* article \"[Three Scenarios for the Future of Climate Change](https://www.newyorker.com/news/annals-of-a-warming-planet/three-scenarios-for-the-future-of-climate-change)\" by Elizabeth Kolbert."
   ]
  },
  {
   "cell_type": "code",
   "execution_count": null,
   "metadata": {},
   "outputs": [],
   "source": []
  }
 ],
 "metadata": {
  "kernelspec": {
   "display_name": "Python 3",
   "language": "python",
   "name": "python3"
  },
  "language_info": {
   "codemirror_mode": {
    "name": "ipython",
    "version": 3
   },
   "file_extension": ".py",
   "mimetype": "text/x-python",
   "name": "python",
   "nbconvert_exporter": "python",
   "pygments_lexer": "ipython3",
   "version": "3.8.11"
  }
 },
 "nbformat": 4,
 "nbformat_minor": 4
}
