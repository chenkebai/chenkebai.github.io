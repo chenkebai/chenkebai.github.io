{
 "cells": [
  {
   "cell_type": "markdown",
   "metadata": {},
   "source": [
    "# INFO 3401 – Class 22: Spatial data fundamentals\n",
    "\n",
    "[Brian C. Keegan, Ph.D.](http://brianckeegan.com/)  \n",
    "[Assistant Professor, Department of Information Science](https://www.colorado.edu/cmci/people/information-science/brian-c-keegan)  \n",
    "University of Colorado Boulder  \n",
    "\n",
    "Copyright and distributed under an [MIT License](https://opensource.org/licenses/MIT).\n",
    "\n",
    "## Learning Objectives\n",
    "This lecture will introduce forecasting, one of the most common data analysis tasks when working with time series data.\n",
    "\n",
    "* Using shapely and fundamentals of geometric objects\n",
    "* Reading and writing spatial data\n",
    "* Filtering spatial data in GeoPandas\n",
    "* Visualizing spatial data and using different projections\n",
    "\n",
    "## Background\n",
    "\n",
    "This module will explore how to acquire, analyze, and visualize spatial data. I have adapted this content from the excellent course [Auotmating GIS processes](https://automating-gis-processes.github.io/site/index.html) course by [Vuokko Heikinheimo](https://researchportal.helsinki.fi/en/persons/vuokko-vilhelmiina-heikinheimo) and [Henrikki Tenkanen](https://www.ucl.ac.uk/geospatial-analytics/people/henrikki-tenkanen)."
   ]
  },
  {
   "cell_type": "markdown",
   "metadata": {},
   "source": [
    "### Install new libraries\n",
    "\n",
    "Analyzing spatial data requires a few libraries that aren't installed with Anaconda by default. The ecosystem of spatial data libraries within Python is infamously decentralized and there are a dozen or more dependencies that need to be installed. Make sure your notebooks are saved and [close them down](https://jupyter-notebook-beginner-guide.readthedocs.io/en/latest/execute.html#shut-down-the-jupyter-notebook-app).\n",
    "\n",
    "**At the terminal**, install [geopandas](https://geopandas.org/index.html) and [geoplot](https://residentmario.github.io/geoplot/index.html):\n",
    "\n",
    "`conda install geopandas geoplot -c conda-forge`\n",
    "\n",
    "Then do a `conda update --all` for good measure."
   ]
  },
  {
   "cell_type": "markdown",
   "metadata": {},
   "source": [
    "## Load libraries\n",
    "\n",
    "Load our usual libraries."
   ]
  },
  {
   "cell_type": "code",
   "execution_count": 2,
   "metadata": {},
   "outputs": [],
   "source": [
    "# Data processing libraries\n",
    "import pandas as pd\n",
    "import numpy as np\n",
    "\n",
    "pd.options.display.max_columns = 100\n",
    "\n",
    "# Visualization libraries\n",
    "%matplotlib inline\n",
    "import matplotlib.pyplot as plt\n",
    "import seaborn as sb"
   ]
  },
  {
   "cell_type": "markdown",
   "metadata": {},
   "source": [
    "Import a few of our new libraries."
   ]
  },
  {
   "cell_type": "code",
   "execution_count": 59,
   "metadata": {},
   "outputs": [],
   "source": [
    "import geopandas as gpd\n",
    "from shapely.geometry import Point, LineString, Polygon"
   ]
  },
  {
   "cell_type": "markdown",
   "metadata": {},
   "source": [
    "## Geometric objects\n",
    "\n",
    "We are not going to be constructing map geometries by hand any more than we are going to make DataFrames cell-by-cell. However, it's still important to know more about the fundamental geometric objects used for making maps in Python. [Shapely](https://shapely.readthedocs.io/en/stable/manual.html) is one library for represential spatial geometries of points, lines, and polygons (among other possible geometries).\n",
    "\n",
    "* A `Point` is a single point in (usually two-dimensional) space: `(x,y)`\n",
    "* A `LineString` is a sequence of at least two points that form a line: `[(x0,y0),(x1,y1)]`\n",
    "* A `Polygon` is a sequence of at least three points that forms an enclosed area: `[(x0,x1),(x1,y1),(x2,y2)]`\n",
    "\n",
    "After defining a geometry in some space, calling that object will return a visualization.\n",
    "\n",
    "### Point\n",
    "Make a `Point` at position (1,2) and display it."
   ]
  },
  {
   "cell_type": "code",
   "execution_count": 3,
   "metadata": {},
   "outputs": [
    {
     "data": {
      "image/svg+xml": [
       "<svg xmlns=\"http://www.w3.org/2000/svg\" xmlns:xlink=\"http://www.w3.org/1999/xlink\" width=\"100.0\" height=\"100.0\" viewBox=\"0.0 1.0 2.0 2.0\" preserveAspectRatio=\"xMinYMin meet\"><g transform=\"matrix(1,0,0,-1,0,4.0)\"><circle cx=\"1.0\" cy=\"2.0\" r=\"0.06\" stroke=\"#555555\" stroke-width=\"0.02\" fill=\"#66cc99\" opacity=\"0.6\" /></g></svg>"
      ],
      "text/plain": [
       "<shapely.geometry.point.Point at 0x2b35bb9ba30>"
      ]
     },
     "execution_count": 3,
     "metadata": {},
     "output_type": "execute_result"
    }
   ],
   "source": [
    "point0 = Point(1,2)\n",
    "point0"
   ]
  },
  {
   "cell_type": "markdown",
   "metadata": {},
   "source": [
    "Print the object."
   ]
  },
  {
   "cell_type": "code",
   "execution_count": 4,
   "metadata": {},
   "outputs": [
    {
     "name": "stdout",
     "output_type": "stream",
     "text": [
      "POINT (1 2)\n"
     ]
    }
   ],
   "source": [
    "print(point0)"
   ]
  },
  {
   "cell_type": "markdown",
   "metadata": {},
   "source": [
    "Confirm the type of geometry of the object."
   ]
  },
  {
   "cell_type": "code",
   "execution_count": 11,
   "metadata": {},
   "outputs": [
    {
     "data": {
      "text/plain": [
       "'Point'"
      ]
     },
     "execution_count": 11,
     "metadata": {},
     "output_type": "execute_result"
    }
   ],
   "source": [
    "point0.geom_type"
   ]
  },
  {
   "cell_type": "markdown",
   "metadata": {},
   "source": [
    "Access its coordinates as an attribute."
   ]
  },
  {
   "cell_type": "code",
   "execution_count": 8,
   "metadata": {},
   "outputs": [
    {
     "data": {
      "text/plain": [
       "1.0"
      ]
     },
     "execution_count": 8,
     "metadata": {},
     "output_type": "execute_result"
    }
   ],
   "source": [
    "point0.x"
   ]
  },
  {
   "cell_type": "code",
   "execution_count": 9,
   "metadata": {},
   "outputs": [
    {
     "data": {
      "text/plain": [
       "2.0"
      ]
     },
     "execution_count": 9,
     "metadata": {},
     "output_type": "execute_result"
    }
   ],
   "source": [
    "point0.y"
   ]
  },
  {
   "cell_type": "markdown",
   "metadata": {},
   "source": [
    "Make another `Point` at (4,2) and calculate the distance between the two points."
   ]
  },
  {
   "cell_type": "code",
   "execution_count": 16,
   "metadata": {},
   "outputs": [
    {
     "data": {
      "text/plain": [
       "3.0"
      ]
     },
     "execution_count": 16,
     "metadata": {},
     "output_type": "execute_result"
    }
   ],
   "source": [
    "point1 = Point(4,2)\n",
    "point1.distance(point0)"
   ]
  },
  {
   "cell_type": "markdown",
   "metadata": {},
   "source": [
    "Make a third point at (-2,-2)."
   ]
  },
  {
   "cell_type": "code",
   "execution_count": 22,
   "metadata": {},
   "outputs": [],
   "source": [
    "point2 = Point(-2,-2)"
   ]
  },
  {
   "cell_type": "markdown",
   "metadata": {},
   "source": [
    "### LineString\n",
    "\n",
    "Make a `LineString` of the three points you defined above. Display the `LineString`."
   ]
  },
  {
   "cell_type": "code",
   "execution_count": 23,
   "metadata": {},
   "outputs": [
    {
     "data": {
      "image/svg+xml": [
       "<svg xmlns=\"http://www.w3.org/2000/svg\" xmlns:xlink=\"http://www.w3.org/1999/xlink\" width=\"100.0\" height=\"100.0\" viewBox=\"-2.24 -2.24 6.48 4.48\" preserveAspectRatio=\"xMinYMin meet\"><g transform=\"matrix(1,0,0,-1,0,0.0)\"><polyline fill=\"none\" stroke=\"#66cc99\" stroke-width=\"0.12960000000000002\" points=\"1.0,2.0 4.0,2.0 -2.0,-2.0\" opacity=\"0.8\" /></g></svg>"
      ],
      "text/plain": [
       "<shapely.geometry.linestring.LineString at 0x2b361338850>"
      ]
     },
     "execution_count": 23,
     "metadata": {},
     "output_type": "execute_result"
    }
   ],
   "source": [
    "line0 = LineString([point0,point1,point2])\n",
    "line0"
   ]
  },
  {
   "cell_type": "markdown",
   "metadata": {},
   "source": [
    "Note that the order of the points matters."
   ]
  },
  {
   "cell_type": "code",
   "execution_count": 24,
   "metadata": {},
   "outputs": [
    {
     "data": {
      "image/svg+xml": [
       "<svg xmlns=\"http://www.w3.org/2000/svg\" xmlns:xlink=\"http://www.w3.org/1999/xlink\" width=\"100.0\" height=\"100.0\" viewBox=\"-2.24 -2.24 6.48 4.48\" preserveAspectRatio=\"xMinYMin meet\"><g transform=\"matrix(1,0,0,-1,0,0.0)\"><polyline fill=\"none\" stroke=\"#66cc99\" stroke-width=\"0.12960000000000002\" points=\"1.0,2.0 -2.0,-2.0 4.0,2.0\" opacity=\"0.8\" /></g></svg>"
      ],
      "text/plain": [
       "<shapely.geometry.linestring.LineString at 0x2b3615c6b50>"
      ]
     },
     "execution_count": 24,
     "metadata": {},
     "output_type": "execute_result"
    }
   ],
   "source": [
    "LineString([point0,point2,point1])"
   ]
  },
  {
   "cell_type": "code",
   "execution_count": 26,
   "metadata": {},
   "outputs": [
    {
     "data": {
      "image/svg+xml": [
       "<svg xmlns=\"http://www.w3.org/2000/svg\" xmlns:xlink=\"http://www.w3.org/1999/xlink\" width=\"100.0\" height=\"100.0\" viewBox=\"-2.24 -2.24 6.48 4.48\" preserveAspectRatio=\"xMinYMin meet\"><g transform=\"matrix(1,0,0,-1,0,0.0)\"><polyline fill=\"none\" stroke=\"#66cc99\" stroke-width=\"0.12960000000000002\" points=\"-2.0,-2.0 1.0,2.0 4.0,2.0\" opacity=\"0.8\" /></g></svg>"
      ],
      "text/plain": [
       "<shapely.geometry.linestring.LineString at 0x2b3615b6e80>"
      ]
     },
     "execution_count": 26,
     "metadata": {},
     "output_type": "execute_result"
    }
   ],
   "source": [
    "LineString([point2,point0,point1])"
   ]
  },
  {
   "cell_type": "markdown",
   "metadata": {},
   "source": [
    "Confirm the type of geometry."
   ]
  },
  {
   "cell_type": "code",
   "execution_count": 27,
   "metadata": {},
   "outputs": [
    {
     "data": {
      "text/plain": [
       "'LineString'"
      ]
     },
     "execution_count": 27,
     "metadata": {},
     "output_type": "execute_result"
    }
   ],
   "source": [
    "line0.geom_type"
   ]
  },
  {
   "cell_type": "markdown",
   "metadata": {},
   "source": [
    "Access its coordinates. Note that the x-coordinates are in first array and the y-coordinates are in the second array."
   ]
  },
  {
   "cell_type": "code",
   "execution_count": 31,
   "metadata": {},
   "outputs": [
    {
     "data": {
      "text/plain": [
       "(array('d', [1.0, 4.0, -2.0]), array('d', [2.0, 2.0, -2.0]))"
      ]
     },
     "execution_count": 31,
     "metadata": {},
     "output_type": "execute_result"
    }
   ],
   "source": [
    "line0.xy"
   ]
  },
  {
   "cell_type": "markdown",
   "metadata": {},
   "source": [
    "Compute the length."
   ]
  },
  {
   "cell_type": "code",
   "execution_count": 28,
   "metadata": {},
   "outputs": [
    {
     "data": {
      "text/plain": [
       "10.21110255092798"
      ]
     },
     "execution_count": 28,
     "metadata": {},
     "output_type": "execute_result"
    }
   ],
   "source": [
    "line0.length"
   ]
  },
  {
   "cell_type": "markdown",
   "metadata": {},
   "source": [
    "### Polygon"
   ]
  },
  {
   "cell_type": "code",
   "execution_count": 33,
   "metadata": {},
   "outputs": [
    {
     "data": {
      "image/svg+xml": [
       "<svg xmlns=\"http://www.w3.org/2000/svg\" xmlns:xlink=\"http://www.w3.org/1999/xlink\" width=\"100.0\" height=\"100.0\" viewBox=\"-2.24 -2.24 6.48 4.48\" preserveAspectRatio=\"xMinYMin meet\"><g transform=\"matrix(1,0,0,-1,0,0.0)\"><path fill-rule=\"evenodd\" fill=\"#66cc99\" stroke=\"#555555\" stroke-width=\"0.12960000000000002\" opacity=\"0.6\" d=\"M 1.0,2.0 L 4.0,2.0 L -2.0,-2.0 L 1.0,2.0 z\" /></g></svg>"
      ],
      "text/plain": [
       "<shapely.geometry.polygon.Polygon at 0x2b3620d06d0>"
      ]
     },
     "execution_count": 33,
     "metadata": {},
     "output_type": "execute_result"
    }
   ],
   "source": [
    "poly0 = Polygon([point0,point1,point2])\n",
    "poly0"
   ]
  },
  {
   "cell_type": "markdown",
   "metadata": {},
   "source": [
    "Confirm the geometry type."
   ]
  },
  {
   "cell_type": "code",
   "execution_count": 34,
   "metadata": {},
   "outputs": [
    {
     "data": {
      "text/plain": [
       "'Polygon'"
      ]
     },
     "execution_count": 34,
     "metadata": {},
     "output_type": "execute_result"
    }
   ],
   "source": [
    "poly0.geom_type"
   ]
  },
  {
   "cell_type": "markdown",
   "metadata": {},
   "source": [
    "The centroid is the center of the three points."
   ]
  },
  {
   "cell_type": "code",
   "execution_count": 56,
   "metadata": {},
   "outputs": [
    {
     "data": {
      "text/plain": [
       "(array('d', [1.0]), array('d', [0.6666666666666666]))"
      ]
     },
     "execution_count": 56,
     "metadata": {},
     "output_type": "execute_result"
    }
   ],
   "source": [
    "poly0.centroid.xy"
   ]
  },
  {
   "cell_type": "markdown",
   "metadata": {},
   "source": [
    "## Reading spatial data\n",
    "\n",
    "There are many standards and file formats for storing and sharing spatial data. Shapefiles are one of the most common standards and the default used by geopandas's [`read_file`](https://geopandas.org/reference/geopandas.read_file.html#geopandas.read_file) function.\n",
    "\n",
    "* The U.S. Census bureau publishes official national-level spatial data files for a variety of boundary types: [TIGER/Line Shapefiles](https://www.census.gov/geographies/mapping-files/time-series/geo/tiger-line-file.html) and [Cartographic Boundary Files](https://www.census.gov/geographies/mapping-files/time-series/geo/carto-boundary-file.html)\n",
    "* Eric Celeste's has some of the Census Bureau's shapefiles converted to KML and GeoJSON: [GeoJSON and KML Data for the United States](https://eric.clst.org/tech/usgeojson/)\n",
    "* Many states, counties, and cities publish detailed GIS data about their jurisdictions:  \n",
    "  * [Official State of Colorado GIS data](https://demography.dola.colorado.gov/gis/gis-data/#gis-data); [ColoradoView](https://www.coloradoview.org/colorado-gis/)\n",
    "  * [Offical Boulder County GIS data](https://opendata-bouldercounty.hub.arcgis.com/)\n",
    "  * [Offical City of Boulder GIS data](https://bouldercolorado.gov/open-data/tag/gis)\n",
    "\n",
    "The resulting data looks a lot like a normal pandas DataFrame but there's always a \"geometry\" column that contains a `Polygon` or analogous (*e.g.*, `MultiPolygon`) geometry. Sometimes there's lots of associated metadata about the geometry like names, identifiers, abbreviations, sizes, populations, *etc.* associated with the geometry, other times it's just a name and the geometry.\n",
    "\n",
    "International and national datasets are often offered at different resolutions, we'll talk more about these trade-offs when we get to visualization.\n",
    "\n",
    "### Shapefiles\n",
    "[Shapefiles](https://en.wikipedia.org/wiki/Shapefile) are actually a collection of files generally shared as ZIP files. You cannot read in the ZIP file directly and will need to unzip it to a sub-directory. I have downloaded the 2019 State layer from the [U.S. Census TIGER/Line](https://www.census.gov/cgi-bin/geo/shapefiles/index.php) shapefile and unzipped it to a new sub-directory \"us_states\". I only read the `.shp` filename which automatically grabs the other data in the directory as well."
   ]
  },
  {
   "cell_type": "code",
   "execution_count": 64,
   "metadata": {},
   "outputs": [
    {
     "data": {
      "text/html": [
       "<div>\n",
       "<style scoped>\n",
       "    .dataframe tbody tr th:only-of-type {\n",
       "        vertical-align: middle;\n",
       "    }\n",
       "\n",
       "    .dataframe tbody tr th {\n",
       "        vertical-align: top;\n",
       "    }\n",
       "\n",
       "    .dataframe thead th {\n",
       "        text-align: right;\n",
       "    }\n",
       "</style>\n",
       "<table border=\"1\" class=\"dataframe\">\n",
       "  <thead>\n",
       "    <tr style=\"text-align: right;\">\n",
       "      <th></th>\n",
       "      <th>REGION</th>\n",
       "      <th>DIVISION</th>\n",
       "      <th>STATEFP</th>\n",
       "      <th>STATENS</th>\n",
       "      <th>GEOID</th>\n",
       "      <th>STUSPS</th>\n",
       "      <th>NAME</th>\n",
       "      <th>LSAD</th>\n",
       "      <th>MTFCC</th>\n",
       "      <th>FUNCSTAT</th>\n",
       "      <th>ALAND</th>\n",
       "      <th>AWATER</th>\n",
       "      <th>INTPTLAT</th>\n",
       "      <th>INTPTLON</th>\n",
       "      <th>geometry</th>\n",
       "    </tr>\n",
       "  </thead>\n",
       "  <tbody>\n",
       "    <tr>\n",
       "      <th>0</th>\n",
       "      <td>3</td>\n",
       "      <td>5</td>\n",
       "      <td>54</td>\n",
       "      <td>01779805</td>\n",
       "      <td>54</td>\n",
       "      <td>WV</td>\n",
       "      <td>West Virginia</td>\n",
       "      <td>00</td>\n",
       "      <td>G4000</td>\n",
       "      <td>A</td>\n",
       "      <td>62266231560</td>\n",
       "      <td>489271086</td>\n",
       "      <td>+38.6472854</td>\n",
       "      <td>-080.6183274</td>\n",
       "      <td>POLYGON ((-81.74725 39.09538, -81.74635 39.096...</td>\n",
       "    </tr>\n",
       "    <tr>\n",
       "      <th>1</th>\n",
       "      <td>3</td>\n",
       "      <td>5</td>\n",
       "      <td>12</td>\n",
       "      <td>00294478</td>\n",
       "      <td>12</td>\n",
       "      <td>FL</td>\n",
       "      <td>Florida</td>\n",
       "      <td>00</td>\n",
       "      <td>G4000</td>\n",
       "      <td>A</td>\n",
       "      <td>138947364717</td>\n",
       "      <td>31362872853</td>\n",
       "      <td>+28.4574302</td>\n",
       "      <td>-082.4091477</td>\n",
       "      <td>MULTIPOLYGON (((-86.38865 30.99418, -86.38385 ...</td>\n",
       "    </tr>\n",
       "    <tr>\n",
       "      <th>2</th>\n",
       "      <td>2</td>\n",
       "      <td>3</td>\n",
       "      <td>17</td>\n",
       "      <td>01779784</td>\n",
       "      <td>17</td>\n",
       "      <td>IL</td>\n",
       "      <td>Illinois</td>\n",
       "      <td>00</td>\n",
       "      <td>G4000</td>\n",
       "      <td>A</td>\n",
       "      <td>143779863817</td>\n",
       "      <td>6215723896</td>\n",
       "      <td>+40.1028754</td>\n",
       "      <td>-089.1526108</td>\n",
       "      <td>POLYGON ((-91.18529 40.63780, -91.17510 40.643...</td>\n",
       "    </tr>\n",
       "    <tr>\n",
       "      <th>3</th>\n",
       "      <td>2</td>\n",
       "      <td>4</td>\n",
       "      <td>27</td>\n",
       "      <td>00662849</td>\n",
       "      <td>27</td>\n",
       "      <td>MN</td>\n",
       "      <td>Minnesota</td>\n",
       "      <td>00</td>\n",
       "      <td>G4000</td>\n",
       "      <td>A</td>\n",
       "      <td>206230065476</td>\n",
       "      <td>18942261495</td>\n",
       "      <td>+46.3159573</td>\n",
       "      <td>-094.1996043</td>\n",
       "      <td>POLYGON ((-96.78438 46.63050, -96.78434 46.630...</td>\n",
       "    </tr>\n",
       "    <tr>\n",
       "      <th>4</th>\n",
       "      <td>3</td>\n",
       "      <td>5</td>\n",
       "      <td>24</td>\n",
       "      <td>01714934</td>\n",
       "      <td>24</td>\n",
       "      <td>MD</td>\n",
       "      <td>Maryland</td>\n",
       "      <td>00</td>\n",
       "      <td>G4000</td>\n",
       "      <td>A</td>\n",
       "      <td>25151726296</td>\n",
       "      <td>6979340970</td>\n",
       "      <td>+38.9466584</td>\n",
       "      <td>-076.6744939</td>\n",
       "      <td>POLYGON ((-77.45881 39.22027, -77.45866 39.220...</td>\n",
       "    </tr>\n",
       "  </tbody>\n",
       "</table>\n",
       "</div>"
      ],
      "text/plain": [
       "  REGION DIVISION STATEFP   STATENS GEOID STUSPS           NAME LSAD  MTFCC  \\\n",
       "0      3        5      54  01779805    54     WV  West Virginia   00  G4000   \n",
       "1      3        5      12  00294478    12     FL        Florida   00  G4000   \n",
       "2      2        3      17  01779784    17     IL       Illinois   00  G4000   \n",
       "3      2        4      27  00662849    27     MN      Minnesota   00  G4000   \n",
       "4      3        5      24  01714934    24     MD       Maryland   00  G4000   \n",
       "\n",
       "  FUNCSTAT         ALAND       AWATER     INTPTLAT      INTPTLON  \\\n",
       "0        A   62266231560    489271086  +38.6472854  -080.6183274   \n",
       "1        A  138947364717  31362872853  +28.4574302  -082.4091477   \n",
       "2        A  143779863817   6215723896  +40.1028754  -089.1526108   \n",
       "3        A  206230065476  18942261495  +46.3159573  -094.1996043   \n",
       "4        A   25151726296   6979340970  +38.9466584  -076.6744939   \n",
       "\n",
       "                                            geometry  \n",
       "0  POLYGON ((-81.74725 39.09538, -81.74635 39.096...  \n",
       "1  MULTIPOLYGON (((-86.38865 30.99418, -86.38385 ...  \n",
       "2  POLYGON ((-91.18529 40.63780, -91.17510 40.643...  \n",
       "3  POLYGON ((-96.78438 46.63050, -96.78434 46.630...  \n",
       "4  POLYGON ((-77.45881 39.22027, -77.45866 39.220...  "
      ]
     },
     "execution_count": 64,
     "metadata": {},
     "output_type": "execute_result"
    }
   ],
   "source": [
    "# Read in and assign data to a variable\n",
    "us_states_shp_gdf = gpd.read_file('us_states/tl_2019_us_state.shp')\n",
    "\n",
    "# Inspect\n",
    "us_states_shp_gdf.head()"
   ]
  },
  {
   "cell_type": "markdown",
   "metadata": {},
   "source": [
    "### GeoJSON\n",
    "\n",
    "Working with ZIP files and sub-directories can be a pain, so standards like [GeoJSON]() provide an alternative way for storing and sharing data. Make sure to invoke the \"driver='GeoJSON'\" parameter for `read_file`. Like pandas's `read_csv`, GeoPandas's `read_file` can read directly from the web."
   ]
  },
  {
   "cell_type": "code",
   "execution_count": 65,
   "metadata": {},
   "outputs": [
    {
     "data": {
      "text/html": [
       "<div>\n",
       "<style scoped>\n",
       "    .dataframe tbody tr th:only-of-type {\n",
       "        vertical-align: middle;\n",
       "    }\n",
       "\n",
       "    .dataframe tbody tr th {\n",
       "        vertical-align: top;\n",
       "    }\n",
       "\n",
       "    .dataframe thead th {\n",
       "        text-align: right;\n",
       "    }\n",
       "</style>\n",
       "<table border=\"1\" class=\"dataframe\">\n",
       "  <thead>\n",
       "    <tr style=\"text-align: right;\">\n",
       "      <th></th>\n",
       "      <th>GEO_ID</th>\n",
       "      <th>STATE</th>\n",
       "      <th>NAME</th>\n",
       "      <th>LSAD</th>\n",
       "      <th>CENSUSAREA</th>\n",
       "      <th>geometry</th>\n",
       "    </tr>\n",
       "  </thead>\n",
       "  <tbody>\n",
       "    <tr>\n",
       "      <th>0</th>\n",
       "      <td>0400000US04</td>\n",
       "      <td>04</td>\n",
       "      <td>Arizona</td>\n",
       "      <td></td>\n",
       "      <td>113594.084</td>\n",
       "      <td>POLYGON ((-112.53859 37.00067, -112.53454 37.0...</td>\n",
       "    </tr>\n",
       "    <tr>\n",
       "      <th>1</th>\n",
       "      <td>0400000US05</td>\n",
       "      <td>05</td>\n",
       "      <td>Arkansas</td>\n",
       "      <td></td>\n",
       "      <td>52035.477</td>\n",
       "      <td>POLYGON ((-94.04296 33.01922, -94.04304 33.079...</td>\n",
       "    </tr>\n",
       "    <tr>\n",
       "      <th>2</th>\n",
       "      <td>0400000US06</td>\n",
       "      <td>06</td>\n",
       "      <td>California</td>\n",
       "      <td></td>\n",
       "      <td>155779.220</td>\n",
       "      <td>MULTIPOLYGON (((-120.24848 33.99933, -120.2473...</td>\n",
       "    </tr>\n",
       "    <tr>\n",
       "      <th>3</th>\n",
       "      <td>0400000US08</td>\n",
       "      <td>08</td>\n",
       "      <td>Colorado</td>\n",
       "      <td></td>\n",
       "      <td>103641.888</td>\n",
       "      <td>POLYGON ((-107.31779 41.00296, -107.00061 41.0...</td>\n",
       "    </tr>\n",
       "    <tr>\n",
       "      <th>4</th>\n",
       "      <td>0400000US09</td>\n",
       "      <td>09</td>\n",
       "      <td>Connecticut</td>\n",
       "      <td></td>\n",
       "      <td>4842.355</td>\n",
       "      <td>POLYGON ((-72.39743 42.03330, -72.19883 42.030...</td>\n",
       "    </tr>\n",
       "  </tbody>\n",
       "</table>\n",
       "</div>"
      ],
      "text/plain": [
       "        GEO_ID STATE         NAME LSAD  CENSUSAREA  \\\n",
       "0  0400000US04    04      Arizona       113594.084   \n",
       "1  0400000US05    05     Arkansas        52035.477   \n",
       "2  0400000US06    06   California       155779.220   \n",
       "3  0400000US08    08     Colorado       103641.888   \n",
       "4  0400000US09    09  Connecticut         4842.355   \n",
       "\n",
       "                                            geometry  \n",
       "0  POLYGON ((-112.53859 37.00067, -112.53454 37.0...  \n",
       "1  POLYGON ((-94.04296 33.01922, -94.04304 33.079...  \n",
       "2  MULTIPOLYGON (((-120.24848 33.99933, -120.2473...  \n",
       "3  POLYGON ((-107.31779 41.00296, -107.00061 41.0...  \n",
       "4  POLYGON ((-72.39743 42.03330, -72.19883 42.030...  "
      ]
     },
     "execution_count": 65,
     "metadata": {},
     "output_type": "execute_result"
    }
   ],
   "source": [
    "# Get the data directly from: https://eric.clst.org/tech/usgeojson/\n",
    "us_states_geojson_gpd = gpd.read_file('https://eric.clst.org/assets/wiki/uploads/Stuff/gz_2010_us_040_00_20m.json',driver='GeoJSON')\n",
    "\n",
    "us_states_geojson_gpd.head()"
   ]
  },
  {
   "cell_type": "markdown",
   "metadata": {},
   "source": [
    "Here's a file with the shapes of all the countries in the world."
   ]
  },
  {
   "cell_type": "code",
   "execution_count": 66,
   "metadata": {},
   "outputs": [
    {
     "data": {
      "text/html": [
       "<div>\n",
       "<style scoped>\n",
       "    .dataframe tbody tr th:only-of-type {\n",
       "        vertical-align: middle;\n",
       "    }\n",
       "\n",
       "    .dataframe tbody tr th {\n",
       "        vertical-align: top;\n",
       "    }\n",
       "\n",
       "    .dataframe thead th {\n",
       "        text-align: right;\n",
       "    }\n",
       "</style>\n",
       "<table border=\"1\" class=\"dataframe\">\n",
       "  <thead>\n",
       "    <tr style=\"text-align: right;\">\n",
       "      <th></th>\n",
       "      <th>ADMIN</th>\n",
       "      <th>ISO_A3</th>\n",
       "      <th>ISO_A2</th>\n",
       "      <th>geometry</th>\n",
       "    </tr>\n",
       "  </thead>\n",
       "  <tbody>\n",
       "    <tr>\n",
       "      <th>0</th>\n",
       "      <td>Aruba</td>\n",
       "      <td>ABW</td>\n",
       "      <td>AW</td>\n",
       "      <td>MULTIPOLYGON (((-69.99694 12.57758, -69.93639 ...</td>\n",
       "    </tr>\n",
       "    <tr>\n",
       "      <th>1</th>\n",
       "      <td>Afghanistan</td>\n",
       "      <td>AFG</td>\n",
       "      <td>AF</td>\n",
       "      <td>MULTIPOLYGON (((71.04980 38.40866, 71.05714 38...</td>\n",
       "    </tr>\n",
       "    <tr>\n",
       "      <th>2</th>\n",
       "      <td>Angola</td>\n",
       "      <td>AGO</td>\n",
       "      <td>AO</td>\n",
       "      <td>MULTIPOLYGON (((11.73752 -16.69258, 11.73851 -...</td>\n",
       "    </tr>\n",
       "    <tr>\n",
       "      <th>3</th>\n",
       "      <td>Anguilla</td>\n",
       "      <td>AIA</td>\n",
       "      <td>AI</td>\n",
       "      <td>MULTIPOLYGON (((-63.03767 18.21296, -63.09952 ...</td>\n",
       "    </tr>\n",
       "    <tr>\n",
       "      <th>4</th>\n",
       "      <td>Albania</td>\n",
       "      <td>ALB</td>\n",
       "      <td>AL</td>\n",
       "      <td>MULTIPOLYGON (((19.74777 42.57890, 19.74601 42...</td>\n",
       "    </tr>\n",
       "  </tbody>\n",
       "</table>\n",
       "</div>"
      ],
      "text/plain": [
       "         ADMIN ISO_A3 ISO_A2  \\\n",
       "0        Aruba    ABW     AW   \n",
       "1  Afghanistan    AFG     AF   \n",
       "2       Angola    AGO     AO   \n",
       "3     Anguilla    AIA     AI   \n",
       "4      Albania    ALB     AL   \n",
       "\n",
       "                                            geometry  \n",
       "0  MULTIPOLYGON (((-69.99694 12.57758, -69.93639 ...  \n",
       "1  MULTIPOLYGON (((71.04980 38.40866, 71.05714 38...  \n",
       "2  MULTIPOLYGON (((11.73752 -16.69258, 11.73851 -...  \n",
       "3  MULTIPOLYGON (((-63.03767 18.21296, -63.09952 ...  \n",
       "4  MULTIPOLYGON (((19.74777 42.57890, 19.74601 42...  "
      ]
     },
     "execution_count": 66,
     "metadata": {},
     "output_type": "execute_result"
    }
   ],
   "source": [
    "countries_geojson_gpd = gpd.read_file('https://github.com/datasets/geo-countries/raw/master/data/countries.geojson',driver='GeoJSON')\n",
    "\n",
    "countries_geojson_gpd.head()"
   ]
  },
  {
   "cell_type": "markdown",
   "metadata": {},
   "source": [
    "## Filtering spatial data in GeoPandas\n",
    "\n",
    "Inspect the `us_states_shp_gdf` file we read in above."
   ]
  },
  {
   "cell_type": "code",
   "execution_count": 77,
   "metadata": {},
   "outputs": [
    {
     "data": {
      "text/html": [
       "<div>\n",
       "<style scoped>\n",
       "    .dataframe tbody tr th:only-of-type {\n",
       "        vertical-align: middle;\n",
       "    }\n",
       "\n",
       "    .dataframe tbody tr th {\n",
       "        vertical-align: top;\n",
       "    }\n",
       "\n",
       "    .dataframe thead th {\n",
       "        text-align: right;\n",
       "    }\n",
       "</style>\n",
       "<table border=\"1\" class=\"dataframe\">\n",
       "  <thead>\n",
       "    <tr style=\"text-align: right;\">\n",
       "      <th></th>\n",
       "      <th>REGION</th>\n",
       "      <th>DIVISION</th>\n",
       "      <th>STATEFP</th>\n",
       "      <th>STATENS</th>\n",
       "      <th>GEOID</th>\n",
       "      <th>STUSPS</th>\n",
       "      <th>NAME</th>\n",
       "      <th>LSAD</th>\n",
       "      <th>MTFCC</th>\n",
       "      <th>FUNCSTAT</th>\n",
       "      <th>ALAND</th>\n",
       "      <th>AWATER</th>\n",
       "      <th>INTPTLAT</th>\n",
       "      <th>INTPTLON</th>\n",
       "      <th>geometry</th>\n",
       "    </tr>\n",
       "  </thead>\n",
       "  <tbody>\n",
       "    <tr>\n",
       "      <th>0</th>\n",
       "      <td>3</td>\n",
       "      <td>5</td>\n",
       "      <td>54</td>\n",
       "      <td>01779805</td>\n",
       "      <td>54</td>\n",
       "      <td>WV</td>\n",
       "      <td>West Virginia</td>\n",
       "      <td>00</td>\n",
       "      <td>G4000</td>\n",
       "      <td>A</td>\n",
       "      <td>62266231560</td>\n",
       "      <td>489271086</td>\n",
       "      <td>+38.6472854</td>\n",
       "      <td>-080.6183274</td>\n",
       "      <td>POLYGON ((-81.74725 39.09538, -81.74635 39.096...</td>\n",
       "    </tr>\n",
       "    <tr>\n",
       "      <th>1</th>\n",
       "      <td>3</td>\n",
       "      <td>5</td>\n",
       "      <td>12</td>\n",
       "      <td>00294478</td>\n",
       "      <td>12</td>\n",
       "      <td>FL</td>\n",
       "      <td>Florida</td>\n",
       "      <td>00</td>\n",
       "      <td>G4000</td>\n",
       "      <td>A</td>\n",
       "      <td>138947364717</td>\n",
       "      <td>31362872853</td>\n",
       "      <td>+28.4574302</td>\n",
       "      <td>-082.4091477</td>\n",
       "      <td>MULTIPOLYGON (((-86.38865 30.99418, -86.38385 ...</td>\n",
       "    </tr>\n",
       "    <tr>\n",
       "      <th>2</th>\n",
       "      <td>2</td>\n",
       "      <td>3</td>\n",
       "      <td>17</td>\n",
       "      <td>01779784</td>\n",
       "      <td>17</td>\n",
       "      <td>IL</td>\n",
       "      <td>Illinois</td>\n",
       "      <td>00</td>\n",
       "      <td>G4000</td>\n",
       "      <td>A</td>\n",
       "      <td>143779863817</td>\n",
       "      <td>6215723896</td>\n",
       "      <td>+40.1028754</td>\n",
       "      <td>-089.1526108</td>\n",
       "      <td>POLYGON ((-91.18529 40.63780, -91.17510 40.643...</td>\n",
       "    </tr>\n",
       "    <tr>\n",
       "      <th>3</th>\n",
       "      <td>2</td>\n",
       "      <td>4</td>\n",
       "      <td>27</td>\n",
       "      <td>00662849</td>\n",
       "      <td>27</td>\n",
       "      <td>MN</td>\n",
       "      <td>Minnesota</td>\n",
       "      <td>00</td>\n",
       "      <td>G4000</td>\n",
       "      <td>A</td>\n",
       "      <td>206230065476</td>\n",
       "      <td>18942261495</td>\n",
       "      <td>+46.3159573</td>\n",
       "      <td>-094.1996043</td>\n",
       "      <td>POLYGON ((-96.78438 46.63050, -96.78434 46.630...</td>\n",
       "    </tr>\n",
       "    <tr>\n",
       "      <th>4</th>\n",
       "      <td>3</td>\n",
       "      <td>5</td>\n",
       "      <td>24</td>\n",
       "      <td>01714934</td>\n",
       "      <td>24</td>\n",
       "      <td>MD</td>\n",
       "      <td>Maryland</td>\n",
       "      <td>00</td>\n",
       "      <td>G4000</td>\n",
       "      <td>A</td>\n",
       "      <td>25151726296</td>\n",
       "      <td>6979340970</td>\n",
       "      <td>+38.9466584</td>\n",
       "      <td>-076.6744939</td>\n",
       "      <td>POLYGON ((-77.45881 39.22027, -77.45866 39.220...</td>\n",
       "    </tr>\n",
       "  </tbody>\n",
       "</table>\n",
       "</div>"
      ],
      "text/plain": [
       "  REGION DIVISION STATEFP   STATENS GEOID STUSPS           NAME LSAD  MTFCC  \\\n",
       "0      3        5      54  01779805    54     WV  West Virginia   00  G4000   \n",
       "1      3        5      12  00294478    12     FL        Florida   00  G4000   \n",
       "2      2        3      17  01779784    17     IL       Illinois   00  G4000   \n",
       "3      2        4      27  00662849    27     MN      Minnesota   00  G4000   \n",
       "4      3        5      24  01714934    24     MD       Maryland   00  G4000   \n",
       "\n",
       "  FUNCSTAT         ALAND       AWATER     INTPTLAT      INTPTLON  \\\n",
       "0        A   62266231560    489271086  +38.6472854  -080.6183274   \n",
       "1        A  138947364717  31362872853  +28.4574302  -082.4091477   \n",
       "2        A  143779863817   6215723896  +40.1028754  -089.1526108   \n",
       "3        A  206230065476  18942261495  +46.3159573  -094.1996043   \n",
       "4        A   25151726296   6979340970  +38.9466584  -076.6744939   \n",
       "\n",
       "                                            geometry  \n",
       "0  POLYGON ((-81.74725 39.09538, -81.74635 39.096...  \n",
       "1  MULTIPOLYGON (((-86.38865 30.99418, -86.38385 ...  \n",
       "2  POLYGON ((-91.18529 40.63780, -91.17510 40.643...  \n",
       "3  POLYGON ((-96.78438 46.63050, -96.78434 46.630...  \n",
       "4  POLYGON ((-77.45881 39.22027, -77.45866 39.220...  "
      ]
     },
     "execution_count": 77,
     "metadata": {},
     "output_type": "execute_result"
    }
   ],
   "source": [
    "us_states_shp_gdf.head()"
   ]
  },
  {
   "cell_type": "markdown",
   "metadata": {},
   "source": [
    "Summarize the different columns."
   ]
  },
  {
   "cell_type": "code",
   "execution_count": 78,
   "metadata": {},
   "outputs": [
    {
     "data": {
      "text/html": [
       "<div>\n",
       "<style scoped>\n",
       "    .dataframe tbody tr th:only-of-type {\n",
       "        vertical-align: middle;\n",
       "    }\n",
       "\n",
       "    .dataframe tbody tr th {\n",
       "        vertical-align: top;\n",
       "    }\n",
       "\n",
       "    .dataframe thead th {\n",
       "        text-align: right;\n",
       "    }\n",
       "</style>\n",
       "<table border=\"1\" class=\"dataframe\">\n",
       "  <thead>\n",
       "    <tr style=\"text-align: right;\">\n",
       "      <th></th>\n",
       "      <th>NAME</th>\n",
       "    </tr>\n",
       "    <tr>\n",
       "      <th>REGION</th>\n",
       "      <th></th>\n",
       "    </tr>\n",
       "  </thead>\n",
       "  <tbody>\n",
       "    <tr>\n",
       "      <th>1</th>\n",
       "      <td>[Rhode Island, New Hampshire, Vermont, Connect...</td>\n",
       "    </tr>\n",
       "    <tr>\n",
       "      <th>2</th>\n",
       "      <td>[Illinois, Minnesota, Wisconsin, Nebraska, Ohi...</td>\n",
       "    </tr>\n",
       "    <tr>\n",
       "      <th>3</th>\n",
       "      <td>[West Virginia, Florida, Maryland, North Carol...</td>\n",
       "    </tr>\n",
       "    <tr>\n",
       "      <th>4</th>\n",
       "      <td>[Idaho, New Mexico, California, Oregon, Washin...</td>\n",
       "    </tr>\n",
       "    <tr>\n",
       "      <th>9</th>\n",
       "      <td>[United States Virgin Islands, Commonwealth of...</td>\n",
       "    </tr>\n",
       "  </tbody>\n",
       "</table>\n",
       "</div>"
      ],
      "text/plain": [
       "                                                     NAME\n",
       "REGION                                                   \n",
       "1       [Rhode Island, New Hampshire, Vermont, Connect...\n",
       "2       [Illinois, Minnesota, Wisconsin, Nebraska, Ohi...\n",
       "3       [West Virginia, Florida, Maryland, North Carol...\n",
       "4       [Idaho, New Mexico, California, Oregon, Washin...\n",
       "9       [United States Virgin Islands, Commonwealth of..."
      ]
     },
     "execution_count": 78,
     "metadata": {},
     "output_type": "execute_result"
    }
   ],
   "source": [
    "us_states_shp_gdf.groupby('REGION').agg({'NAME':list})"
   ]
  },
  {
   "cell_type": "code",
   "execution_count": 79,
   "metadata": {},
   "outputs": [
    {
     "data": {
      "text/html": [
       "<div>\n",
       "<style scoped>\n",
       "    .dataframe tbody tr th:only-of-type {\n",
       "        vertical-align: middle;\n",
       "    }\n",
       "\n",
       "    .dataframe tbody tr th {\n",
       "        vertical-align: top;\n",
       "    }\n",
       "\n",
       "    .dataframe thead th {\n",
       "        text-align: right;\n",
       "    }\n",
       "</style>\n",
       "<table border=\"1\" class=\"dataframe\">\n",
       "  <thead>\n",
       "    <tr style=\"text-align: right;\">\n",
       "      <th></th>\n",
       "      <th>NAME</th>\n",
       "    </tr>\n",
       "    <tr>\n",
       "      <th>DIVISION</th>\n",
       "      <th></th>\n",
       "    </tr>\n",
       "  </thead>\n",
       "  <tbody>\n",
       "    <tr>\n",
       "      <th>0</th>\n",
       "      <td>[United States Virgin Islands, Commonwealth of...</td>\n",
       "    </tr>\n",
       "    <tr>\n",
       "      <th>1</th>\n",
       "      <td>[Rhode Island, New Hampshire, Vermont, Connect...</td>\n",
       "    </tr>\n",
       "    <tr>\n",
       "      <th>2</th>\n",
       "      <td>[New Jersey, Pennsylvania, New York]</td>\n",
       "    </tr>\n",
       "    <tr>\n",
       "      <th>3</th>\n",
       "      <td>[Illinois, Wisconsin, Ohio, Michigan, Indiana]</td>\n",
       "    </tr>\n",
       "    <tr>\n",
       "      <th>4</th>\n",
       "      <td>[Minnesota, Nebraska, North Dakota, Missouri, ...</td>\n",
       "    </tr>\n",
       "    <tr>\n",
       "      <th>5</th>\n",
       "      <td>[West Virginia, Florida, Maryland, North Carol...</td>\n",
       "    </tr>\n",
       "    <tr>\n",
       "      <th>6</th>\n",
       "      <td>[Alabama, Tennessee, Kentucky, Mississippi]</td>\n",
       "    </tr>\n",
       "    <tr>\n",
       "      <th>7</th>\n",
       "      <td>[Louisiana, Texas, Oklahoma, Arkansas]</td>\n",
       "    </tr>\n",
       "    <tr>\n",
       "      <th>8</th>\n",
       "      <td>[Idaho, New Mexico, Utah, Colorado, Wyoming, N...</td>\n",
       "    </tr>\n",
       "    <tr>\n",
       "      <th>9</th>\n",
       "      <td>[California, Oregon, Washington, Hawaii, Alaska]</td>\n",
       "    </tr>\n",
       "  </tbody>\n",
       "</table>\n",
       "</div>"
      ],
      "text/plain": [
       "                                                       NAME\n",
       "DIVISION                                                   \n",
       "0         [United States Virgin Islands, Commonwealth of...\n",
       "1         [Rhode Island, New Hampshire, Vermont, Connect...\n",
       "2                      [New Jersey, Pennsylvania, New York]\n",
       "3            [Illinois, Wisconsin, Ohio, Michigan, Indiana]\n",
       "4         [Minnesota, Nebraska, North Dakota, Missouri, ...\n",
       "5         [West Virginia, Florida, Maryland, North Carol...\n",
       "6               [Alabama, Tennessee, Kentucky, Mississippi]\n",
       "7                    [Louisiana, Texas, Oklahoma, Arkansas]\n",
       "8         [Idaho, New Mexico, Utah, Colorado, Wyoming, N...\n",
       "9          [California, Oregon, Washington, Hawaii, Alaska]"
      ]
     },
     "execution_count": 79,
     "metadata": {},
     "output_type": "execute_result"
    }
   ],
   "source": [
    "us_states_shp_gdf.groupby('DIVISION').agg({'NAME':list})"
   ]
  },
  {
   "cell_type": "markdown",
   "metadata": {},
   "source": [
    "Find the row for Colorado."
   ]
  },
  {
   "cell_type": "code",
   "execution_count": 94,
   "metadata": {},
   "outputs": [
    {
     "data": {
      "text/html": [
       "<div>\n",
       "<style scoped>\n",
       "    .dataframe tbody tr th:only-of-type {\n",
       "        vertical-align: middle;\n",
       "    }\n",
       "\n",
       "    .dataframe tbody tr th {\n",
       "        vertical-align: top;\n",
       "    }\n",
       "\n",
       "    .dataframe thead th {\n",
       "        text-align: right;\n",
       "    }\n",
       "</style>\n",
       "<table border=\"1\" class=\"dataframe\">\n",
       "  <thead>\n",
       "    <tr style=\"text-align: right;\">\n",
       "      <th></th>\n",
       "      <th>REGION</th>\n",
       "      <th>DIVISION</th>\n",
       "      <th>STATEFP</th>\n",
       "      <th>STATENS</th>\n",
       "      <th>GEOID</th>\n",
       "      <th>STUSPS</th>\n",
       "      <th>NAME</th>\n",
       "      <th>LSAD</th>\n",
       "      <th>MTFCC</th>\n",
       "      <th>FUNCSTAT</th>\n",
       "      <th>ALAND</th>\n",
       "      <th>AWATER</th>\n",
       "      <th>INTPTLAT</th>\n",
       "      <th>INTPTLON</th>\n",
       "      <th>geometry</th>\n",
       "    </tr>\n",
       "  </thead>\n",
       "  <tbody>\n",
       "    <tr>\n",
       "      <th>26</th>\n",
       "      <td>4</td>\n",
       "      <td>8</td>\n",
       "      <td>08</td>\n",
       "      <td>01779779</td>\n",
       "      <td>08</td>\n",
       "      <td>CO</td>\n",
       "      <td>Colorado</td>\n",
       "      <td>00</td>\n",
       "      <td>G4000</td>\n",
       "      <td>A</td>\n",
       "      <td>268419875371</td>\n",
       "      <td>1184637800</td>\n",
       "      <td>+38.9938482</td>\n",
       "      <td>-105.5083165</td>\n",
       "      <td>POLYGON ((-109.05095 40.22265, -109.05097 40.2...</td>\n",
       "    </tr>\n",
       "  </tbody>\n",
       "</table>\n",
       "</div>"
      ],
      "text/plain": [
       "   REGION DIVISION STATEFP   STATENS GEOID STUSPS      NAME LSAD  MTFCC  \\\n",
       "26      4        8      08  01779779    08     CO  Colorado   00  G4000   \n",
       "\n",
       "   FUNCSTAT         ALAND      AWATER     INTPTLAT      INTPTLON  \\\n",
       "26        A  268419875371  1184637800  +38.9938482  -105.5083165   \n",
       "\n",
       "                                             geometry  \n",
       "26  POLYGON ((-109.05095 40.22265, -109.05097 40.2...  "
      ]
     },
     "execution_count": 94,
     "metadata": {},
     "output_type": "execute_result"
    }
   ],
   "source": [
    "co_shp_gdf = us_states_shp_gdf[us_states_shp_gdf['NAME'] == 'Colorado']\n",
    "co_shp_gdf"
   ]
  },
  {
   "cell_type": "markdown",
   "metadata": {},
   "source": [
    "There are different attributes on a GeoSeries. Two of the most relevant are `area` and `centroid`\n",
    "\n",
    "* `.area` - computes the area of each row's Polygon\n",
    "* `.centroid` - returns the centroid of each row's Polygon"
   ]
  },
  {
   "cell_type": "code",
   "execution_count": 110,
   "metadata": {},
   "outputs": [
    {
     "name": "stderr",
     "output_type": "stream",
     "text": [
      "<ipython-input-110-54dbd82362a2>:1: UserWarning: Geometry is in a geographic CRS. Results from 'area' are likely incorrect. Use 'GeoSeries.to_crs()' to re-project geometries to a projected CRS before this operation.\n",
      "\n",
      "  us_states_shp_gdf['geometry'].area\n"
     ]
    },
    {
     "data": {
      "text/plain": [
       "0       6.493870\n",
       "1      15.700129\n",
       "2      15.852627\n",
       "3      26.326705\n",
       "4       3.338785\n",
       "5       0.432129\n",
       "6      24.456637\n",
       "7       2.703138\n",
       "8      13.852160\n",
       "9       2.798213\n",
       "10      1.550106\n",
       "11      0.670238\n",
       "12     30.893557\n",
       "13     43.083233\n",
       "14      2.386717\n",
       "15     19.244859\n",
       "16     28.568477\n",
       "17     21.613787\n",
       "18     12.747187\n",
       "19     22.011460\n",
       "20     12.801679\n",
       "21     14.793512\n",
       "22     13.067232\n",
       "23     22.974950\n",
       "24     12.320069\n",
       "25     66.054191\n",
       "26     28.039756\n",
       "27      8.082971\n",
       "28     18.005045\n",
       "29     10.889505\n",
       "30     27.970849\n",
       "31      2.469575\n",
       "32     21.839599\n",
       "33     10.668063\n",
       "34      0.162001\n",
       "35      0.434010\n",
       "36      0.123359\n",
       "37     10.508971\n",
       "38     15.580703\n",
       "39     29.939988\n",
       "40    314.105748\n",
       "41      0.125912\n",
       "42     28.538682\n",
       "43     13.585507\n",
       "44     12.069643\n",
       "45     18.614888\n",
       "46     45.079367\n",
       "47     22.004716\n",
       "48      9.938697\n",
       "49      1.177989\n",
       "50     22.578547\n",
       "51      2.977855\n",
       "52     11.290926\n",
       "53      0.018384\n",
       "54     15.857582\n",
       "55     28.917764\n",
       "dtype: float64"
      ]
     },
     "execution_count": 110,
     "metadata": {},
     "output_type": "execute_result"
    }
   ],
   "source": [
    "us_states_shp_gdf['geometry'].area"
   ]
  },
  {
   "cell_type": "code",
   "execution_count": 111,
   "metadata": {},
   "outputs": [
    {
     "name": "stderr",
     "output_type": "stream",
     "text": [
      "<ipython-input-111-ecfa7dab74e6>:1: UserWarning: Geometry is in a geographic CRS. Results from 'centroid' are likely incorrect. Use 'GeoSeries.to_crs()' to re-project geometries to a projected CRS before this operation.\n",
      "\n",
      "  us_states_shp_gdf['geometry'].centroid\n"
     ]
    },
    {
     "data": {
      "text/plain": [
       "0       POINT (-80.61371 38.64257)\n",
       "1       POINT (-82.46642 28.47706)\n",
       "2       POINT (-89.14864 40.12420)\n",
       "3       POINT (-94.19835 46.34929)\n",
       "4       POINT (-76.68718 38.94649)\n",
       "5       POINT (-71.52472 41.59464)\n",
       "6      POINT (-114.65941 44.38905)\n",
       "7       POINT (-71.57124 43.68024)\n",
       "8       POINT (-79.13088 35.52604)\n",
       "9       POINT (-72.66263 44.07525)\n",
       "10      POINT (-72.73826 41.57516)\n",
       "11      POINT (-75.45249 38.99497)\n",
       "12     POINT (-106.10844 34.42130)\n",
       "13     POINT (-119.66387 37.21533)\n",
       "14      POINT (-74.65561 40.11018)\n",
       "15      POINT (-89.73297 44.63994)\n",
       "16     POINT (-120.60526 43.94045)\n",
       "17      POINT (-99.81086 41.52715)\n",
       "18      POINT (-77.83894 40.89670)\n",
       "19     POINT (-120.59282 47.41162)\n",
       "20      POINT (-91.81423 30.90907)\n",
       "21      POINT (-83.42725 32.63864)\n",
       "22      POINT (-86.84452 32.75688)\n",
       "23     POINT (-111.67825 39.32377)\n",
       "24      POINT (-82.70938 40.41549)\n",
       "25      POINT (-99.31712 31.44720)\n",
       "26     POINT (-105.54782 38.99853)\n",
       "27      POINT (-80.86459 33.87775)\n",
       "28      POINT (-97.50824 35.58347)\n",
       "29      POINT (-86.34341 35.84298)\n",
       "30     POINT (-107.55140 42.99954)\n",
       "31     POINT (-158.10997 20.99511)\n",
       "32     POINT (-100.46932 47.44631)\n",
       "33      POINT (-85.29056 37.52661)\n",
       "34      POINT (-64.83904 18.05982)\n",
       "35      POINT (145.59572 16.81709)\n",
       "36      POINT (144.76945 13.44276)\n",
       "37      POINT (-69.20276 45.27432)\n",
       "38      POINT (-75.59654 42.92123)\n",
       "39     POINT (-116.65525 39.35619)\n",
       "40     POINT (-151.60061 63.73664)\n",
       "41    POINT (-170.07959 -13.96602)\n",
       "42      POINT (-85.73095 44.87477)\n",
       "43      POINT (-92.43925 34.89978)\n",
       "44      POINT (-89.65336 32.71289)\n",
       "45      POINT (-92.47742 38.36764)\n",
       "46     POINT (-109.64515 47.03342)\n",
       "47      POINT (-98.38016 38.48473)\n",
       "48      POINT (-86.28184 39.91987)\n",
       "49      POINT (-66.41467 18.21570)\n",
       "50     POINT (-100.23046 44.43613)\n",
       "51      POINT (-71.50397 42.16009)\n",
       "52      POINT (-78.66636 37.51087)\n",
       "53      POINT (-77.01630 38.90477)\n",
       "54      POINT (-93.50009 42.07465)\n",
       "55     POINT (-111.66445 34.29314)\n",
       "dtype: geometry"
      ]
     },
     "execution_count": 111,
     "metadata": {},
     "output_type": "execute_result"
    }
   ],
   "source": [
    "us_states_shp_gdf['geometry'].centroid"
   ]
  },
  {
   "cell_type": "markdown",
   "metadata": {},
   "source": [
    "## Projections\n",
    "\n",
    "The warnings (red boxes) we got by accessing the attributes above reference a need to use a \"CRS\". \n",
    "\n",
    "What's a CRS? CRS refers to a \"coordinate reference system\" and is a way of defining map projections. \n",
    "\n",
    "What's a [map projection](https://en.wikipedia.org/wiki/Map_projection)? Trying to represent a 3D surface in 2D requires some compromises in accuracy in some kind of way and has been an area of research within geography for centuries. \n",
    "\n",
    "[xkcd comic 977](https://xkcd.com/977/) summarizes some of the more common projections. [S02E16 of *The West Wing*](https://www.youtube.com/watch?v=OH1bZ0F3zVU) has a nice scene about map projections as well.\n",
    "\n",
    "What kinds of map projections are available? A *lot*—again this has been an active area of research within geography for centuries with lots of strongly-held preferences and critiques.\n",
    "\n",
    "* [Proj.org](https://proj.org/operations/projections/)\n",
    "* [SpatialReference.org](https://spatialreference.org/)\n",
    "* [Choosing the Right Map Projection](https://source.opennews.org/articles/choosing-right-map-projection/)\n",
    "* [List of map projections](https://en.wikipedia.org/wiki/List_of_map_projections)\n",
    "* [Compare Map Projections](https://map-projections.net/)\n",
    "\n",
    "Inspect the current CRS for any of the files we have read in above using the `.crs` attribute on the GeoDataFrame."
   ]
  },
  {
   "cell_type": "code",
   "execution_count": 112,
   "metadata": {},
   "outputs": [
    {
     "data": {
      "text/plain": [
       "<Geographic 2D CRS: EPSG:4269>\n",
       "Name: NAD83\n",
       "Axis Info [ellipsoidal]:\n",
       "- Lat[north]: Geodetic latitude (degree)\n",
       "- Lon[east]: Geodetic longitude (degree)\n",
       "Area of Use:\n",
       "- name: North America - NAD83\n",
       "- bounds: (167.65, 14.92, -47.74, 86.46)\n",
       "Datum: North American Datum 1983\n",
       "- Ellipsoid: GRS 1980\n",
       "- Prime Meridian: Greenwich"
      ]
     },
     "execution_count": 112,
     "metadata": {},
     "output_type": "execute_result"
    }
   ],
   "source": [
    "us_states_shp_gdf.crs"
   ]
  },
  {
   "cell_type": "code",
   "execution_count": 113,
   "metadata": {},
   "outputs": [
    {
     "data": {
      "text/plain": [
       "<Geographic 2D CRS: EPSG:4326>\n",
       "Name: WGS 84\n",
       "Axis Info [ellipsoidal]:\n",
       "- Lat[north]: Geodetic latitude (degree)\n",
       "- Lon[east]: Geodetic longitude (degree)\n",
       "Area of Use:\n",
       "- name: World\n",
       "- bounds: (-180.0, -90.0, 180.0, 90.0)\n",
       "Datum: World Geodetic System 1984\n",
       "- Ellipsoid: WGS 84\n",
       "- Prime Meridian: Greenwich"
      ]
     },
     "execution_count": 113,
     "metadata": {},
     "output_type": "execute_result"
    }
   ],
   "source": [
    "countries_geojson_gpd.crs"
   ]
  },
  {
   "cell_type": "markdown",
   "metadata": {},
   "source": [
    "### EPSG IDs\n",
    "The most commonly used (but not necessarily the best) projection is the [World Geodetic System](https://en.wikipedia.org/wiki/World_Geodetic_System), also known as WGS84, also known as EPSG:4326. The popular (but terrible) [Web Mercator projection](https://en.wikipedia.org/wiki/Web_Mercator_projection) (found in Google Maps, *etc*.) is stored as EPSG:3857.\n",
    "\n",
    "We can convert between projections using the `.to_crs()` method on a GeoDataFrame."
   ]
  },
  {
   "cell_type": "code",
   "execution_count": 157,
   "metadata": {},
   "outputs": [],
   "source": [
    "# First filter to the the lower 48\n",
    "lower48 = us_states_shp_gdf[~us_states_shp_gdf['STUSPS'].isin(['AK','HI','GU','MP','VI','PR','AS'])]\n",
    "\n",
    "# WGS84\n",
    "lower48_epsg4326 = lower48.copy()\n",
    "lower48_epsg4326 = lower48.to_crs(epsg='4326')\n",
    "\n",
    "# National Atlas Equal Area\n",
    "lower48_epsg2163 = lower48.to_crs(epsg='2163')\n",
    "\n",
    "# Mercator\n",
    "lower48_epsg3857 = lower48.to_crs(epsg='3857')\n",
    "\n",
    "# Polar Stereographic\n",
    "lower48_epsg3995 = lower48.to_crs(epsg='3995')"
   ]
  },
  {
   "cell_type": "code",
   "execution_count": 160,
   "metadata": {},
   "outputs": [
    {
     "data": {
      "image/png": "[encoded data removed]",
      "text/plain": [
       "<Figure size 720x1080 with 4 Axes>"
      ]
     },
     "metadata": {
      "needs_background": "light"
     },
     "output_type": "display_data"
    }
   ],
   "source": [
    "f,axs = plt.subplots(4,1,figsize=(10,15))\n",
    "\n",
    "lower48_epsg4326.plot(ax=axs[0],edgecolor='w')\n",
    "lower48_epsg2163.plot(ax=axs[1],edgecolor='w')\n",
    "lower48_epsg3857.plot(ax=axs[2],edgecolor='w')\n",
    "lower48_epsg3995.plot(ax=axs[3],edgecolor='w')\n",
    "\n",
    "axs[0].set_title('WGS84')\n",
    "axs[1].set_title('National Atlas Equal Area')\n",
    "axs[2].set_title('Mercator')\n",
    "axs[3].set_title('Arctic Polar Stereographic')\n",
    "\n",
    "f.tight_layout()"
   ]
  },
  {
   "cell_type": "markdown",
   "metadata": {},
   "source": [
    "When we change the projection, the definitions of the polygons change, which can also drastically change other calculated attributes like area, centroids, and distance."
   ]
  },
  {
   "cell_type": "code",
   "execution_count": 189,
   "metadata": {},
   "outputs": [
    {
     "name": "stderr",
     "output_type": "stream",
     "text": [
      "<ipython-input-189-0d726be4e005>:2: UserWarning: Geometry is in a geographic CRS. Results from 'area' are likely incorrect. Use 'GeoSeries.to_crs()' to re-project geometries to a projected CRS before this operation.\n",
      "\n",
      "  'WGS84':lower48_epsg4326['geometry'].area,\n"
     ]
    },
    {
     "data": {
      "text/html": [
       "<div>\n",
       "<style scoped>\n",
       "    .dataframe tbody tr th:only-of-type {\n",
       "        vertical-align: middle;\n",
       "    }\n",
       "\n",
       "    .dataframe tbody tr th {\n",
       "        vertical-align: top;\n",
       "    }\n",
       "\n",
       "    .dataframe thead th {\n",
       "        text-align: right;\n",
       "    }\n",
       "</style>\n",
       "<table border=\"1\" class=\"dataframe\">\n",
       "  <thead>\n",
       "    <tr style=\"text-align: right;\">\n",
       "      <th></th>\n",
       "      <th>Name</th>\n",
       "      <th>WGS84</th>\n",
       "      <th>NAEA</th>\n",
       "      <th>Mercator</th>\n",
       "      <th>Arctic Polar</th>\n",
       "    </tr>\n",
       "  </thead>\n",
       "  <tbody>\n",
       "    <tr>\n",
       "      <th>22</th>\n",
       "      <td>Alabama</td>\n",
       "      <td>13.067232</td>\n",
       "      <td>1.358426e+11</td>\n",
       "      <td>1.926308e+11</td>\n",
       "      <td>2.162693e+11</td>\n",
       "    </tr>\n",
       "    <tr>\n",
       "      <th>55</th>\n",
       "      <td>Arizona</td>\n",
       "      <td>28.917764</td>\n",
       "      <td>2.952862e+11</td>\n",
       "      <td>4.340558e+11</td>\n",
       "      <td>4.572069e+11</td>\n",
       "    </tr>\n",
       "    <tr>\n",
       "      <th>43</th>\n",
       "      <td>Arkansas</td>\n",
       "      <td>13.585507</td>\n",
       "      <td>1.377454e+11</td>\n",
       "      <td>2.053279e+11</td>\n",
       "      <td>2.107847e+11</td>\n",
       "    </tr>\n",
       "    <tr>\n",
       "      <th>13</th>\n",
       "      <td>California</td>\n",
       "      <td>43.083233</td>\n",
       "      <td>4.237900e+11</td>\n",
       "      <td>6.718908e+11</td>\n",
       "      <td>6.247801e+11</td>\n",
       "    </tr>\n",
       "    <tr>\n",
       "      <th>26</th>\n",
       "      <td>Colorado</td>\n",
       "      <td>28.039756</td>\n",
       "      <td>2.693810e+11</td>\n",
       "      <td>4.473108e+11</td>\n",
       "      <td>3.843476e+11</td>\n",
       "    </tr>\n",
       "    <tr>\n",
       "      <th>10</th>\n",
       "      <td>Connecticut</td>\n",
       "      <td>1.550106</td>\n",
       "      <td>1.433763e+10</td>\n",
       "      <td>2.567823e+10</td>\n",
       "      <td>1.962298e+10</td>\n",
       "    </tr>\n",
       "    <tr>\n",
       "      <th>11</th>\n",
       "      <td>Delaware</td>\n",
       "      <td>0.670238</td>\n",
       "      <td>6.440554e+09</td>\n",
       "      <td>1.068708e+10</td>\n",
       "      <td>9.183724e+09</td>\n",
       "    </tr>\n",
       "    <tr>\n",
       "      <th>53</th>\n",
       "      <td>District of Columbia</td>\n",
       "      <td>0.018384</td>\n",
       "      <td>1.768840e+08</td>\n",
       "      <td>2.927452e+08</td>\n",
       "      <td>2.525767e+08</td>\n",
       "    </tr>\n",
       "    <tr>\n",
       "      <th>1</th>\n",
       "      <td>Florida</td>\n",
       "      <td>15.700129</td>\n",
       "      <td>1.705538e+11</td>\n",
       "      <td>2.215000e+11</td>\n",
       "      <td>2.955948e+11</td>\n",
       "    </tr>\n",
       "    <tr>\n",
       "      <th>21</th>\n",
       "      <td>Georgia</td>\n",
       "      <td>14.793512</td>\n",
       "      <td>1.539942e+11</td>\n",
       "      <td>2.177853e+11</td>\n",
       "      <td>2.457009e+11</td>\n",
       "    </tr>\n",
       "    <tr>\n",
       "      <th>6</th>\n",
       "      <td>Idaho</td>\n",
       "      <td>24.456637</td>\n",
       "      <td>2.159931e+11</td>\n",
       "      <td>4.246751e+11</td>\n",
       "      <td>2.839028e+11</td>\n",
       "    </tr>\n",
       "    <tr>\n",
       "      <th>2</th>\n",
       "      <td>Illinois</td>\n",
       "      <td>15.852627</td>\n",
       "      <td>1.498327e+11</td>\n",
       "      <td>2.570907e+11</td>\n",
       "      <td>2.099934e+11</td>\n",
       "    </tr>\n",
       "    <tr>\n",
       "      <th>48</th>\n",
       "      <td>Indiana</td>\n",
       "      <td>9.938697</td>\n",
       "      <td>9.422913e+10</td>\n",
       "      <td>1.606546e+11</td>\n",
       "      <td>1.324413e+11</td>\n",
       "    </tr>\n",
       "    <tr>\n",
       "      <th>54</th>\n",
       "      <td>Iowa</td>\n",
       "      <td>15.857582</td>\n",
       "      <td>1.455209e+11</td>\n",
       "      <td>2.648092e+11</td>\n",
       "      <td>1.977109e+11</td>\n",
       "    </tr>\n",
       "    <tr>\n",
       "      <th>47</th>\n",
       "      <td>Kansas</td>\n",
       "      <td>22.004716</td>\n",
       "      <td>2.129475e+11</td>\n",
       "      <td>3.484440e+11</td>\n",
       "      <td>3.063086e+11</td>\n",
       "    </tr>\n",
       "    <tr>\n",
       "      <th>33</th>\n",
       "      <td>Kentucky</td>\n",
       "      <td>10.668063</td>\n",
       "      <td>1.046029e+11</td>\n",
       "      <td>1.667121e+11</td>\n",
       "      <td>1.528607e+11</td>\n",
       "    </tr>\n",
       "    <tr>\n",
       "      <th>20</th>\n",
       "      <td>Louisiana</td>\n",
       "      <td>12.801679</td>\n",
       "      <td>1.357788e+11</td>\n",
       "      <td>1.849585e+11</td>\n",
       "      <td>2.239087e+11</td>\n",
       "    </tr>\n",
       "    <tr>\n",
       "      <th>37</th>\n",
       "      <td>Maine</td>\n",
       "      <td>10.508971</td>\n",
       "      <td>9.142387e+10</td>\n",
       "      <td>1.851432e+11</td>\n",
       "      <td>1.185436e+11</td>\n",
       "    </tr>\n",
       "    <tr>\n",
       "      <th>4</th>\n",
       "      <td>Maryland</td>\n",
       "      <td>3.338785</td>\n",
       "      <td>3.210473e+10</td>\n",
       "      <td>5.320401e+10</td>\n",
       "      <td>4.581904e+10</td>\n",
       "    </tr>\n",
       "    <tr>\n",
       "      <th>51</th>\n",
       "      <td>Massachusetts</td>\n",
       "      <td>2.977855</td>\n",
       "      <td>2.729233e+10</td>\n",
       "      <td>4.978455e+10</td>\n",
       "      <td>3.702205e+10</td>\n",
       "    </tr>\n",
       "    <tr>\n",
       "      <th>42</th>\n",
       "      <td>Michigan</td>\n",
       "      <td>28.538682</td>\n",
       "      <td>2.499395e+11</td>\n",
       "      <td>4.997446e+11</td>\n",
       "      <td>3.262728e+11</td>\n",
       "    </tr>\n",
       "    <tr>\n",
       "      <th>3</th>\n",
       "      <td>Minnesota</td>\n",
       "      <td>26.326705</td>\n",
       "      <td>2.246024e+11</td>\n",
       "      <td>4.732022e+11</td>\n",
       "      <td>2.871338e+11</td>\n",
       "    </tr>\n",
       "    <tr>\n",
       "      <th>44</th>\n",
       "      <td>Mississippi</td>\n",
       "      <td>12.069643</td>\n",
       "      <td>1.255312e+11</td>\n",
       "      <td>1.778440e+11</td>\n",
       "      <td>2.000349e+11</td>\n",
       "    </tr>\n",
       "    <tr>\n",
       "      <th>45</th>\n",
       "      <td>Missouri</td>\n",
       "      <td>18.614888</td>\n",
       "      <td>1.804155e+11</td>\n",
       "      <td>2.943615e+11</td>\n",
       "      <td>2.601210e+11</td>\n",
       "    </tr>\n",
       "    <tr>\n",
       "      <th>46</th>\n",
       "      <td>Montana</td>\n",
       "      <td>45.079367</td>\n",
       "      <td>3.798095e+11</td>\n",
       "      <td>8.201916e+11</td>\n",
       "      <td>4.807896e+11</td>\n",
       "    </tr>\n",
       "    <tr>\n",
       "      <th>17</th>\n",
       "      <td>Nebraska</td>\n",
       "      <td>21.613787</td>\n",
       "      <td>2.000453e+11</td>\n",
       "      <td>3.578636e+11</td>\n",
       "      <td>2.740838e+11</td>\n",
       "    </tr>\n",
       "    <tr>\n",
       "      <th>39</th>\n",
       "      <td>Nevada</td>\n",
       "      <td>29.939988</td>\n",
       "      <td>2.861168e+11</td>\n",
       "      <td>4.802968e+11</td>\n",
       "      <td>4.061656e+11</td>\n",
       "    </tr>\n",
       "    <tr>\n",
       "      <th>7</th>\n",
       "      <td>New Hampshire</td>\n",
       "      <td>2.703138</td>\n",
       "      <td>2.416970e+10</td>\n",
       "      <td>4.632643e+10</td>\n",
       "      <td>3.205559e+10</td>\n",
       "    </tr>\n",
       "    <tr>\n",
       "      <th>14</th>\n",
       "      <td>New Jersey</td>\n",
       "      <td>2.386717</td>\n",
       "      <td>2.256813e+10</td>\n",
       "      <td>3.867718e+10</td>\n",
       "      <td>3.161051e+10</td>\n",
       "    </tr>\n",
       "    <tr>\n",
       "      <th>12</th>\n",
       "      <td>New Mexico</td>\n",
       "      <td>30.893557</td>\n",
       "      <td>3.149869e+11</td>\n",
       "      <td>4.644022e+11</td>\n",
       "      <td>4.865349e+11</td>\n",
       "    </tr>\n",
       "    <tr>\n",
       "      <th>38</th>\n",
       "      <td>New York</td>\n",
       "      <td>15.580703</td>\n",
       "      <td>1.410507e+11</td>\n",
       "      <td>2.637690e+11</td>\n",
       "      <td>1.892393e+11</td>\n",
       "    </tr>\n",
       "    <tr>\n",
       "      <th>8</th>\n",
       "      <td>North Carolina</td>\n",
       "      <td>13.852160</td>\n",
       "      <td>1.393826e+11</td>\n",
       "      <td>2.109418e+11</td>\n",
       "      <td>2.108543e+11</td>\n",
       "    </tr>\n",
       "    <tr>\n",
       "      <th>32</th>\n",
       "      <td>North Dakota</td>\n",
       "      <td>21.839599</td>\n",
       "      <td>1.825954e+11</td>\n",
       "      <td>4.003448e+11</td>\n",
       "      <td>2.297928e+11</td>\n",
       "    </tr>\n",
       "    <tr>\n",
       "      <th>24</th>\n",
       "      <td>Ohio</td>\n",
       "      <td>12.320069</td>\n",
       "      <td>1.159635e+11</td>\n",
       "      <td>2.005834e+11</td>\n",
       "      <td>1.616773e+11</td>\n",
       "    </tr>\n",
       "    <tr>\n",
       "      <th>28</th>\n",
       "      <td>Oklahoma</td>\n",
       "      <td>18.005045</td>\n",
       "      <td>1.810267e+11</td>\n",
       "      <td>2.744190e+11</td>\n",
       "      <td>2.736487e+11</td>\n",
       "    </tr>\n",
       "    <tr>\n",
       "      <th>16</th>\n",
       "      <td>Oregon</td>\n",
       "      <td>28.568477</td>\n",
       "      <td>2.542965e+11</td>\n",
       "      <td>4.919326e+11</td>\n",
       "      <td>3.361425e+11</td>\n",
       "    </tr>\n",
       "    <tr>\n",
       "      <th>18</th>\n",
       "      <td>Pennsylvania</td>\n",
       "      <td>12.747187</td>\n",
       "      <td>1.191278e+11</td>\n",
       "      <td>2.090129e+11</td>\n",
       "      <td>1.648035e+11</td>\n",
       "    </tr>\n",
       "    <tr>\n",
       "      <th>5</th>\n",
       "      <td>Rhode Island</td>\n",
       "      <td>0.432129</td>\n",
       "      <td>3.995714e+09</td>\n",
       "      <td>7.160497e+09</td>\n",
       "      <td>5.466949e+09</td>\n",
       "    </tr>\n",
       "    <tr>\n",
       "      <th>27</th>\n",
       "      <td>South Carolina</td>\n",
       "      <td>8.082971</td>\n",
       "      <td>8.296648e+10</td>\n",
       "      <td>1.206655e+11</td>\n",
       "      <td>1.292997e+11</td>\n",
       "    </tr>\n",
       "    <tr>\n",
       "      <th>50</th>\n",
       "      <td>South Dakota</td>\n",
       "      <td>22.578547</td>\n",
       "      <td>1.993119e+11</td>\n",
       "      <td>3.919817e+11</td>\n",
       "      <td>2.615026e+11</td>\n",
       "    </tr>\n",
       "    <tr>\n",
       "      <th>29</th>\n",
       "      <td>Tennessee</td>\n",
       "      <td>10.889505</td>\n",
       "      <td>1.091399e+11</td>\n",
       "      <td>1.664790e+11</td>\n",
       "      <td>1.641714e+11</td>\n",
       "    </tr>\n",
       "    <tr>\n",
       "      <th>25</th>\n",
       "      <td>Texas</td>\n",
       "      <td>66.054191</td>\n",
       "      <td>6.962383e+11</td>\n",
       "      <td>9.607234e+11</td>\n",
       "      <td>1.138670e+12</td>\n",
       "    </tr>\n",
       "    <tr>\n",
       "      <th>23</th>\n",
       "      <td>Utah</td>\n",
       "      <td>22.974950</td>\n",
       "      <td>2.196867e+11</td>\n",
       "      <td>3.682859e+11</td>\n",
       "      <td>3.118799e+11</td>\n",
       "    </tr>\n",
       "    <tr>\n",
       "      <th>9</th>\n",
       "      <td>Vermont</td>\n",
       "      <td>2.798213</td>\n",
       "      <td>2.485456e+10</td>\n",
       "      <td>4.827443e+10</td>\n",
       "      <td>3.277434e+10</td>\n",
       "    </tr>\n",
       "    <tr>\n",
       "      <th>52</th>\n",
       "      <td>Virginia</td>\n",
       "      <td>11.290926</td>\n",
       "      <td>1.107317e+11</td>\n",
       "      <td>1.764152e+11</td>\n",
       "      <td>1.618702e+11</td>\n",
       "    </tr>\n",
       "    <tr>\n",
       "      <th>19</th>\n",
       "      <td>Washington</td>\n",
       "      <td>22.011460</td>\n",
       "      <td>1.841532e+11</td>\n",
       "      <td>4.032314e+11</td>\n",
       "      <td>2.318620e+11</td>\n",
       "    </tr>\n",
       "    <tr>\n",
       "      <th>0</th>\n",
       "      <td>West Virginia</td>\n",
       "      <td>6.493870</td>\n",
       "      <td>6.270846e+10</td>\n",
       "      <td>1.030459e+11</td>\n",
       "      <td>8.995173e+10</td>\n",
       "    </tr>\n",
       "    <tr>\n",
       "      <th>15</th>\n",
       "      <td>Wisconsin</td>\n",
       "      <td>19.244859</td>\n",
       "      <td>1.692747e+11</td>\n",
       "      <td>3.353696e+11</td>\n",
       "      <td>2.215146e+11</td>\n",
       "    </tr>\n",
       "    <tr>\n",
       "      <th>30</th>\n",
       "      <td>Wyoming</td>\n",
       "      <td>27.970849</td>\n",
       "      <td>2.528819e+11</td>\n",
       "      <td>4.741973e+11</td>\n",
       "      <td>3.389433e+11</td>\n",
       "    </tr>\n",
       "  </tbody>\n",
       "</table>\n",
       "</div>"
      ],
      "text/plain": [
       "                    Name      WGS84          NAEA      Mercator  Arctic Polar\n",
       "22               Alabama  13.067232  1.358426e+11  1.926308e+11  2.162693e+11\n",
       "55               Arizona  28.917764  2.952862e+11  4.340558e+11  4.572069e+11\n",
       "43              Arkansas  13.585507  1.377454e+11  2.053279e+11  2.107847e+11\n",
       "13            California  43.083233  4.237900e+11  6.718908e+11  6.247801e+11\n",
       "26              Colorado  28.039756  2.693810e+11  4.473108e+11  3.843476e+11\n",
       "10           Connecticut   1.550106  1.433763e+10  2.567823e+10  1.962298e+10\n",
       "11              Delaware   0.670238  6.440554e+09  1.068708e+10  9.183724e+09\n",
       "53  District of Columbia   0.018384  1.768840e+08  2.927452e+08  2.525767e+08\n",
       "1                Florida  15.700129  1.705538e+11  2.215000e+11  2.955948e+11\n",
       "21               Georgia  14.793512  1.539942e+11  2.177853e+11  2.457009e+11\n",
       "6                  Idaho  24.456637  2.159931e+11  4.246751e+11  2.839028e+11\n",
       "2               Illinois  15.852627  1.498327e+11  2.570907e+11  2.099934e+11\n",
       "48               Indiana   9.938697  9.422913e+10  1.606546e+11  1.324413e+11\n",
       "54                  Iowa  15.857582  1.455209e+11  2.648092e+11  1.977109e+11\n",
       "47                Kansas  22.004716  2.129475e+11  3.484440e+11  3.063086e+11\n",
       "33              Kentucky  10.668063  1.046029e+11  1.667121e+11  1.528607e+11\n",
       "20             Louisiana  12.801679  1.357788e+11  1.849585e+11  2.239087e+11\n",
       "37                 Maine  10.508971  9.142387e+10  1.851432e+11  1.185436e+11\n",
       "4               Maryland   3.338785  3.210473e+10  5.320401e+10  4.581904e+10\n",
       "51         Massachusetts   2.977855  2.729233e+10  4.978455e+10  3.702205e+10\n",
       "42              Michigan  28.538682  2.499395e+11  4.997446e+11  3.262728e+11\n",
       "3              Minnesota  26.326705  2.246024e+11  4.732022e+11  2.871338e+11\n",
       "44           Mississippi  12.069643  1.255312e+11  1.778440e+11  2.000349e+11\n",
       "45              Missouri  18.614888  1.804155e+11  2.943615e+11  2.601210e+11\n",
       "46               Montana  45.079367  3.798095e+11  8.201916e+11  4.807896e+11\n",
       "17              Nebraska  21.613787  2.000453e+11  3.578636e+11  2.740838e+11\n",
       "39                Nevada  29.939988  2.861168e+11  4.802968e+11  4.061656e+11\n",
       "7          New Hampshire   2.703138  2.416970e+10  4.632643e+10  3.205559e+10\n",
       "14            New Jersey   2.386717  2.256813e+10  3.867718e+10  3.161051e+10\n",
       "12            New Mexico  30.893557  3.149869e+11  4.644022e+11  4.865349e+11\n",
       "38              New York  15.580703  1.410507e+11  2.637690e+11  1.892393e+11\n",
       "8         North Carolina  13.852160  1.393826e+11  2.109418e+11  2.108543e+11\n",
       "32          North Dakota  21.839599  1.825954e+11  4.003448e+11  2.297928e+11\n",
       "24                  Ohio  12.320069  1.159635e+11  2.005834e+11  1.616773e+11\n",
       "28              Oklahoma  18.005045  1.810267e+11  2.744190e+11  2.736487e+11\n",
       "16                Oregon  28.568477  2.542965e+11  4.919326e+11  3.361425e+11\n",
       "18          Pennsylvania  12.747187  1.191278e+11  2.090129e+11  1.648035e+11\n",
       "5           Rhode Island   0.432129  3.995714e+09  7.160497e+09  5.466949e+09\n",
       "27        South Carolina   8.082971  8.296648e+10  1.206655e+11  1.292997e+11\n",
       "50          South Dakota  22.578547  1.993119e+11  3.919817e+11  2.615026e+11\n",
       "29             Tennessee  10.889505  1.091399e+11  1.664790e+11  1.641714e+11\n",
       "25                 Texas  66.054191  6.962383e+11  9.607234e+11  1.138670e+12\n",
       "23                  Utah  22.974950  2.196867e+11  3.682859e+11  3.118799e+11\n",
       "9                Vermont   2.798213  2.485456e+10  4.827443e+10  3.277434e+10\n",
       "52              Virginia  11.290926  1.107317e+11  1.764152e+11  1.618702e+11\n",
       "19            Washington  22.011460  1.841532e+11  4.032314e+11  2.318620e+11\n",
       "0          West Virginia   6.493870  6.270846e+10  1.030459e+11  8.995173e+10\n",
       "15             Wisconsin  19.244859  1.692747e+11  3.353696e+11  2.215146e+11\n",
       "30               Wyoming  27.970849  2.528819e+11  4.741973e+11  3.389433e+11"
      ]
     },
     "execution_count": 189,
     "metadata": {},
     "output_type": "execute_result"
    }
   ],
   "source": [
    "pd.DataFrame({'Name':lower48_epsg3995['NAME'],\n",
    "              'WGS84':lower48_epsg4326['geometry'].area,\n",
    "              'NAEA':lower48_epsg2163['geometry'].area,\n",
    "              'Mercator':lower48_epsg3857['geometry'].area,\n",
    "              'Arctic Polar':lower48_epsg3995['geometry'].area}).sort_values('Name')"
   ]
  },
  {
   "cell_type": "code",
   "execution_count": 188,
   "metadata": {},
   "outputs": [
    {
     "name": "stderr",
     "output_type": "stream",
     "text": [
      "<ipython-input-188-bb546451d657>:2: UserWarning: Geometry is in a geographic CRS. Results from 'centroid' are likely incorrect. Use 'GeoSeries.to_crs()' to re-project geometries to a projected CRS before this operation.\n",
      "\n",
      "  'WGS84':lower48_epsg4326['geometry'].centroid,\n"
     ]
    },
    {
     "data": {
      "text/html": [
       "<div>\n",
       "<style scoped>\n",
       "    .dataframe tbody tr th:only-of-type {\n",
       "        vertical-align: middle;\n",
       "    }\n",
       "\n",
       "    .dataframe tbody tr th {\n",
       "        vertical-align: top;\n",
       "    }\n",
       "\n",
       "    .dataframe thead th {\n",
       "        text-align: right;\n",
       "    }\n",
       "</style>\n",
       "<table border=\"1\" class=\"dataframe\">\n",
       "  <thead>\n",
       "    <tr style=\"text-align: right;\">\n",
       "      <th></th>\n",
       "      <th>Name</th>\n",
       "      <th>WGS84</th>\n",
       "      <th>NAEA</th>\n",
       "      <th>Mercator</th>\n",
       "      <th>Arctic Polar</th>\n",
       "    </tr>\n",
       "  </thead>\n",
       "  <tbody>\n",
       "    <tr>\n",
       "      <th>22</th>\n",
       "      <td>Alabama</td>\n",
       "      <td>POINT (-86.84452 32.75688)</td>\n",
       "      <td>POINT (1231016.045 -1265150.396)</td>\n",
       "      <td>POINT (-9667358.332 3866441.790)</td>\n",
       "      <td>POINT (-6769634.481 -372511.855)</td>\n",
       "    </tr>\n",
       "    <tr>\n",
       "      <th>55</th>\n",
       "      <td>Arizona</td>\n",
       "      <td>POINT (-111.66445 34.29314)</td>\n",
       "      <td>POINT (-1071607.362 -1116803.075)</td>\n",
       "      <td>POINT (-12430647.925 4073991.946)</td>\n",
       "      <td>POINT (-6105425.080 2424066.288)</td>\n",
       "    </tr>\n",
       "    <tr>\n",
       "      <th>43</th>\n",
       "      <td>Arkansas</td>\n",
       "      <td>POINT (-92.43925 34.89978)</td>\n",
       "      <td>POINT (690681.965 -1091310.094)</td>\n",
       "      <td>POINT (-10290086.756 4152643.632)</td>\n",
       "      <td>POINT (-6473892.275 276662.479)</td>\n",
       "    </tr>\n",
       "    <tr>\n",
       "      <th>13</th>\n",
       "      <td>California</td>\n",
       "      <td>POINT (-119.66387 37.21533)</td>\n",
       "      <td>POINT (-1713308.837 -669600.817)</td>\n",
       "      <td>POINT (-13328610.815 4488030.013)</td>\n",
       "      <td>POINT (-5390424.860 3036701.919)</td>\n",
       "    </tr>\n",
       "    <tr>\n",
       "      <th>26</th>\n",
       "      <td>Colorado</td>\n",
       "      <td>POINT (-105.54782 38.99853)</td>\n",
       "      <td>POINT (-479519.583 -650966.040)</td>\n",
       "      <td>POINT (-11749535.475 4725520.555)</td>\n",
       "      <td>POINT (-5709627.870 1588531.191)</td>\n",
       "    </tr>\n",
       "    <tr>\n",
       "      <th>10</th>\n",
       "      <td>Connecticut</td>\n",
       "      <td>POINT (-72.73826 41.57516)</td>\n",
       "      <td>POINT (2216816.523 -6380.378)</td>\n",
       "      <td>POINT (-8097127.123 5097807.463)</td>\n",
       "      <td>POINT (-5334697.551 -1657475.497)</td>\n",
       "    </tr>\n",
       "    <tr>\n",
       "      <th>11</th>\n",
       "      <td>Delaware</td>\n",
       "      <td>POINT (-75.45249 38.99497)</td>\n",
       "      <td>POINT (2086189.927 -355148.563)</td>\n",
       "      <td>POINT (-8399394.066 4721369.273)</td>\n",
       "      <td>POINT (-5735110.942 -1488492.057)</td>\n",
       "    </tr>\n",
       "    <tr>\n",
       "      <th>53</th>\n",
       "      <td>District of Columbia</td>\n",
       "      <td>POINT (-77.01630 38.90477)</td>\n",
       "      <td>POINT (1960217.654 -403186.617)</td>\n",
       "      <td>POINT (-8573416.519 4708045.622)</td>\n",
       "      <td>POINT (-5784727.191 -1333779.231)</td>\n",
       "    </tr>\n",
       "    <tr>\n",
       "      <th>1</th>\n",
       "      <td>Florida</td>\n",
       "      <td>POINT (-82.46642 28.47706)</td>\n",
       "      <td>POINT (1721588.654 -1657757.651)</td>\n",
       "      <td>POINT (-9182527.185 3314705.456)</td>\n",
       "      <td>POINT (-7331387.754 -984287.465)</td>\n",
       "    </tr>\n",
       "    <tr>\n",
       "      <th>21</th>\n",
       "      <td>Georgia</td>\n",
       "      <td>POINT (-83.42725 32.63864)</td>\n",
       "      <td>POINT (1549877.401 -1221878.173)</td>\n",
       "      <td>POINT (-9287682.935 3850624.937)</td>\n",
       "      <td>POINT (-6750654.533 -780656.581)</td>\n",
       "    </tr>\n",
       "    <tr>\n",
       "      <th>6</th>\n",
       "      <td>Idaho</td>\n",
       "      <td>POINT (-114.65941 44.38905)</td>\n",
       "      <td>POINT (-1153625.715 32167.489)</td>\n",
       "      <td>POINT (-12766549.745 5538073.382)</td>\n",
       "      <td>POINT (-4760577.244 2178121.897)</td>\n",
       "    </tr>\n",
       "    <tr>\n",
       "      <th>2</th>\n",
       "      <td>Illinois</td>\n",
       "      <td>POINT (-89.14864 40.12420)</td>\n",
       "      <td>POINT (920201.831 -484118.265)</td>\n",
       "      <td>POINT (-9923892.578 4890118.655)</td>\n",
       "      <td>POINT (-5782830.253 -85747.985)</td>\n",
       "    </tr>\n",
       "    <tr>\n",
       "      <th>48</th>\n",
       "      <td>Indiana</td>\n",
       "      <td>POINT (-86.28184 39.91987)</td>\n",
       "      <td>POINT (1164015.580 -469457.076)</td>\n",
       "      <td>POINT (-9604552.065 4857991.678)</td>\n",
       "      <td>POINT (-5795002.205 -375552.366)</td>\n",
       "    </tr>\n",
       "    <tr>\n",
       "      <th>54</th>\n",
       "      <td>Iowa</td>\n",
       "      <td>POINT (-93.50009 42.07465)</td>\n",
       "      <td>POINT (536228.086 -303864.105)</td>\n",
       "      <td>POINT (-10408617.549 5174552.164)</td>\n",
       "      <td>POINT (-5512025.627 336454.991)</td>\n",
       "    </tr>\n",
       "    <tr>\n",
       "      <th>47</th>\n",
       "      <td>Kansas</td>\n",
       "      <td>POINT (-98.38016 38.48473)</td>\n",
       "      <td>POINT (141304.940 -721475.619)</td>\n",
       "      <td>POINT (-10951719.496 4650329.527)</td>\n",
       "      <td>POINT (-5927665.278 872906.524)</td>\n",
       "    </tr>\n",
       "    <tr>\n",
       "      <th>33</th>\n",
       "      <td>Kentucky</td>\n",
       "      <td>POINT (-85.29056 37.52661)</td>\n",
       "      <td>POINT (1290345.083 -715429.116)</td>\n",
       "      <td>POINT (-9493871.747 4513764.568)</td>\n",
       "      <td>POINT (-6098542.348 -500063.133)</td>\n",
       "    </tr>\n",
       "    <tr>\n",
       "      <th>20</th>\n",
       "      <td>Louisiana</td>\n",
       "      <td>POINT (-91.81423 30.90907)</td>\n",
       "      <td>POINT (786977.489 -1525953.572)</td>\n",
       "      <td>POINT (-10221606.051 3623531.288)</td>\n",
       "      <td>POINT (-7035283.380 218111.390)</td>\n",
       "    </tr>\n",
       "    <tr>\n",
       "      <th>37</th>\n",
       "      <td>Maine</td>\n",
       "      <td>POINT (-69.20276 45.27432)</td>\n",
       "      <td>POINT (2336302.312 484371.170)</td>\n",
       "      <td>POINT (-7703005.382 5668997.402)</td>\n",
       "      <td>POINT (-4783277.549 -1815023.599)</td>\n",
       "    </tr>\n",
       "    <tr>\n",
       "      <th>4</th>\n",
       "      <td>Maryland</td>\n",
       "      <td>POINT (-76.68718 38.94649)</td>\n",
       "      <td>POINT (1986749.363 -390596.970)</td>\n",
       "      <td>POINT (-8537240.000 4714888.964)</td>\n",
       "      <td>POINT (-5771720.829 -1367401.619)</td>\n",
       "    </tr>\n",
       "    <tr>\n",
       "      <th>51</th>\n",
       "      <td>Massachusetts</td>\n",
       "      <td>POINT (-71.50397 42.16009)</td>\n",
       "      <td>POINT (2290891.020 90746.955)</td>\n",
       "      <td>POINT (-7960144.008 5185530.519)</td>\n",
       "      <td>POINT (-5225281.426 -1749095.117)</td>\n",
       "    </tr>\n",
       "    <tr>\n",
       "      <th>42</th>\n",
       "      <td>Michigan</td>\n",
       "      <td>POINT (-85.73095 44.87477)</td>\n",
       "      <td>POINT (1122571.329 81514.079)</td>\n",
       "      <td>POINT (-9547333.248 5614355.889)</td>\n",
       "      <td>POINT (-5158759.069 -394646.190)</td>\n",
       "    </tr>\n",
       "    <tr>\n",
       "      <th>3</th>\n",
       "      <td>Minnesota</td>\n",
       "      <td>POINT (-94.19835 46.34929)</td>\n",
       "      <td>POINT (444915.912 162277.230)</td>\n",
       "      <td>POINT (-10486086.612 5847370.873)</td>\n",
       "      <td>POINT (-4972728.650 365132.790)</td>\n",
       "    </tr>\n",
       "    <tr>\n",
       "      <th>44</th>\n",
       "      <td>Mississippi</td>\n",
       "      <td>POINT (-89.65336 32.71289)</td>\n",
       "      <td>POINT (970522.412 -1306467.165)</td>\n",
       "      <td>POINT (-9980058.315 3860928.816)</td>\n",
       "      <td>POINT (-6786816.751 -40627.924)</td>\n",
       "    </tr>\n",
       "    <tr>\n",
       "      <th>45</th>\n",
       "      <td>Missouri</td>\n",
       "      <td>POINT (-92.47742 38.36764)</td>\n",
       "      <td>POINT (657521.261 -708423.079)</td>\n",
       "      <td>POINT (-10295632.403 4635817.111)</td>\n",
       "      <td>POINT (-6007144.959 256035.955)</td>\n",
       "    </tr>\n",
       "    <tr>\n",
       "      <th>46</th>\n",
       "      <td>Montana</td>\n",
       "      <td>POINT (-109.64515 47.03342)</td>\n",
       "      <td>POINT (-727482.429 271798.296)</td>\n",
       "      <td>POINT (-12206325.353 5953963.265)</td>\n",
       "      <td>POINT (-4605875.363 1642499.811)</td>\n",
       "    </tr>\n",
       "    <tr>\n",
       "      <th>17</th>\n",
       "      <td>Nebraska</td>\n",
       "      <td>POINT (-99.81086 41.52715)</td>\n",
       "      <td>POINT (17088.360 -384768.587)</td>\n",
       "      <td>POINT (-11111779.606 5092807.359)</td>\n",
       "      <td>POINT (-5510004.706 950039.235)</td>\n",
       "    </tr>\n",
       "    <tr>\n",
       "      <th>39</th>\n",
       "      <td>Nevada</td>\n",
       "      <td>POINT (-116.65525 39.35619)</td>\n",
       "      <td>POINT (-1419805.140 -486987.168)</td>\n",
       "      <td>POINT (-12987291.895 4781118.914)</td>\n",
       "      <td>POINT (-5263322.313 2636761.132)</td>\n",
       "    </tr>\n",
       "    <tr>\n",
       "      <th>7</th>\n",
       "      <td>New Hampshire</td>\n",
       "      <td>POINT (-71.57124 43.68024)</td>\n",
       "      <td>POINT (2228190.903 249281.401)</td>\n",
       "      <td>POINT (-7967124.094 5417742.709)</td>\n",
       "      <td>POINT (-5044192.619 -1680364.563)</td>\n",
       "    </tr>\n",
       "    <tr>\n",
       "      <th>14</th>\n",
       "      <td>New Jersey</td>\n",
       "      <td>POINT (-74.65561 40.11018)</td>\n",
       "      <td>POINT (2115277.995 -215079.745)</td>\n",
       "      <td>POINT (-8310489.204 4883240.907)</td>\n",
       "      <td>POINT (-5573218.978 -1528832.783)</td>\n",
       "    </tr>\n",
       "    <tr>\n",
       "      <th>12</th>\n",
       "      <td>New Mexico</td>\n",
       "      <td>POINT (-106.10844 34.42130)</td>\n",
       "      <td>POINT (-562414.092 -1155585.909)</td>\n",
       "      <td>POINT (-11811710.979 4090931.208)</td>\n",
       "      <td>POINT (-6292516.654 1818372.422)</td>\n",
       "    </tr>\n",
       "    <tr>\n",
       "      <th>38</th>\n",
       "      <td>New York</td>\n",
       "      <td>POINT (-75.59654 42.92123)</td>\n",
       "      <td>POINT (1950451.367 64240.062)</td>\n",
       "      <td>POINT (-8415428.620 5303628.920)</td>\n",
       "      <td>POINT (-5243707.000 -1347174.079)</td>\n",
       "    </tr>\n",
       "    <tr>\n",
       "      <th>8</th>\n",
       "      <td>North Carolina</td>\n",
       "      <td>POINT (-79.13088 35.52604)</td>\n",
       "      <td>POINT (1870734.999 -816800.187)</td>\n",
       "      <td>POINT (-8808884.224 4236513.614)</td>\n",
       "      <td>POINT (-6273575.316 -1204976.925)</td>\n",
       "    </tr>\n",
       "    <tr>\n",
       "      <th>32</th>\n",
       "      <td>North Dakota</td>\n",
       "      <td>POINT (-100.46932 47.44631)</td>\n",
       "      <td>POINT (-35035.276 272450.115)</td>\n",
       "      <td>POINT (-11184384.239 6018895.525)</td>\n",
       "      <td>POINT (-4759725.955 879076.926)</td>\n",
       "    </tr>\n",
       "    <tr>\n",
       "      <th>24</th>\n",
       "      <td>Ohio</td>\n",
       "      <td>POINT (-82.70938 40.41549)</td>\n",
       "      <td>POINT (1451046.699 -357425.525)</td>\n",
       "      <td>POINT (-9206743.246 4929142.516)</td>\n",
       "      <td>POINT (-5693616.561 -727062.268)</td>\n",
       "    </tr>\n",
       "    <tr>\n",
       "      <th>28</th>\n",
       "      <td>Oklahoma</td>\n",
       "      <td>POINT (-97.50824 35.58347)</td>\n",
       "      <td>POINT (227355.858 -1041653.097)</td>\n",
       "      <td>POINT (-10855376.345 4245591.608)</td>\n",
       "      <td>POINT (-6329139.589 830803.550)</td>\n",
       "    </tr>\n",
       "    <tr>\n",
       "      <th>16</th>\n",
       "      <td>Oregon</td>\n",
       "      <td>POINT (-120.60526 43.94045)</td>\n",
       "      <td>POINT (-1627937.914 90395.432)</td>\n",
       "      <td>POINT (-13425396.346 5461303.028)</td>\n",
       "      <td>POINT (-4547280.596 2690819.449)</td>\n",
       "    </tr>\n",
       "    <tr>\n",
       "      <th>18</th>\n",
       "      <td>Pennsylvania</td>\n",
       "      <td>POINT (-77.83894 40.89670)</td>\n",
       "      <td>POINT (1835792.224 -205933.798)</td>\n",
       "      <td>POINT (-8665100.315 4998644.206)</td>\n",
       "      <td>POINT (-5546895.429 -1195666.023)</td>\n",
       "    </tr>\n",
       "    <tr>\n",
       "      <th>5</th>\n",
       "      <td>Rhode Island</td>\n",
       "      <td>POINT (-71.52472 41.59464)</td>\n",
       "      <td>POINT (2309961.586 29569.365)</td>\n",
       "      <td>POINT (-7962096.112 5100621.742)</td>\n",
       "      <td>POINT (-5296016.719 -1769481.623)</td>\n",
       "    </tr>\n",
       "    <tr>\n",
       "      <th>27</th>\n",
       "      <td>South Carolina</td>\n",
       "      <td>POINT (-80.86459 33.87775)</td>\n",
       "      <td>POINT (1756988.915 -1035668.770)</td>\n",
       "      <td>POINT (-9002160.465 4013661.314)</td>\n",
       "      <td>POINT (-6534781.894 -1052442.493)</td>\n",
       "    </tr>\n",
       "    <tr>\n",
       "      <th>50</th>\n",
       "      <td>South Dakota</td>\n",
       "      <td>POINT (-100.23046 44.43613)</td>\n",
       "      <td>POINT (-18006.985 -61738.945)</td>\n",
       "      <td>POINT (-11157799.317 5536178.657)</td>\n",
       "      <td>POINT (-5135245.787 926245.953)</td>\n",
       "    </tr>\n",
       "    <tr>\n",
       "      <th>29</th>\n",
       "      <td>Tennessee</td>\n",
       "      <td>POINT (-86.34341 35.84298)</td>\n",
       "      <td>POINT (1227154.339 -915406.399)</td>\n",
       "      <td>POINT (-9611300.539 4279591.787)</td>\n",
       "      <td>POINT (-6331788.449 -402983.716)</td>\n",
       "    </tr>\n",
       "    <tr>\n",
       "      <th>25</th>\n",
       "      <td>Texas</td>\n",
       "      <td>POINT (-99.31712 31.44720)</td>\n",
       "      <td>POINT (68229.144 -1504156.835)</td>\n",
       "      <td>POINT (-11057652.564 3701221.357)</td>\n",
       "      <td>POINT (-6882587.735 1120575.730)</td>\n",
       "    </tr>\n",
       "    <tr>\n",
       "      <th>23</th>\n",
       "      <td>Utah</td>\n",
       "      <td>POINT (-111.67825 39.32377)</td>\n",
       "      <td>POINT (-1000986.040 -562257.603)</td>\n",
       "      <td>POINT (-12432427.972 4773978.319)</td>\n",
       "      <td>POINT (-5471887.535 2173530.354)</td>\n",
       "    </tr>\n",
       "    <tr>\n",
       "      <th>9</th>\n",
       "      <td>Vermont</td>\n",
       "      <td>POINT (-72.66263 44.07525)</td>\n",
       "      <td>POINT (2132323.439 261651.076)</td>\n",
       "      <td>POINT (-8088576.662 5478672.651)</td>\n",
       "      <td>POINT (-5027102.856 -1568820.671)</td>\n",
       "    </tr>\n",
       "    <tr>\n",
       "      <th>52</th>\n",
       "      <td>Virginia</td>\n",
       "      <td>POINT (-78.66636 37.51087)</td>\n",
       "      <td>POINT (1859238.871 -591746.618)</td>\n",
       "      <td>POINT (-8756575.266 4511882.879)</td>\n",
       "      <td>POINT (-6002581.517 -1201125.965)</td>\n",
       "    </tr>\n",
       "    <tr>\n",
       "      <th>19</th>\n",
       "      <td>Washington</td>\n",
       "      <td>POINT (-120.59282 47.41162)</td>\n",
       "      <td>POINT (-1528368.394 466850.726)</td>\n",
       "      <td>POINT (-13424170.626 6013232.509)</td>\n",
       "      <td>POINT (-4170175.896 2465934.862)</td>\n",
       "    </tr>\n",
       "    <tr>\n",
       "      <th>0</th>\n",
       "      <td>West Virginia</td>\n",
       "      <td>POINT (-80.61371 38.64257)</td>\n",
       "      <td>POINT (1666482.824 -511067.291)</td>\n",
       "      <td>POINT (-8973323.518 4671935.334)</td>\n",
       "      <td>POINT (-5892728.656 -972096.403)</td>\n",
       "    </tr>\n",
       "    <tr>\n",
       "      <th>15</th>\n",
       "      <td>Wisconsin</td>\n",
       "      <td>POINT (-89.73297 44.63994)</td>\n",
       "      <td>POINT (811472.028 10048.573)</td>\n",
       "      <td>POINT (-9990337.538 5570483.090)</td>\n",
       "      <td>POINT (-5196847.529 -27630.031)</td>\n",
       "    </tr>\n",
       "    <tr>\n",
       "      <th>30</th>\n",
       "      <td>Wyoming</td>\n",
       "      <td>POINT (-107.55140 42.99954)</td>\n",
       "      <td>POINT (-612999.996 -194446.479)</td>\n",
       "      <td>POINT (-11972569.747 5316861.387)</td>\n",
       "      <td>POINT (-5153194.609 1629871.129)</td>\n",
       "    </tr>\n",
       "  </tbody>\n",
       "</table>\n",
       "</div>"
      ],
      "text/plain": [
       "                    Name                        WGS84  \\\n",
       "22               Alabama   POINT (-86.84452 32.75688)   \n",
       "55               Arizona  POINT (-111.66445 34.29314)   \n",
       "43              Arkansas   POINT (-92.43925 34.89978)   \n",
       "13            California  POINT (-119.66387 37.21533)   \n",
       "26              Colorado  POINT (-105.54782 38.99853)   \n",
       "10           Connecticut   POINT (-72.73826 41.57516)   \n",
       "11              Delaware   POINT (-75.45249 38.99497)   \n",
       "53  District of Columbia   POINT (-77.01630 38.90477)   \n",
       "1                Florida   POINT (-82.46642 28.47706)   \n",
       "21               Georgia   POINT (-83.42725 32.63864)   \n",
       "6                  Idaho  POINT (-114.65941 44.38905)   \n",
       "2               Illinois   POINT (-89.14864 40.12420)   \n",
       "48               Indiana   POINT (-86.28184 39.91987)   \n",
       "54                  Iowa   POINT (-93.50009 42.07465)   \n",
       "47                Kansas   POINT (-98.38016 38.48473)   \n",
       "33              Kentucky   POINT (-85.29056 37.52661)   \n",
       "20             Louisiana   POINT (-91.81423 30.90907)   \n",
       "37                 Maine   POINT (-69.20276 45.27432)   \n",
       "4               Maryland   POINT (-76.68718 38.94649)   \n",
       "51         Massachusetts   POINT (-71.50397 42.16009)   \n",
       "42              Michigan   POINT (-85.73095 44.87477)   \n",
       "3              Minnesota   POINT (-94.19835 46.34929)   \n",
       "44           Mississippi   POINT (-89.65336 32.71289)   \n",
       "45              Missouri   POINT (-92.47742 38.36764)   \n",
       "46               Montana  POINT (-109.64515 47.03342)   \n",
       "17              Nebraska   POINT (-99.81086 41.52715)   \n",
       "39                Nevada  POINT (-116.65525 39.35619)   \n",
       "7          New Hampshire   POINT (-71.57124 43.68024)   \n",
       "14            New Jersey   POINT (-74.65561 40.11018)   \n",
       "12            New Mexico  POINT (-106.10844 34.42130)   \n",
       "38              New York   POINT (-75.59654 42.92123)   \n",
       "8         North Carolina   POINT (-79.13088 35.52604)   \n",
       "32          North Dakota  POINT (-100.46932 47.44631)   \n",
       "24                  Ohio   POINT (-82.70938 40.41549)   \n",
       "28              Oklahoma   POINT (-97.50824 35.58347)   \n",
       "16                Oregon  POINT (-120.60526 43.94045)   \n",
       "18          Pennsylvania   POINT (-77.83894 40.89670)   \n",
       "5           Rhode Island   POINT (-71.52472 41.59464)   \n",
       "27        South Carolina   POINT (-80.86459 33.87775)   \n",
       "50          South Dakota  POINT (-100.23046 44.43613)   \n",
       "29             Tennessee   POINT (-86.34341 35.84298)   \n",
       "25                 Texas   POINT (-99.31712 31.44720)   \n",
       "23                  Utah  POINT (-111.67825 39.32377)   \n",
       "9                Vermont   POINT (-72.66263 44.07525)   \n",
       "52              Virginia   POINT (-78.66636 37.51087)   \n",
       "19            Washington  POINT (-120.59282 47.41162)   \n",
       "0          West Virginia   POINT (-80.61371 38.64257)   \n",
       "15             Wisconsin   POINT (-89.73297 44.63994)   \n",
       "30               Wyoming  POINT (-107.55140 42.99954)   \n",
       "\n",
       "                                 NAEA                           Mercator  \\\n",
       "22   POINT (1231016.045 -1265150.396)   POINT (-9667358.332 3866441.790)   \n",
       "55  POINT (-1071607.362 -1116803.075)  POINT (-12430647.925 4073991.946)   \n",
       "43    POINT (690681.965 -1091310.094)  POINT (-10290086.756 4152643.632)   \n",
       "13   POINT (-1713308.837 -669600.817)  POINT (-13328610.815 4488030.013)   \n",
       "26    POINT (-479519.583 -650966.040)  POINT (-11749535.475 4725520.555)   \n",
       "10      POINT (2216816.523 -6380.378)   POINT (-8097127.123 5097807.463)   \n",
       "11    POINT (2086189.927 -355148.563)   POINT (-8399394.066 4721369.273)   \n",
       "53    POINT (1960217.654 -403186.617)   POINT (-8573416.519 4708045.622)   \n",
       "1    POINT (1721588.654 -1657757.651)   POINT (-9182527.185 3314705.456)   \n",
       "21   POINT (1549877.401 -1221878.173)   POINT (-9287682.935 3850624.937)   \n",
       "6      POINT (-1153625.715 32167.489)  POINT (-12766549.745 5538073.382)   \n",
       "2      POINT (920201.831 -484118.265)   POINT (-9923892.578 4890118.655)   \n",
       "48    POINT (1164015.580 -469457.076)   POINT (-9604552.065 4857991.678)   \n",
       "54     POINT (536228.086 -303864.105)  POINT (-10408617.549 5174552.164)   \n",
       "47     POINT (141304.940 -721475.619)  POINT (-10951719.496 4650329.527)   \n",
       "33    POINT (1290345.083 -715429.116)   POINT (-9493871.747 4513764.568)   \n",
       "20    POINT (786977.489 -1525953.572)  POINT (-10221606.051 3623531.288)   \n",
       "37     POINT (2336302.312 484371.170)   POINT (-7703005.382 5668997.402)   \n",
       "4     POINT (1986749.363 -390596.970)   POINT (-8537240.000 4714888.964)   \n",
       "51      POINT (2290891.020 90746.955)   POINT (-7960144.008 5185530.519)   \n",
       "42      POINT (1122571.329 81514.079)   POINT (-9547333.248 5614355.889)   \n",
       "3       POINT (444915.912 162277.230)  POINT (-10486086.612 5847370.873)   \n",
       "44    POINT (970522.412 -1306467.165)   POINT (-9980058.315 3860928.816)   \n",
       "45     POINT (657521.261 -708423.079)  POINT (-10295632.403 4635817.111)   \n",
       "46     POINT (-727482.429 271798.296)  POINT (-12206325.353 5953963.265)   \n",
       "17      POINT (17088.360 -384768.587)  POINT (-11111779.606 5092807.359)   \n",
       "39   POINT (-1419805.140 -486987.168)  POINT (-12987291.895 4781118.914)   \n",
       "7      POINT (2228190.903 249281.401)   POINT (-7967124.094 5417742.709)   \n",
       "14    POINT (2115277.995 -215079.745)   POINT (-8310489.204 4883240.907)   \n",
       "12   POINT (-562414.092 -1155585.909)  POINT (-11811710.979 4090931.208)   \n",
       "38      POINT (1950451.367 64240.062)   POINT (-8415428.620 5303628.920)   \n",
       "8     POINT (1870734.999 -816800.187)   POINT (-8808884.224 4236513.614)   \n",
       "32      POINT (-35035.276 272450.115)  POINT (-11184384.239 6018895.525)   \n",
       "24    POINT (1451046.699 -357425.525)   POINT (-9206743.246 4929142.516)   \n",
       "28    POINT (227355.858 -1041653.097)  POINT (-10855376.345 4245591.608)   \n",
       "16     POINT (-1627937.914 90395.432)  POINT (-13425396.346 5461303.028)   \n",
       "18    POINT (1835792.224 -205933.798)   POINT (-8665100.315 4998644.206)   \n",
       "5       POINT (2309961.586 29569.365)   POINT (-7962096.112 5100621.742)   \n",
       "27   POINT (1756988.915 -1035668.770)   POINT (-9002160.465 4013661.314)   \n",
       "50      POINT (-18006.985 -61738.945)  POINT (-11157799.317 5536178.657)   \n",
       "29    POINT (1227154.339 -915406.399)   POINT (-9611300.539 4279591.787)   \n",
       "25     POINT (68229.144 -1504156.835)  POINT (-11057652.564 3701221.357)   \n",
       "23   POINT (-1000986.040 -562257.603)  POINT (-12432427.972 4773978.319)   \n",
       "9      POINT (2132323.439 261651.076)   POINT (-8088576.662 5478672.651)   \n",
       "52    POINT (1859238.871 -591746.618)   POINT (-8756575.266 4511882.879)   \n",
       "19    POINT (-1528368.394 466850.726)  POINT (-13424170.626 6013232.509)   \n",
       "0     POINT (1666482.824 -511067.291)   POINT (-8973323.518 4671935.334)   \n",
       "15       POINT (811472.028 10048.573)   POINT (-9990337.538 5570483.090)   \n",
       "30    POINT (-612999.996 -194446.479)  POINT (-11972569.747 5316861.387)   \n",
       "\n",
       "                         Arctic Polar  \n",
       "22   POINT (-6769634.481 -372511.855)  \n",
       "55   POINT (-6105425.080 2424066.288)  \n",
       "43    POINT (-6473892.275 276662.479)  \n",
       "13   POINT (-5390424.860 3036701.919)  \n",
       "26   POINT (-5709627.870 1588531.191)  \n",
       "10  POINT (-5334697.551 -1657475.497)  \n",
       "11  POINT (-5735110.942 -1488492.057)  \n",
       "53  POINT (-5784727.191 -1333779.231)  \n",
       "1    POINT (-7331387.754 -984287.465)  \n",
       "21   POINT (-6750654.533 -780656.581)  \n",
       "6    POINT (-4760577.244 2178121.897)  \n",
       "2     POINT (-5782830.253 -85747.985)  \n",
       "48   POINT (-5795002.205 -375552.366)  \n",
       "54    POINT (-5512025.627 336454.991)  \n",
       "47    POINT (-5927665.278 872906.524)  \n",
       "33   POINT (-6098542.348 -500063.133)  \n",
       "20    POINT (-7035283.380 218111.390)  \n",
       "37  POINT (-4783277.549 -1815023.599)  \n",
       "4   POINT (-5771720.829 -1367401.619)  \n",
       "51  POINT (-5225281.426 -1749095.117)  \n",
       "42   POINT (-5158759.069 -394646.190)  \n",
       "3     POINT (-4972728.650 365132.790)  \n",
       "44    POINT (-6786816.751 -40627.924)  \n",
       "45    POINT (-6007144.959 256035.955)  \n",
       "46   POINT (-4605875.363 1642499.811)  \n",
       "17    POINT (-5510004.706 950039.235)  \n",
       "39   POINT (-5263322.313 2636761.132)  \n",
       "7   POINT (-5044192.619 -1680364.563)  \n",
       "14  POINT (-5573218.978 -1528832.783)  \n",
       "12   POINT (-6292516.654 1818372.422)  \n",
       "38  POINT (-5243707.000 -1347174.079)  \n",
       "8   POINT (-6273575.316 -1204976.925)  \n",
       "32    POINT (-4759725.955 879076.926)  \n",
       "24   POINT (-5693616.561 -727062.268)  \n",
       "28    POINT (-6329139.589 830803.550)  \n",
       "16   POINT (-4547280.596 2690819.449)  \n",
       "18  POINT (-5546895.429 -1195666.023)  \n",
       "5   POINT (-5296016.719 -1769481.623)  \n",
       "27  POINT (-6534781.894 -1052442.493)  \n",
       "50    POINT (-5135245.787 926245.953)  \n",
       "29   POINT (-6331788.449 -402983.716)  \n",
       "25   POINT (-6882587.735 1120575.730)  \n",
       "23   POINT (-5471887.535 2173530.354)  \n",
       "9   POINT (-5027102.856 -1568820.671)  \n",
       "52  POINT (-6002581.517 -1201125.965)  \n",
       "19   POINT (-4170175.896 2465934.862)  \n",
       "0    POINT (-5892728.656 -972096.403)  \n",
       "15    POINT (-5196847.529 -27630.031)  \n",
       "30   POINT (-5153194.609 1629871.129)  "
      ]
     },
     "execution_count": 188,
     "metadata": {},
     "output_type": "execute_result"
    }
   ],
   "source": [
    "pd.DataFrame({'Name':lower48_epsg3995['NAME'],\n",
    "              'WGS84':lower48_epsg4326['geometry'].centroid,\n",
    "              'NAEA':lower48_epsg2163['geometry'].centroid,\n",
    "              'Mercator':lower48_epsg3857['geometry'].centroid,\n",
    "              'Arctic Polar':lower48_epsg3995['geometry'].centroid}).sort_values('Name')"
   ]
  },
  {
   "cell_type": "markdown",
   "metadata": {},
   "source": [
    "### PROJ strings\n",
    "In addition to EPSG standards, projections can be defined by standardized \"[PROJ](https://proj.org/usage/quickstart.html)\" strings. These are available within [SpatialReference.org](https://spatialreference.org/). We'll need to import a library called [pyproj](https://pyproj4.github.io/pyproj/stable/) that (hopefully) should've been installed when you installed GeoPandas."
   ]
  },
  {
   "cell_type": "code",
   "execution_count": 161,
   "metadata": {},
   "outputs": [],
   "source": [
    "from pyproj import CRS"
   ]
  },
  {
   "cell_type": "markdown",
   "metadata": {},
   "source": [
    "First, let's take a global map like `countries_geojson_gpd` and inspect its default projection using the `.crs` attribute."
   ]
  },
  {
   "cell_type": "code",
   "execution_count": 162,
   "metadata": {},
   "outputs": [
    {
     "data": {
      "text/plain": [
       "<Geographic 2D CRS: EPSG:4326>\n",
       "Name: WGS 84\n",
       "Axis Info [ellipsoidal]:\n",
       "- Lat[north]: Geodetic latitude (degree)\n",
       "- Lon[east]: Geodetic longitude (degree)\n",
       "Area of Use:\n",
       "- name: World\n",
       "- bounds: (-180.0, -90.0, 180.0, 90.0)\n",
       "Datum: World Geodetic System 1984\n",
       "- Ellipsoid: WGS 84\n",
       "- Prime Meridian: Greenwich"
      ]
     },
     "execution_count": 162,
     "metadata": {},
     "output_type": "execute_result"
    }
   ],
   "source": [
    "countries_geojson_gpd.crs"
   ]
  },
  {
   "cell_type": "markdown",
   "metadata": {},
   "source": [
    "Now let's plot it."
   ]
  },
  {
   "cell_type": "code",
   "execution_count": 174,
   "metadata": {},
   "outputs": [
    {
     "data": {
      "text/plain": [
       "<AxesSubplot:>"
      ]
     },
     "execution_count": 174,
     "metadata": {},
     "output_type": "execute_result"
    },
    {
     "data": {
      "image/png": "[encoded data removed]",
      "text/plain": [
       "<Figure size 864x432 with 1 Axes>"
      ]
     },
     "metadata": {
      "needs_background": "light"
     },
     "output_type": "display_data"
    }
   ],
   "source": [
    "countries_geojson_gpd.plot(edgecolor='w',lw=.5,figsize=(12,6))"
   ]
  },
  {
   "cell_type": "markdown",
   "metadata": {},
   "source": [
    "Use the `CRS` function to retrieve the Web Mercator projection by EPSG ID."
   ]
  },
  {
   "cell_type": "code",
   "execution_count": 165,
   "metadata": {},
   "outputs": [],
   "source": [
    "web_mercator = CRS.from_epsg(3785)"
   ]
  },
  {
   "cell_type": "markdown",
   "metadata": {},
   "source": [
    "This `web_mercator` is *not* a GeoPandas DataFrame or Series, but a definition of a projection. Inspect the `web_mercator` object."
   ]
  },
  {
   "cell_type": "code",
   "execution_count": 166,
   "metadata": {},
   "outputs": [
    {
     "data": {
      "text/plain": [
       "<Projected CRS: EPSG:3785>\n",
       "Name: Popular Visualisation CRS / Mercator\n",
       "Axis Info [cartesian]:\n",
       "- X[east]: Easting (metre)\n",
       "- Y[north]: Northing (metre)\n",
       "Area of Use:\n",
       "- name: World - 85°S to 85°N\n",
       "- bounds: (-180.0, -85.06, 180.0, 85.06)\n",
       "Coordinate Operation:\n",
       "- name: Popular Visualisation Mercator\n",
       "- method: Mercator (1SP) (Spherical)\n",
       "Datum: Popular Visualisation Datum\n",
       "- Ellipsoid: Popular Visualisation Sphere\n",
       "- Prime Meridian: Greenwich"
      ]
     },
     "execution_count": 166,
     "metadata": {},
     "output_type": "execute_result"
    }
   ],
   "source": [
    "web_mercator"
   ]
  },
  {
   "cell_type": "markdown",
   "metadata": {},
   "source": [
    "Use the `.to_crs` method with the `web_mercator` on the `countries_geojson_gpd` GeoDataFrame to convert it and plot it."
   ]
  },
  {
   "cell_type": "code",
   "execution_count": 175,
   "metadata": {},
   "outputs": [
    {
     "data": {
      "text/plain": [
       "<AxesSubplot:>"
      ]
     },
     "execution_count": 175,
     "metadata": {},
     "output_type": "execute_result"
    },
    {
     "data": {
      "image/png": "[encoded data removed]",
      "text/plain": [
       "<Figure size 864x432 with 1 Axes>"
      ]
     },
     "metadata": {
      "needs_background": "light"
     },
     "output_type": "display_data"
    }
   ],
   "source": [
    "countries_geojson_gpd.to_crs(web_mercator).plot(edgecolor='w',lw=.5,figsize=(12,6))"
   ]
  },
  {
   "cell_type": "markdown",
   "metadata": {},
   "source": [
    "Projections can be defined by more that EPSG IDs like the PROJ strings. Retrieve the PROJ string for the [Eckert IV](https://en.wikipedia.org/wiki/Eckert_IV_projection) projection from SpatialReference.org: https://spatialreference.org/ref/esri/54012/ and click on \"Proj4\""
   ]
  },
  {
   "cell_type": "code",
   "execution_count": 176,
   "metadata": {},
   "outputs": [
    {
     "data": {
      "text/plain": [
       "<AxesSubplot:>"
      ]
     },
     "execution_count": 176,
     "metadata": {},
     "output_type": "execute_result"
    },
    {
     "data": {
      "image/png": "[encoded data removed]",
      "text/plain": [
       "<Figure size 864x432 with 1 Axes>"
      ]
     },
     "metadata": {
      "needs_background": "light"
     },
     "output_type": "display_data"
    }
   ],
   "source": [
    "eckert_iv = CRS.from_proj4('+proj=eck4 +lon_0=0 +x_0=0 +y_0=0 +ellps=WGS84 +datum=WGS84 +units=m +no_defs ')\n",
    "\n",
    "countries_geojson_gpd.to_crs(eckert_iv).plot(edgecolor='w',lw=.5,figsize=(12,6))"
   ]
  },
  {
   "cell_type": "markdown",
   "metadata": {},
   "source": [
    "We could also use an [orthographic projection](https://en.wikipedia.org/wiki/Orthographic_map_projection) approximately centered over Colorado. Here we can begin to customize what's in the PROJ string to see how it changes the map projection. More details here: http://www.statsmapsnpix.com/2019/09/globe-projections-and-insets-in-qgis.html"
   ]
  },
  {
   "cell_type": "code",
   "execution_count": 177,
   "metadata": {},
   "outputs": [
    {
     "data": {
      "text/plain": [
       "<AxesSubplot:>"
      ]
     },
     "execution_count": 177,
     "metadata": {},
     "output_type": "execute_result"
    },
    {
     "data": {
      "image/png": "[encoded data removed]",
      "text/plain": [
       "<Figure size 864x432 with 1 Axes>"
      ]
     },
     "metadata": {
      "needs_background": "light"
     },
     "output_type": "display_data"
    }
   ],
   "source": [
    "ortho = CRS.from_proj4(\"+proj=ortho +lat_0=40.00 +lon_0=-100.0000 +x_0=0 +y_0=0 +a=6370997 +b=6370997 +units=m +no_defs\")\n",
    "\n",
    "countries_geojson_gpd.to_crs(ortho).plot(edgecolor='w',lw=.5,figsize=(12,6))"
   ]
  },
  {
   "cell_type": "markdown",
   "metadata": {},
   "source": [
    "We could also construct a CRS projection from other attributes. (Adapted from [Automating GIS Processes: \"Calculating Distances\"](https://automating-gis-processes.github.io/site/notebooks/L2/calculating-distances.html)\n",
    "\n",
    "* `proj='aeqd'` refers to projection specifier that we determine to be Azimuthal Equidistant (‘aeqd’)\n",
    "* `ellps='WGS84'` refers to the reference ellipsoid that is a mathematically modelled (based on measurements) surface that approximates the true shape of the world. World Geodetic System (WGS) was established in 1984, hence the name.\n",
    "* `datum='WGS84'` refers to the Geodetic datum that is a coordinate system constituted with a set of reference points that can be used to locate places on Earth.\n",
    "* `lat_0` is the latitude coordinate of the center point in the projection\n",
    "* `lon_0` is the longitude coordinate of the center point in the projection\n",
    "\n",
    "Figure out the center of Colorado specifically."
   ]
  },
  {
   "cell_type": "code",
   "execution_count": 198,
   "metadata": {},
   "outputs": [
    {
     "name": "stderr",
     "output_type": "stream",
     "text": [
      "<ipython-input-198-63e78a1bee22>:1: UserWarning: Geometry is in a geographic CRS. Results from 'centroid' are likely incorrect. Use 'GeoSeries.to_crs()' to re-project geometries to a projected CRS before this operation.\n",
      "\n",
      "  co_centroid = lower48_epsg4326.loc[lower48_epsg4326['NAME']=='Colorado','geometry'].centroid\n"
     ]
    },
    {
     "data": {
      "text/plain": [
       "26    POINT (-105.54782 38.99853)\n",
       "dtype: geometry"
      ]
     },
     "execution_count": 198,
     "metadata": {},
     "output_type": "execute_result"
    }
   ],
   "source": [
    "co_centroid = lower48_epsg4326.loc[lower48_epsg4326['NAME']=='Colorado','geometry'].centroid\n",
    "co_centroid"
   ]
  },
  {
   "cell_type": "markdown",
   "metadata": {},
   "source": [
    "Now make an [Azimuthal Equidistant](https://en.wikipedia.org/wiki/Azimuthal_equidistant_projection) projection centered on Colorado."
   ]
  },
  {
   "cell_type": "code",
   "execution_count": 202,
   "metadata": {},
   "outputs": [
    {
     "data": {
      "text/plain": [
       "<AxesSubplot:>"
      ]
     },
     "execution_count": 202,
     "metadata": {},
     "output_type": "execute_result"
    },
    {
     "data": {
      "image/png": "[encoded data removed]",
      "text/plain": [
       "<Figure size 864x432 with 1 Axes>"
      ]
     },
     "metadata": {
      "needs_background": "light"
     },
     "output_type": "display_data"
    }
   ],
   "source": [
    "aeqd = CRS(proj='aeqd',ellps='WGS84',datum='WGS84',lat_0=38.99853,lon_0=-105.54782).srs\n",
    "\n",
    "countries_geojson_gpd.to_crs(crs=aeqd).plot(edgecolor='w',lw=.5,figsize=(12,6))"
   ]
  },
  {
   "cell_type": "markdown",
   "metadata": {},
   "source": [
    "Try the `aeqd` projection on the `lower48` GeoDataFrame."
   ]
  },
  {
   "cell_type": "code",
   "execution_count": 203,
   "metadata": {},
   "outputs": [
    {
     "data": {
      "text/plain": [
       "<AxesSubplot:>"
      ]
     },
     "execution_count": 203,
     "metadata": {},
     "output_type": "execute_result"
    },
    {
     "data": {
      "image/png": "[encoded data removed]",
      "text/plain": [
       "<Figure size 864x432 with 1 Axes>"
      ]
     },
     "metadata": {
      "needs_background": "light"
     },
     "output_type": "display_data"
    }
   ],
   "source": [
    "lower48.to_crs(crs=aeqd).plot(edgecolor='w',lw=.5,figsize=(12,6))"
   ]
  },
  {
   "cell_type": "markdown",
   "metadata": {},
   "source": [
    "## Visualizing data: choropleths\n",
    "\n",
    "Everything we've done to date has been dealing with the challenges of defining spatial data and how to represent a 3D surface on a 2D screen. Now let's work with some data. The most common kind of visualization when working with spatial data is a choropleth: color individual units by some other data value. We'll work with state-level U.S. Presidential election results since 1976.\n",
    "\n",
    "Read in the \"1976-2016-president.csv\" file via pandas."
   ]
  },
  {
   "cell_type": "code",
   "execution_count": 204,
   "metadata": {},
   "outputs": [
    {
     "data": {
      "text/html": [
       "<div>\n",
       "<style scoped>\n",
       "    .dataframe tbody tr th:only-of-type {\n",
       "        vertical-align: middle;\n",
       "    }\n",
       "\n",
       "    .dataframe tbody tr th {\n",
       "        vertical-align: top;\n",
       "    }\n",
       "\n",
       "    .dataframe thead th {\n",
       "        text-align: right;\n",
       "    }\n",
       "</style>\n",
       "<table border=\"1\" class=\"dataframe\">\n",
       "  <thead>\n",
       "    <tr style=\"text-align: right;\">\n",
       "      <th></th>\n",
       "      <th>year</th>\n",
       "      <th>state</th>\n",
       "      <th>state_po</th>\n",
       "      <th>state_fips</th>\n",
       "      <th>state_cen</th>\n",
       "      <th>state_ic</th>\n",
       "      <th>office</th>\n",
       "      <th>candidate</th>\n",
       "      <th>party</th>\n",
       "      <th>writein</th>\n",
       "      <th>candidatevotes</th>\n",
       "      <th>totalvotes</th>\n",
       "      <th>version</th>\n",
       "      <th>notes</th>\n",
       "    </tr>\n",
       "  </thead>\n",
       "  <tbody>\n",
       "    <tr>\n",
       "      <th>0</th>\n",
       "      <td>1976</td>\n",
       "      <td>Alabama</td>\n",
       "      <td>AL</td>\n",
       "      <td>1</td>\n",
       "      <td>63</td>\n",
       "      <td>41</td>\n",
       "      <td>US President</td>\n",
       "      <td>Carter, Jimmy</td>\n",
       "      <td>democrat</td>\n",
       "      <td>False</td>\n",
       "      <td>659170</td>\n",
       "      <td>1182850</td>\n",
       "      <td>20171015</td>\n",
       "      <td>NaN</td>\n",
       "    </tr>\n",
       "    <tr>\n",
       "      <th>1</th>\n",
       "      <td>1976</td>\n",
       "      <td>Alabama</td>\n",
       "      <td>AL</td>\n",
       "      <td>1</td>\n",
       "      <td>63</td>\n",
       "      <td>41</td>\n",
       "      <td>US President</td>\n",
       "      <td>Ford, Gerald</td>\n",
       "      <td>republican</td>\n",
       "      <td>False</td>\n",
       "      <td>504070</td>\n",
       "      <td>1182850</td>\n",
       "      <td>20171015</td>\n",
       "      <td>NaN</td>\n",
       "    </tr>\n",
       "    <tr>\n",
       "      <th>2</th>\n",
       "      <td>1976</td>\n",
       "      <td>Alabama</td>\n",
       "      <td>AL</td>\n",
       "      <td>1</td>\n",
       "      <td>63</td>\n",
       "      <td>41</td>\n",
       "      <td>US President</td>\n",
       "      <td>Maddox, Lester</td>\n",
       "      <td>american independent party</td>\n",
       "      <td>False</td>\n",
       "      <td>9198</td>\n",
       "      <td>1182850</td>\n",
       "      <td>20171015</td>\n",
       "      <td>NaN</td>\n",
       "    </tr>\n",
       "    <tr>\n",
       "      <th>3</th>\n",
       "      <td>1976</td>\n",
       "      <td>Alabama</td>\n",
       "      <td>AL</td>\n",
       "      <td>1</td>\n",
       "      <td>63</td>\n",
       "      <td>41</td>\n",
       "      <td>US President</td>\n",
       "      <td>Bubar, Benjamin \"\"Ben\"\"</td>\n",
       "      <td>prohibition</td>\n",
       "      <td>False</td>\n",
       "      <td>6669</td>\n",
       "      <td>1182850</td>\n",
       "      <td>20171015</td>\n",
       "      <td>NaN</td>\n",
       "    </tr>\n",
       "    <tr>\n",
       "      <th>4</th>\n",
       "      <td>1976</td>\n",
       "      <td>Alabama</td>\n",
       "      <td>AL</td>\n",
       "      <td>1</td>\n",
       "      <td>63</td>\n",
       "      <td>41</td>\n",
       "      <td>US President</td>\n",
       "      <td>Hall, Gus</td>\n",
       "      <td>communist party use</td>\n",
       "      <td>False</td>\n",
       "      <td>1954</td>\n",
       "      <td>1182850</td>\n",
       "      <td>20171015</td>\n",
       "      <td>NaN</td>\n",
       "    </tr>\n",
       "  </tbody>\n",
       "</table>\n",
       "</div>"
      ],
      "text/plain": [
       "   year    state state_po  state_fips  state_cen  state_ic        office  \\\n",
       "0  1976  Alabama       AL           1         63        41  US President   \n",
       "1  1976  Alabama       AL           1         63        41  US President   \n",
       "2  1976  Alabama       AL           1         63        41  US President   \n",
       "3  1976  Alabama       AL           1         63        41  US President   \n",
       "4  1976  Alabama       AL           1         63        41  US President   \n",
       "\n",
       "                 candidate                       party  writein  \\\n",
       "0            Carter, Jimmy                    democrat    False   \n",
       "1             Ford, Gerald                  republican    False   \n",
       "2           Maddox, Lester  american independent party    False   \n",
       "3  Bubar, Benjamin \"\"Ben\"\"                 prohibition    False   \n",
       "4                Hall, Gus         communist party use    False   \n",
       "\n",
       "   candidatevotes  totalvotes   version  notes  \n",
       "0          659170     1182850  20171015    NaN  \n",
       "1          504070     1182850  20171015    NaN  \n",
       "2            9198     1182850  20171015    NaN  \n",
       "3            6669     1182850  20171015    NaN  \n",
       "4            1954     1182850  20171015    NaN  "
      ]
     },
     "execution_count": 204,
     "metadata": {},
     "output_type": "execute_result"
    }
   ],
   "source": [
    "president_df = pd.read_csv('1976-2016-president.csv')\n",
    "\n",
    "president_df.head()"
   ]
  },
  {
   "cell_type": "markdown",
   "metadata": {},
   "source": [
    "Filter the data to only Democrats and Republicans for the sake of simplicity."
   ]
  },
  {
   "cell_type": "code",
   "execution_count": 205,
   "metadata": {},
   "outputs": [
    {
     "data": {
      "text/html": [
       "<div>\n",
       "<style scoped>\n",
       "    .dataframe tbody tr th:only-of-type {\n",
       "        vertical-align: middle;\n",
       "    }\n",
       "\n",
       "    .dataframe tbody tr th {\n",
       "        vertical-align: top;\n",
       "    }\n",
       "\n",
       "    .dataframe thead th {\n",
       "        text-align: right;\n",
       "    }\n",
       "</style>\n",
       "<table border=\"1\" class=\"dataframe\">\n",
       "  <thead>\n",
       "    <tr style=\"text-align: right;\">\n",
       "      <th></th>\n",
       "      <th>year</th>\n",
       "      <th>state</th>\n",
       "      <th>state_po</th>\n",
       "      <th>state_fips</th>\n",
       "      <th>state_cen</th>\n",
       "      <th>state_ic</th>\n",
       "      <th>office</th>\n",
       "      <th>candidate</th>\n",
       "      <th>party</th>\n",
       "      <th>writein</th>\n",
       "      <th>candidatevotes</th>\n",
       "      <th>totalvotes</th>\n",
       "      <th>version</th>\n",
       "      <th>notes</th>\n",
       "    </tr>\n",
       "  </thead>\n",
       "  <tbody>\n",
       "    <tr>\n",
       "      <th>0</th>\n",
       "      <td>1976</td>\n",
       "      <td>Alabama</td>\n",
       "      <td>AL</td>\n",
       "      <td>1</td>\n",
       "      <td>63</td>\n",
       "      <td>41</td>\n",
       "      <td>US President</td>\n",
       "      <td>Carter, Jimmy</td>\n",
       "      <td>democrat</td>\n",
       "      <td>False</td>\n",
       "      <td>659170</td>\n",
       "      <td>1182850</td>\n",
       "      <td>20171015</td>\n",
       "      <td>NaN</td>\n",
       "    </tr>\n",
       "    <tr>\n",
       "      <th>1</th>\n",
       "      <td>1976</td>\n",
       "      <td>Alabama</td>\n",
       "      <td>AL</td>\n",
       "      <td>1</td>\n",
       "      <td>63</td>\n",
       "      <td>41</td>\n",
       "      <td>US President</td>\n",
       "      <td>Ford, Gerald</td>\n",
       "      <td>republican</td>\n",
       "      <td>False</td>\n",
       "      <td>504070</td>\n",
       "      <td>1182850</td>\n",
       "      <td>20171015</td>\n",
       "      <td>NaN</td>\n",
       "    </tr>\n",
       "    <tr>\n",
       "      <th>7</th>\n",
       "      <td>1976</td>\n",
       "      <td>Alaska</td>\n",
       "      <td>AK</td>\n",
       "      <td>2</td>\n",
       "      <td>94</td>\n",
       "      <td>81</td>\n",
       "      <td>US President</td>\n",
       "      <td>Ford, Gerald</td>\n",
       "      <td>republican</td>\n",
       "      <td>False</td>\n",
       "      <td>71555</td>\n",
       "      <td>123574</td>\n",
       "      <td>20171015</td>\n",
       "      <td>NaN</td>\n",
       "    </tr>\n",
       "    <tr>\n",
       "      <th>8</th>\n",
       "      <td>1976</td>\n",
       "      <td>Alaska</td>\n",
       "      <td>AK</td>\n",
       "      <td>2</td>\n",
       "      <td>94</td>\n",
       "      <td>81</td>\n",
       "      <td>US President</td>\n",
       "      <td>Carter, Jimmy</td>\n",
       "      <td>democrat</td>\n",
       "      <td>False</td>\n",
       "      <td>44058</td>\n",
       "      <td>123574</td>\n",
       "      <td>20171015</td>\n",
       "      <td>NaN</td>\n",
       "    </tr>\n",
       "    <tr>\n",
       "      <th>11</th>\n",
       "      <td>1976</td>\n",
       "      <td>Arizona</td>\n",
       "      <td>AZ</td>\n",
       "      <td>4</td>\n",
       "      <td>86</td>\n",
       "      <td>61</td>\n",
       "      <td>US President</td>\n",
       "      <td>Ford, Gerald</td>\n",
       "      <td>republican</td>\n",
       "      <td>False</td>\n",
       "      <td>418642</td>\n",
       "      <td>742719</td>\n",
       "      <td>20171015</td>\n",
       "      <td>NaN</td>\n",
       "    </tr>\n",
       "  </tbody>\n",
       "</table>\n",
       "</div>"
      ],
      "text/plain": [
       "    year    state state_po  state_fips  state_cen  state_ic        office  \\\n",
       "0   1976  Alabama       AL           1         63        41  US President   \n",
       "1   1976  Alabama       AL           1         63        41  US President   \n",
       "7   1976   Alaska       AK           2         94        81  US President   \n",
       "8   1976   Alaska       AK           2         94        81  US President   \n",
       "11  1976  Arizona       AZ           4         86        61  US President   \n",
       "\n",
       "        candidate       party  writein  candidatevotes  totalvotes   version  \\\n",
       "0   Carter, Jimmy    democrat    False          659170     1182850  20171015   \n",
       "1    Ford, Gerald  republican    False          504070     1182850  20171015   \n",
       "7    Ford, Gerald  republican    False           71555      123574  20171015   \n",
       "8   Carter, Jimmy    democrat    False           44058      123574  20171015   \n",
       "11   Ford, Gerald  republican    False          418642      742719  20171015   \n",
       "\n",
       "    notes  \n",
       "0     NaN  \n",
       "1     NaN  \n",
       "7     NaN  \n",
       "8     NaN  \n",
       "11    NaN  "
      ]
     },
     "execution_count": 205,
     "metadata": {},
     "output_type": "execute_result"
    }
   ],
   "source": [
    "filtered_president_df = president_df[president_df['party'].isin(['democrat','republican'])]\n",
    "\n",
    "filtered_president_df.head()"
   ]
  },
  {
   "cell_type": "markdown",
   "metadata": {},
   "source": [
    "Calculate the \"candidatevotes\" as a percentage of the \"totalvotes\"."
   ]
  },
  {
   "cell_type": "code",
   "execution_count": 209,
   "metadata": {},
   "outputs": [
    {
     "name": "stderr",
     "output_type": "stream",
     "text": [
      "<ipython-input-209-383ce68aa4bd>:1: SettingWithCopyWarning: \n",
      "A value is trying to be set on a copy of a slice from a DataFrame.\n",
      "Try using .loc[row_indexer,col_indexer] = value instead\n",
      "\n",
      "See the caveats in the documentation: https://pandas.pydata.org/pandas-docs/stable/user_guide/indexing.html#returning-a-view-versus-a-copy\n",
      "  filtered_president_df['candidatepct'] = filtered_president_df['candidatevotes']/filtered_president_df['totalvotes']\n"
     ]
    },
    {
     "data": {
      "text/html": [
       "<div>\n",
       "<style scoped>\n",
       "    .dataframe tbody tr th:only-of-type {\n",
       "        vertical-align: middle;\n",
       "    }\n",
       "\n",
       "    .dataframe tbody tr th {\n",
       "        vertical-align: top;\n",
       "    }\n",
       "\n",
       "    .dataframe thead th {\n",
       "        text-align: right;\n",
       "    }\n",
       "</style>\n",
       "<table border=\"1\" class=\"dataframe\">\n",
       "  <thead>\n",
       "    <tr style=\"text-align: right;\">\n",
       "      <th></th>\n",
       "      <th>year</th>\n",
       "      <th>state</th>\n",
       "      <th>state_po</th>\n",
       "      <th>state_fips</th>\n",
       "      <th>state_cen</th>\n",
       "      <th>state_ic</th>\n",
       "      <th>office</th>\n",
       "      <th>candidate</th>\n",
       "      <th>party</th>\n",
       "      <th>writein</th>\n",
       "      <th>candidatevotes</th>\n",
       "      <th>totalvotes</th>\n",
       "      <th>version</th>\n",
       "      <th>notes</th>\n",
       "      <th>candidatepct</th>\n",
       "    </tr>\n",
       "  </thead>\n",
       "  <tbody>\n",
       "    <tr>\n",
       "      <th>0</th>\n",
       "      <td>1976</td>\n",
       "      <td>Alabama</td>\n",
       "      <td>AL</td>\n",
       "      <td>1</td>\n",
       "      <td>63</td>\n",
       "      <td>41</td>\n",
       "      <td>US President</td>\n",
       "      <td>Carter, Jimmy</td>\n",
       "      <td>democrat</td>\n",
       "      <td>False</td>\n",
       "      <td>659170</td>\n",
       "      <td>1182850</td>\n",
       "      <td>20171015</td>\n",
       "      <td>NaN</td>\n",
       "      <td>0.557273</td>\n",
       "    </tr>\n",
       "    <tr>\n",
       "      <th>1</th>\n",
       "      <td>1976</td>\n",
       "      <td>Alabama</td>\n",
       "      <td>AL</td>\n",
       "      <td>1</td>\n",
       "      <td>63</td>\n",
       "      <td>41</td>\n",
       "      <td>US President</td>\n",
       "      <td>Ford, Gerald</td>\n",
       "      <td>republican</td>\n",
       "      <td>False</td>\n",
       "      <td>504070</td>\n",
       "      <td>1182850</td>\n",
       "      <td>20171015</td>\n",
       "      <td>NaN</td>\n",
       "      <td>0.426149</td>\n",
       "    </tr>\n",
       "    <tr>\n",
       "      <th>7</th>\n",
       "      <td>1976</td>\n",
       "      <td>Alaska</td>\n",
       "      <td>AK</td>\n",
       "      <td>2</td>\n",
       "      <td>94</td>\n",
       "      <td>81</td>\n",
       "      <td>US President</td>\n",
       "      <td>Ford, Gerald</td>\n",
       "      <td>republican</td>\n",
       "      <td>False</td>\n",
       "      <td>71555</td>\n",
       "      <td>123574</td>\n",
       "      <td>20171015</td>\n",
       "      <td>NaN</td>\n",
       "      <td>0.579046</td>\n",
       "    </tr>\n",
       "    <tr>\n",
       "      <th>8</th>\n",
       "      <td>1976</td>\n",
       "      <td>Alaska</td>\n",
       "      <td>AK</td>\n",
       "      <td>2</td>\n",
       "      <td>94</td>\n",
       "      <td>81</td>\n",
       "      <td>US President</td>\n",
       "      <td>Carter, Jimmy</td>\n",
       "      <td>democrat</td>\n",
       "      <td>False</td>\n",
       "      <td>44058</td>\n",
       "      <td>123574</td>\n",
       "      <td>20171015</td>\n",
       "      <td>NaN</td>\n",
       "      <td>0.356531</td>\n",
       "    </tr>\n",
       "    <tr>\n",
       "      <th>11</th>\n",
       "      <td>1976</td>\n",
       "      <td>Arizona</td>\n",
       "      <td>AZ</td>\n",
       "      <td>4</td>\n",
       "      <td>86</td>\n",
       "      <td>61</td>\n",
       "      <td>US President</td>\n",
       "      <td>Ford, Gerald</td>\n",
       "      <td>republican</td>\n",
       "      <td>False</td>\n",
       "      <td>418642</td>\n",
       "      <td>742719</td>\n",
       "      <td>20171015</td>\n",
       "      <td>NaN</td>\n",
       "      <td>0.563661</td>\n",
       "    </tr>\n",
       "  </tbody>\n",
       "</table>\n",
       "</div>"
      ],
      "text/plain": [
       "    year    state state_po  state_fips  state_cen  state_ic        office  \\\n",
       "0   1976  Alabama       AL           1         63        41  US President   \n",
       "1   1976  Alabama       AL           1         63        41  US President   \n",
       "7   1976   Alaska       AK           2         94        81  US President   \n",
       "8   1976   Alaska       AK           2         94        81  US President   \n",
       "11  1976  Arizona       AZ           4         86        61  US President   \n",
       "\n",
       "        candidate       party  writein  candidatevotes  totalvotes   version  \\\n",
       "0   Carter, Jimmy    democrat    False          659170     1182850  20171015   \n",
       "1    Ford, Gerald  republican    False          504070     1182850  20171015   \n",
       "7    Ford, Gerald  republican    False           71555      123574  20171015   \n",
       "8   Carter, Jimmy    democrat    False           44058      123574  20171015   \n",
       "11   Ford, Gerald  republican    False          418642      742719  20171015   \n",
       "\n",
       "    notes  candidatepct  \n",
       "0     NaN      0.557273  \n",
       "1     NaN      0.426149  \n",
       "7     NaN      0.579046  \n",
       "8     NaN      0.356531  \n",
       "11    NaN      0.563661  "
      ]
     },
     "execution_count": 209,
     "metadata": {},
     "output_type": "execute_result"
    }
   ],
   "source": [
    "filtered_president_df['candidatepct'] = filtered_president_df['candidatevotes']/filtered_president_df['totalvotes']\n",
    "\n",
    "filtered_president_df.head()"
   ]
  },
  {
   "cell_type": "markdown",
   "metadata": {},
   "source": [
    "Pivot the data so we get Democrat and Republican candidate vote percentages by state and year."
   ]
  },
  {
   "cell_type": "code",
   "execution_count": 212,
   "metadata": {},
   "outputs": [
    {
     "data": {
      "text/html": [
       "<div>\n",
       "<style scoped>\n",
       "    .dataframe tbody tr th:only-of-type {\n",
       "        vertical-align: middle;\n",
       "    }\n",
       "\n",
       "    .dataframe tbody tr th {\n",
       "        vertical-align: top;\n",
       "    }\n",
       "\n",
       "    .dataframe thead th {\n",
       "        text-align: right;\n",
       "    }\n",
       "</style>\n",
       "<table border=\"1\" class=\"dataframe\">\n",
       "  <thead>\n",
       "    <tr style=\"text-align: right;\">\n",
       "      <th></th>\n",
       "      <th>party</th>\n",
       "      <th>democrat</th>\n",
       "      <th>republican</th>\n",
       "    </tr>\n",
       "    <tr>\n",
       "      <th>year</th>\n",
       "      <th>state</th>\n",
       "      <th></th>\n",
       "      <th></th>\n",
       "    </tr>\n",
       "  </thead>\n",
       "  <tbody>\n",
       "    <tr>\n",
       "      <th rowspan=\"5\" valign=\"top\">1976</th>\n",
       "      <th>Alabama</th>\n",
       "      <td>0.557273</td>\n",
       "      <td>0.426149</td>\n",
       "    </tr>\n",
       "    <tr>\n",
       "      <th>Alaska</th>\n",
       "      <td>0.356531</td>\n",
       "      <td>0.579046</td>\n",
       "    </tr>\n",
       "    <tr>\n",
       "      <th>Arizona</th>\n",
       "      <td>0.398000</td>\n",
       "      <td>0.563661</td>\n",
       "    </tr>\n",
       "    <tr>\n",
       "      <th>Arkansas</th>\n",
       "      <td>0.649617</td>\n",
       "      <td>0.349043</td>\n",
       "    </tr>\n",
       "    <tr>\n",
       "      <th>California</th>\n",
       "      <td>0.479548</td>\n",
       "      <td>0.497483</td>\n",
       "    </tr>\n",
       "  </tbody>\n",
       "</table>\n",
       "</div>"
      ],
      "text/plain": [
       "party            democrat  republican\n",
       "year state                           \n",
       "1976 Alabama     0.557273    0.426149\n",
       "     Alaska      0.356531    0.579046\n",
       "     Arizona     0.398000    0.563661\n",
       "     Arkansas    0.649617    0.349043\n",
       "     California  0.479548    0.497483"
      ]
     },
     "execution_count": 212,
     "metadata": {},
     "output_type": "execute_result"
    }
   ],
   "source": [
    "pivoted_president_df = pd.pivot_table(filtered_president_df,\n",
    "                                      index=['year','state'],\n",
    "                                      columns='party',\n",
    "                                      values='candidatepct')\n",
    "\n",
    "pivoted_president_df.head()"
   ]
  },
  {
   "cell_type": "markdown",
   "metadata": {},
   "source": [
    "Pull out the 2016 results."
   ]
  },
  {
   "cell_type": "code",
   "execution_count": 214,
   "metadata": {},
   "outputs": [
    {
     "data": {
      "text/html": [
       "<div>\n",
       "<style scoped>\n",
       "    .dataframe tbody tr th:only-of-type {\n",
       "        vertical-align: middle;\n",
       "    }\n",
       "\n",
       "    .dataframe tbody tr th {\n",
       "        vertical-align: top;\n",
       "    }\n",
       "\n",
       "    .dataframe thead th {\n",
       "        text-align: right;\n",
       "    }\n",
       "</style>\n",
       "<table border=\"1\" class=\"dataframe\">\n",
       "  <thead>\n",
       "    <tr style=\"text-align: right;\">\n",
       "      <th>party</th>\n",
       "      <th>democrat</th>\n",
       "      <th>republican</th>\n",
       "    </tr>\n",
       "    <tr>\n",
       "      <th>state</th>\n",
       "      <th></th>\n",
       "      <th></th>\n",
       "    </tr>\n",
       "  </thead>\n",
       "  <tbody>\n",
       "    <tr>\n",
       "      <th>Alabama</th>\n",
       "      <td>0.343579</td>\n",
       "      <td>0.620831</td>\n",
       "    </tr>\n",
       "    <tr>\n",
       "      <th>Alaska</th>\n",
       "      <td>0.365509</td>\n",
       "      <td>0.512815</td>\n",
       "    </tr>\n",
       "    <tr>\n",
       "      <th>Arizona</th>\n",
       "      <td>0.225638</td>\n",
       "      <td>0.486716</td>\n",
       "    </tr>\n",
       "    <tr>\n",
       "      <th>Arkansas</th>\n",
       "      <td>0.336531</td>\n",
       "      <td>0.605741</td>\n",
       "    </tr>\n",
       "    <tr>\n",
       "      <th>California</th>\n",
       "      <td>0.617264</td>\n",
       "      <td>0.316171</td>\n",
       "    </tr>\n",
       "  </tbody>\n",
       "</table>\n",
       "</div>"
      ],
      "text/plain": [
       "party       democrat  republican\n",
       "state                           \n",
       "Alabama     0.343579    0.620831\n",
       "Alaska      0.365509    0.512815\n",
       "Arizona     0.225638    0.486716\n",
       "Arkansas    0.336531    0.605741\n",
       "California  0.617264    0.316171"
      ]
     },
     "execution_count": 214,
     "metadata": {},
     "output_type": "execute_result"
    }
   ],
   "source": [
    "president_2016_df = pivoted_president_df.loc[2016]\n",
    "president_2016_df.head()"
   ]
  },
  {
   "cell_type": "markdown",
   "metadata": {},
   "source": [
    "Join `president_2016_df` with the `lower48` states."
   ]
  },
  {
   "cell_type": "code",
   "execution_count": 216,
   "metadata": {},
   "outputs": [
    {
     "data": {
      "text/html": [
       "<div>\n",
       "<style scoped>\n",
       "    .dataframe tbody tr th:only-of-type {\n",
       "        vertical-align: middle;\n",
       "    }\n",
       "\n",
       "    .dataframe tbody tr th {\n",
       "        vertical-align: top;\n",
       "    }\n",
       "\n",
       "    .dataframe thead th {\n",
       "        text-align: right;\n",
       "    }\n",
       "</style>\n",
       "<table border=\"1\" class=\"dataframe\">\n",
       "  <thead>\n",
       "    <tr style=\"text-align: right;\">\n",
       "      <th></th>\n",
       "      <th>REGION</th>\n",
       "      <th>DIVISION</th>\n",
       "      <th>STATEFP</th>\n",
       "      <th>STATENS</th>\n",
       "      <th>GEOID</th>\n",
       "      <th>STUSPS</th>\n",
       "      <th>NAME</th>\n",
       "      <th>LSAD</th>\n",
       "      <th>MTFCC</th>\n",
       "      <th>FUNCSTAT</th>\n",
       "      <th>ALAND</th>\n",
       "      <th>AWATER</th>\n",
       "      <th>INTPTLAT</th>\n",
       "      <th>INTPTLON</th>\n",
       "      <th>geometry</th>\n",
       "      <th>democrat</th>\n",
       "      <th>republican</th>\n",
       "    </tr>\n",
       "  </thead>\n",
       "  <tbody>\n",
       "    <tr>\n",
       "      <th>0</th>\n",
       "      <td>3</td>\n",
       "      <td>5</td>\n",
       "      <td>54</td>\n",
       "      <td>01779805</td>\n",
       "      <td>54</td>\n",
       "      <td>WV</td>\n",
       "      <td>West Virginia</td>\n",
       "      <td>00</td>\n",
       "      <td>G4000</td>\n",
       "      <td>A</td>\n",
       "      <td>62266231560</td>\n",
       "      <td>489271086</td>\n",
       "      <td>+38.6472854</td>\n",
       "      <td>-080.6183274</td>\n",
       "      <td>POLYGON ((-81.74725 39.09538, -81.74635 39.096...</td>\n",
       "      <td>0.264769</td>\n",
       "      <td>0.686306</td>\n",
       "    </tr>\n",
       "    <tr>\n",
       "      <th>1</th>\n",
       "      <td>3</td>\n",
       "      <td>5</td>\n",
       "      <td>12</td>\n",
       "      <td>00294478</td>\n",
       "      <td>12</td>\n",
       "      <td>FL</td>\n",
       "      <td>Florida</td>\n",
       "      <td>00</td>\n",
       "      <td>G4000</td>\n",
       "      <td>A</td>\n",
       "      <td>138947364717</td>\n",
       "      <td>31362872853</td>\n",
       "      <td>+28.4574302</td>\n",
       "      <td>-082.4091477</td>\n",
       "      <td>MULTIPOLYGON (((-86.38865 30.99418, -86.38385 ...</td>\n",
       "      <td>0.478233</td>\n",
       "      <td>0.490219</td>\n",
       "    </tr>\n",
       "    <tr>\n",
       "      <th>2</th>\n",
       "      <td>2</td>\n",
       "      <td>3</td>\n",
       "      <td>17</td>\n",
       "      <td>01779784</td>\n",
       "      <td>17</td>\n",
       "      <td>IL</td>\n",
       "      <td>Illinois</td>\n",
       "      <td>00</td>\n",
       "      <td>G4000</td>\n",
       "      <td>A</td>\n",
       "      <td>143779863817</td>\n",
       "      <td>6215723896</td>\n",
       "      <td>+40.1028754</td>\n",
       "      <td>-089.1526108</td>\n",
       "      <td>POLYGON ((-91.18529 40.63780, -91.17510 40.643...</td>\n",
       "      <td>0.558254</td>\n",
       "      <td>0.387618</td>\n",
       "    </tr>\n",
       "    <tr>\n",
       "      <th>3</th>\n",
       "      <td>2</td>\n",
       "      <td>4</td>\n",
       "      <td>27</td>\n",
       "      <td>00662849</td>\n",
       "      <td>27</td>\n",
       "      <td>MN</td>\n",
       "      <td>Minnesota</td>\n",
       "      <td>00</td>\n",
       "      <td>G4000</td>\n",
       "      <td>A</td>\n",
       "      <td>206230065476</td>\n",
       "      <td>18942261495</td>\n",
       "      <td>+46.3159573</td>\n",
       "      <td>-094.1996043</td>\n",
       "      <td>POLYGON ((-96.78438 46.63050, -96.78434 46.630...</td>\n",
       "      <td>0.464450</td>\n",
       "      <td>0.449252</td>\n",
       "    </tr>\n",
       "    <tr>\n",
       "      <th>4</th>\n",
       "      <td>3</td>\n",
       "      <td>5</td>\n",
       "      <td>24</td>\n",
       "      <td>01714934</td>\n",
       "      <td>24</td>\n",
       "      <td>MD</td>\n",
       "      <td>Maryland</td>\n",
       "      <td>00</td>\n",
       "      <td>G4000</td>\n",
       "      <td>A</td>\n",
       "      <td>25151726296</td>\n",
       "      <td>6979340970</td>\n",
       "      <td>+38.9466584</td>\n",
       "      <td>-076.6744939</td>\n",
       "      <td>POLYGON ((-77.45881 39.22027, -77.45866 39.220...</td>\n",
       "      <td>0.301643</td>\n",
       "      <td>0.169593</td>\n",
       "    </tr>\n",
       "  </tbody>\n",
       "</table>\n",
       "</div>"
      ],
      "text/plain": [
       "  REGION DIVISION STATEFP   STATENS GEOID STUSPS           NAME LSAD  MTFCC  \\\n",
       "0      3        5      54  01779805    54     WV  West Virginia   00  G4000   \n",
       "1      3        5      12  00294478    12     FL        Florida   00  G4000   \n",
       "2      2        3      17  01779784    17     IL       Illinois   00  G4000   \n",
       "3      2        4      27  00662849    27     MN      Minnesota   00  G4000   \n",
       "4      3        5      24  01714934    24     MD       Maryland   00  G4000   \n",
       "\n",
       "  FUNCSTAT         ALAND       AWATER     INTPTLAT      INTPTLON  \\\n",
       "0        A   62266231560    489271086  +38.6472854  -080.6183274   \n",
       "1        A  138947364717  31362872853  +28.4574302  -082.4091477   \n",
       "2        A  143779863817   6215723896  +40.1028754  -089.1526108   \n",
       "3        A  206230065476  18942261495  +46.3159573  -094.1996043   \n",
       "4        A   25151726296   6979340970  +38.9466584  -076.6744939   \n",
       "\n",
       "                                            geometry  democrat  republican  \n",
       "0  POLYGON ((-81.74725 39.09538, -81.74635 39.096...  0.264769    0.686306  \n",
       "1  MULTIPOLYGON (((-86.38865 30.99418, -86.38385 ...  0.478233    0.490219  \n",
       "2  POLYGON ((-91.18529 40.63780, -91.17510 40.643...  0.558254    0.387618  \n",
       "3  POLYGON ((-96.78438 46.63050, -96.78434 46.630...  0.464450    0.449252  \n",
       "4  POLYGON ((-77.45881 39.22027, -77.45866 39.220...  0.301643    0.169593  "
      ]
     },
     "execution_count": 216,
     "metadata": {},
     "output_type": "execute_result"
    }
   ],
   "source": [
    "president_2016_lower48_gdf = lower48.merge(president_2016_df,how='left',left_on='NAME',right_index=True)\n",
    "\n",
    "president_2016_lower48_gdf.head()"
   ]
  },
  {
   "cell_type": "markdown",
   "metadata": {},
   "source": [
    "Project to a nice-looking equal area map (EPSG 2146)."
   ]
  },
  {
   "cell_type": "code",
   "execution_count": 217,
   "metadata": {},
   "outputs": [],
   "source": [
    "president_2016_lower48_naea_gdf = president_2016_lower48_gdf.to_crs(epsg='2163')"
   ]
  },
  {
   "cell_type": "markdown",
   "metadata": {},
   "source": [
    "Visualize the \"Republican\" column with a nice \"bwr\" [colormap](https://matplotlib.org/tutorials/colors/colormaps.html)."
   ]
  },
  {
   "cell_type": "code",
   "execution_count": 224,
   "metadata": {},
   "outputs": [
    {
     "data": {
      "text/plain": [
       "(-2265298.642771698, 2749841.931116095, -2259467.945392229, 874850.9862731698)"
      ]
     },
     "execution_count": 224,
     "metadata": {},
     "output_type": "execute_result"
    },
    {
     "data": {
      "image/png": "[encoded data removed]",
      "text/plain": [
       "<Figure size 432x288 with 1 Axes>"
      ]
     },
     "metadata": {
      "needs_background": "light"
     },
     "output_type": "display_data"
    }
   ],
   "source": [
    "ax = president_2016_lower48_naea_gdf.plot(column='republican',cmap='bwr',vmin=0,vmax=1,edgecolor='k',lw=.5)\n",
    "ax.axis(False)"
   ]
  },
  {
   "cell_type": "code",
   "execution_count": null,
   "metadata": {},
   "outputs": [],
   "source": []
  }
 ],
 "metadata": {
  "kernelspec": {
   "display_name": "Python 3",
   "language": "python",
   "name": "python3"
  },
  "language_info": {
   "codemirror_mode": {
    "name": "ipython",
    "version": 3
   },
   "file_extension": ".py",
   "mimetype": "text/x-python",
   "name": "python",
   "nbconvert_exporter": "python",
   "pygments_lexer": "ipython3",
   "version": "3.8.5"
  }
 },
 "nbformat": 4,
 "nbformat_minor": 4
}
