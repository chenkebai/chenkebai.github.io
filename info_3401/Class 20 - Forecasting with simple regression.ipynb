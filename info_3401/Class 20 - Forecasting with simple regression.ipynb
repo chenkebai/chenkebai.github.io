{
 "cells": [
  {
   "cell_type": "markdown",
   "metadata": {},
   "source": [
    "# INFO 3401 – Class 20: Forecasting with simple regression\n",
    "\n",
    "[Brian C. Keegan, Ph.D.](http://brianckeegan.com/)  \n",
    "[Assistant Professor, Department of Information Science](https://www.colorado.edu/cmci/people/information-science/brian-c-keegan)  \n",
    "University of Colorado Boulder  \n",
    "\n",
    "Copyright and distributed under an [MIT License](https://opensource.org/licenses/MIT).\n",
    "\n",
    "## Learning Objectives\n",
    "This lecture will introduce forecasting, one of the most common data analysis tasks when working with time series data.\n",
    "\n",
    "* Review content about temporal structure, additive models, and autocorrelation\n",
    "* Using the `statsmodels` and `prophet` libraries to forecast temporal data\n",
    "* Making and interpreting forecasts using DIA, BEST, and other time series data\n",
    "\n",
    "## Background\n",
    "\n",
    "This lecture will introduce linear regression as a method for time series forecasting and statsmodels as a library for making and interpreting regression models."
   ]
  },
  {
   "cell_type": "markdown",
   "metadata": {},
   "source": [
    "## Load libraries"
   ]
  },
  {
   "cell_type": "code",
   "execution_count": 1,
   "metadata": {},
   "outputs": [],
   "source": [
    "import pandas as pd\n",
    "import numpy as np\n",
    "\n",
    "pd.options.display.max_columns = 100\n",
    "\n",
    "%matplotlib inline\n",
    "import matplotlib.pyplot as plt\n",
    "import seaborn as sb"
   ]
  },
  {
   "cell_type": "markdown",
   "metadata": {},
   "source": [
    "## Installing/updating two new libraries"
   ]
  },
  {
   "cell_type": "markdown",
   "metadata": {},
   "source": [
    "### `statsmodels`\n",
    "\n",
    "This should come with Anaconda by default, but run these commands in your Terminal just to be sure.\n",
    "\n",
    "`conda update --all`  \n",
    "`conda install -c anaconda statsmodels`  \n",
    "\n",
    "Import the statsmodels library."
   ]
  },
  {
   "cell_type": "code",
   "execution_count": 2,
   "metadata": {},
   "outputs": [],
   "source": [
    "import statsmodels.formula.api as smf\n",
    "import statsmodels.api as sm"
   ]
  },
  {
   "cell_type": "markdown",
   "metadata": {},
   "source": [
    "## Load data"
   ]
  },
  {
   "cell_type": "code",
   "execution_count": 3,
   "metadata": {},
   "outputs": [
    {
     "name": "stdout",
     "output_type": "stream",
     "text": [
      "(307, 7)\n"
     ]
    },
    {
     "data": {
      "text/html": [
       "<div>\n",
       "<style scoped>\n",
       "    .dataframe tbody tr th:only-of-type {\n",
       "        vertical-align: middle;\n",
       "    }\n",
       "\n",
       "    .dataframe tbody tr th {\n",
       "        vertical-align: top;\n",
       "    }\n",
       "\n",
       "    .dataframe thead th {\n",
       "        text-align: right;\n",
       "    }\n",
       "</style>\n",
       "<table border=\"1\" class=\"dataframe\">\n",
       "  <thead>\n",
       "    <tr style=\"text-align: right;\">\n",
       "      <th></th>\n",
       "      <th>American</th>\n",
       "      <th>Delta</th>\n",
       "      <th>Frontier</th>\n",
       "      <th>Other</th>\n",
       "      <th>Southwest</th>\n",
       "      <th>United Express</th>\n",
       "      <th>United</th>\n",
       "    </tr>\n",
       "  </thead>\n",
       "  <tbody>\n",
       "    <tr>\n",
       "      <td>2019-11</td>\n",
       "      <td>248838</td>\n",
       "      <td>271136</td>\n",
       "      <td>645543</td>\n",
       "      <td>269124</td>\n",
       "      <td>1502102.0</td>\n",
       "      <td>653590</td>\n",
       "      <td>1713647</td>\n",
       "    </tr>\n",
       "    <tr>\n",
       "      <td>2019-12</td>\n",
       "      <td>285504</td>\n",
       "      <td>312654</td>\n",
       "      <td>558746</td>\n",
       "      <td>306029</td>\n",
       "      <td>1661202.0</td>\n",
       "      <td>749165</td>\n",
       "      <td>1915520</td>\n",
       "    </tr>\n",
       "    <tr>\n",
       "      <td>2020-01</td>\n",
       "      <td>252609</td>\n",
       "      <td>277318</td>\n",
       "      <td>527185</td>\n",
       "      <td>282431</td>\n",
       "      <td>1407678.0</td>\n",
       "      <td>685777</td>\n",
       "      <td>1765230</td>\n",
       "    </tr>\n",
       "    <tr>\n",
       "      <td>2020-02</td>\n",
       "      <td>236439</td>\n",
       "      <td>263292</td>\n",
       "      <td>493984</td>\n",
       "      <td>258516</td>\n",
       "      <td>1306590.0</td>\n",
       "      <td>694512</td>\n",
       "      <td>1655042</td>\n",
       "    </tr>\n",
       "    <tr>\n",
       "      <td>2020-03</td>\n",
       "      <td>146987</td>\n",
       "      <td>150119</td>\n",
       "      <td>306420</td>\n",
       "      <td>147830</td>\n",
       "      <td>770226.0</td>\n",
       "      <td>438251</td>\n",
       "      <td>963524</td>\n",
       "    </tr>\n",
       "    <tr>\n",
       "      <td>2020-04</td>\n",
       "      <td>25272</td>\n",
       "      <td>14773</td>\n",
       "      <td>29753</td>\n",
       "      <td>8748</td>\n",
       "      <td>89035.0</td>\n",
       "      <td>41679</td>\n",
       "      <td>89838</td>\n",
       "    </tr>\n",
       "    <tr>\n",
       "      <td>2020-05</td>\n",
       "      <td>48289</td>\n",
       "      <td>28214</td>\n",
       "      <td>144702</td>\n",
       "      <td>14486</td>\n",
       "      <td>320493.0</td>\n",
       "      <td>120265</td>\n",
       "      <td>158422</td>\n",
       "    </tr>\n",
       "    <tr>\n",
       "      <td>2020-06</td>\n",
       "      <td>74928</td>\n",
       "      <td>48656</td>\n",
       "      <td>323277</td>\n",
       "      <td>45765</td>\n",
       "      <td>809923.0</td>\n",
       "      <td>197807</td>\n",
       "      <td>250012</td>\n",
       "    </tr>\n",
       "    <tr>\n",
       "      <td>2020-07</td>\n",
       "      <td>154607</td>\n",
       "      <td>81130</td>\n",
       "      <td>479485</td>\n",
       "      <td>148904</td>\n",
       "      <td>945160.0</td>\n",
       "      <td>294247</td>\n",
       "      <td>488744</td>\n",
       "    </tr>\n",
       "    <tr>\n",
       "      <td>2020-08</td>\n",
       "      <td>171353</td>\n",
       "      <td>105907</td>\n",
       "      <td>533026</td>\n",
       "      <td>136293</td>\n",
       "      <td>951646.0</td>\n",
       "      <td>339484</td>\n",
       "      <td>747851</td>\n",
       "    </tr>\n",
       "  </tbody>\n",
       "</table>\n",
       "</div>"
      ],
      "text/plain": [
       "         American   Delta  Frontier   Other  Southwest  United Express  \\\n",
       "2019-11    248838  271136    645543  269124  1502102.0          653590   \n",
       "2019-12    285504  312654    558746  306029  1661202.0          749165   \n",
       "2020-01    252609  277318    527185  282431  1407678.0          685777   \n",
       "2020-02    236439  263292    493984  258516  1306590.0          694512   \n",
       "2020-03    146987  150119    306420  147830   770226.0          438251   \n",
       "2020-04     25272   14773     29753    8748    89035.0           41679   \n",
       "2020-05     48289   28214    144702   14486   320493.0          120265   \n",
       "2020-06     74928   48656    323277   45765   809923.0          197807   \n",
       "2020-07    154607   81130    479485  148904   945160.0          294247   \n",
       "2020-08    171353  105907    533026  136293   951646.0          339484   \n",
       "\n",
       "          United  \n",
       "2019-11  1713647  \n",
       "2019-12  1915520  \n",
       "2020-01  1765230  \n",
       "2020-02  1655042  \n",
       "2020-03   963524  \n",
       "2020-04    89838  \n",
       "2020-05   158422  \n",
       "2020-06   250012  \n",
       "2020-07   488744  \n",
       "2020-08   747851  "
      ]
     },
     "execution_count": 3,
     "metadata": {},
     "output_type": "execute_result"
    }
   ],
   "source": [
    "# Read in the data\n",
    "den_pass_df = pd.read_csv('den_passengers.csv',index_col=0)\n",
    "\n",
    "# Cast the index to periods\n",
    "den_pass_df.index = pd.period_range(den_pass_df.index[0],den_pass_df.index[-1],freq='M')\n",
    "\n",
    "# Park the original columns\n",
    "orig_cols = den_pass_df.columns\n",
    "\n",
    "# Inspect\n",
    "print(den_pass_df.shape)\n",
    "den_pass_df.tail(10)"
   ]
  },
  {
   "cell_type": "markdown",
   "metadata": {},
   "source": [
    "## Exploring, viusualizing, and feature engineering\n",
    "Engineer some new features."
   ]
  },
  {
   "cell_type": "code",
   "execution_count": 4,
   "metadata": {},
   "outputs": [
    {
     "data": {
      "text/html": [
       "<div>\n",
       "<style scoped>\n",
       "    .dataframe tbody tr th:only-of-type {\n",
       "        vertical-align: middle;\n",
       "    }\n",
       "\n",
       "    .dataframe tbody tr th {\n",
       "        vertical-align: top;\n",
       "    }\n",
       "\n",
       "    .dataframe thead th {\n",
       "        text-align: right;\n",
       "    }\n",
       "</style>\n",
       "<table border=\"1\" class=\"dataframe\">\n",
       "  <thead>\n",
       "    <tr style=\"text-align: right;\">\n",
       "      <th></th>\n",
       "      <th>American</th>\n",
       "      <th>Delta</th>\n",
       "      <th>Frontier</th>\n",
       "      <th>Other</th>\n",
       "      <th>Southwest</th>\n",
       "      <th>United Express</th>\n",
       "      <th>United</th>\n",
       "      <th>Total</th>\n",
       "      <th>Rolling Total</th>\n",
       "    </tr>\n",
       "  </thead>\n",
       "  <tbody>\n",
       "    <tr>\n",
       "      <td>2020-04</td>\n",
       "      <td>25272</td>\n",
       "      <td>14773</td>\n",
       "      <td>29753</td>\n",
       "      <td>8748</td>\n",
       "      <td>89035.0</td>\n",
       "      <td>41679</td>\n",
       "      <td>89838</td>\n",
       "      <td>299098.0</td>\n",
       "      <td>5.172371e+06</td>\n",
       "    </tr>\n",
       "    <tr>\n",
       "      <td>2020-05</td>\n",
       "      <td>48289</td>\n",
       "      <td>28214</td>\n",
       "      <td>144702</td>\n",
       "      <td>14486</td>\n",
       "      <td>320493.0</td>\n",
       "      <td>120265</td>\n",
       "      <td>158422</td>\n",
       "      <td>834871.0</td>\n",
       "      <td>4.738468e+06</td>\n",
       "    </tr>\n",
       "    <tr>\n",
       "      <td>2020-06</td>\n",
       "      <td>74928</td>\n",
       "      <td>48656</td>\n",
       "      <td>323277</td>\n",
       "      <td>45765</td>\n",
       "      <td>809923.0</td>\n",
       "      <td>197807</td>\n",
       "      <td>250012</td>\n",
       "      <td>1750368.0</td>\n",
       "      <td>4.352193e+06</td>\n",
       "    </tr>\n",
       "    <tr>\n",
       "      <td>2020-07</td>\n",
       "      <td>154607</td>\n",
       "      <td>81130</td>\n",
       "      <td>479485</td>\n",
       "      <td>148904</td>\n",
       "      <td>945160.0</td>\n",
       "      <td>294247</td>\n",
       "      <td>488744</td>\n",
       "      <td>2592277.0</td>\n",
       "      <td>4.007159e+06</td>\n",
       "    </tr>\n",
       "    <tr>\n",
       "      <td>2020-08</td>\n",
       "      <td>171353</td>\n",
       "      <td>105907</td>\n",
       "      <td>533026</td>\n",
       "      <td>136293</td>\n",
       "      <td>951646.0</td>\n",
       "      <td>339484</td>\n",
       "      <td>747851</td>\n",
       "      <td>2985560.0</td>\n",
       "      <td>3.718033e+06</td>\n",
       "    </tr>\n",
       "  </tbody>\n",
       "</table>\n",
       "</div>"
      ],
      "text/plain": [
       "         American   Delta  Frontier   Other  Southwest  United Express  \\\n",
       "2020-04     25272   14773     29753    8748    89035.0           41679   \n",
       "2020-05     48289   28214    144702   14486   320493.0          120265   \n",
       "2020-06     74928   48656    323277   45765   809923.0          197807   \n",
       "2020-07    154607   81130    479485  148904   945160.0          294247   \n",
       "2020-08    171353  105907    533026  136293   951646.0          339484   \n",
       "\n",
       "         United      Total  Rolling Total  \n",
       "2020-04   89838   299098.0   5.172371e+06  \n",
       "2020-05  158422   834871.0   4.738468e+06  \n",
       "2020-06  250012  1750368.0   4.352193e+06  \n",
       "2020-07  488744  2592277.0   4.007159e+06  \n",
       "2020-08  747851  2985560.0   3.718033e+06  "
      ]
     },
     "execution_count": 4,
     "metadata": {},
     "output_type": "execute_result"
    }
   ],
   "source": [
    "den_pass_df['Total'] = den_pass_df[orig_cols].sum(1)\n",
    "den_pass_df['Rolling Total'] = den_pass_df['Total'].rolling(12).mean()\n",
    "\n",
    "# Inspect\n",
    "den_pass_df.tail()"
   ]
  },
  {
   "cell_type": "markdown",
   "metadata": {},
   "source": [
    "Visualize the data as a baseline."
   ]
  },
  {
   "cell_type": "code",
   "execution_count": 5,
   "metadata": {},
   "outputs": [
    {
     "data": {
      "text/plain": [
       "Text(2020-01, 500000.0, 'COVID-19 shutdowns')"
      ]
     },
     "execution_count": 5,
     "metadata": {},
     "output_type": "execute_result"
    },
    {
     "data": {
      "image/png": "[encoded data removed]",
      "text/plain": [
       "<Figure size 864x432 with 1 Axes>"
      ]
     },
     "metadata": {
      "needs_background": "light"
     },
     "output_type": "display_data"
    }
   ],
   "source": [
    "f,ax = plt.subplots(figsize=(12,6))\n",
    "den_pass_df['Total'].plot(lw=3,ax=ax)\n",
    "den_pass_df['Rolling Total'].plot(lw=3,ax=ax,c='k')\n",
    "\n",
    "ax.set_ylabel('Total passengers')\n",
    "\n",
    "# Annotate\n",
    "ax.axvline(pd.Period('2001-09'),c='r',ls='--',lw=1)\n",
    "ax.text(pd.Period('2001-09')+3,1.75e6,'9/11 attacks',c='r')\n",
    "\n",
    "ax.axvline(pd.Period('2008-09'),c='r',ls='--',lw=1)\n",
    "ax.text(pd.Period('2008-09')+3,3e6,'Great Recession',c='r')\n",
    "\n",
    "ax.axvline(pd.Period('2020-04'),c='r',ls='--',lw=1)\n",
    "ax.text(pd.Period('2020-04')-3,5e5,'COVID-19 shutdowns',c='r',ha='right')\n",
    "\n",
    "# f.savefig('den_passengers.png',dpi=300)"
   ]
  },
  {
   "cell_type": "markdown",
   "metadata": {},
   "source": [
    "## Forecasting with simple regression (pre-class)\n",
    "\n",
    "Linear regression is an essential part of every data scientist's toolkit. At its heart, it allows us to model, predict, and explain the relationship between a continuous outcome variable and one or more predictor variables. There are many important limitations and biases when using linear regression to be aware of as well, so it is not the solution to every data modeling problem. We will spend more time going into this method, so let's start with an example using our case of the DEN passenger data.\n",
    "\n",
    "Our goal is to predict the number of passengers for any given month by the number of passengers in previous months. In the simplest possible model we can specify, the outcome variable is the number of passengers and our predictor variable is the number of months the airport has been open. As the rolling average trend above captures, a younger DEN airport should have fewer passengers and an older DEN airport should have more passengers.\n",
    "\n",
    "Linear regression wants continuous variables for both its predictors and outcome variables. Our outcome variable \"Total passengers\" is already continuous. We want to model time as a continuous variable, but the `Period` objects we've used for the index aren't really continuous.\n",
    "\n",
    "First make a new column \"months_open\" with the number of 30-day months since the airport opened. We can use the `.to_timestamp()` method on the index to turn it into `Timestamp` objects. Subtracting from a fixed opening date like February 1, 1995 will return `Timedelta` objects. Dividing a `Timedelta` object by another `Timedelta` object will return a simple continuous float we can use as a predictor in the regression."
   ]
  },
  {
   "cell_type": "code",
   "execution_count": 16,
   "metadata": {},
   "outputs": [],
   "source": [
    "den_pass_df['months_open'] = (den_pass_df.index.to_timestamp() - pd.Timestamp('1995-02-01')) / pd.Timedelta(30,'D')"
   ]
  },
  {
   "cell_type": "code",
   "execution_count": 21,
   "metadata": {},
   "outputs": [
    {
     "data": {
      "text/html": [
       "<div>\n",
       "<style scoped>\n",
       "    .dataframe tbody tr th:only-of-type {\n",
       "        vertical-align: middle;\n",
       "    }\n",
       "\n",
       "    .dataframe tbody tr th {\n",
       "        vertical-align: top;\n",
       "    }\n",
       "\n",
       "    .dataframe thead th {\n",
       "        text-align: right;\n",
       "    }\n",
       "</style>\n",
       "<table border=\"1\" class=\"dataframe\">\n",
       "  <thead>\n",
       "    <tr style=\"text-align: right;\">\n",
       "      <th></th>\n",
       "      <th>American</th>\n",
       "      <th>Delta</th>\n",
       "      <th>Frontier</th>\n",
       "      <th>Other</th>\n",
       "      <th>Southwest</th>\n",
       "      <th>United Express</th>\n",
       "      <th>United</th>\n",
       "      <th>Total</th>\n",
       "      <th>Rolling Total</th>\n",
       "      <th>months</th>\n",
       "      <th>months_open</th>\n",
       "    </tr>\n",
       "  </thead>\n",
       "  <tbody>\n",
       "    <tr>\n",
       "      <td>2019-11</td>\n",
       "      <td>248838</td>\n",
       "      <td>271136</td>\n",
       "      <td>645543</td>\n",
       "      <td>269124</td>\n",
       "      <td>1502102.0</td>\n",
       "      <td>653590</td>\n",
       "      <td>1713647</td>\n",
       "      <td>5303980.0</td>\n",
       "      <td>5.704145e+06</td>\n",
       "      <td>11</td>\n",
       "      <td>301.300000</td>\n",
       "    </tr>\n",
       "    <tr>\n",
       "      <td>2019-12</td>\n",
       "      <td>285504</td>\n",
       "      <td>312654</td>\n",
       "      <td>558746</td>\n",
       "      <td>306029</td>\n",
       "      <td>1661202.0</td>\n",
       "      <td>749165</td>\n",
       "      <td>1915520</td>\n",
       "      <td>5788820.0</td>\n",
       "      <td>5.751247e+06</td>\n",
       "      <td>12</td>\n",
       "      <td>302.300000</td>\n",
       "    </tr>\n",
       "    <tr>\n",
       "      <td>2020-01</td>\n",
       "      <td>252609</td>\n",
       "      <td>277318</td>\n",
       "      <td>527185</td>\n",
       "      <td>282431</td>\n",
       "      <td>1407678.0</td>\n",
       "      <td>685777</td>\n",
       "      <td>1765230</td>\n",
       "      <td>5198228.0</td>\n",
       "      <td>5.774883e+06</td>\n",
       "      <td>1</td>\n",
       "      <td>303.333333</td>\n",
       "    </tr>\n",
       "    <tr>\n",
       "      <td>2020-02</td>\n",
       "      <td>236439</td>\n",
       "      <td>263292</td>\n",
       "      <td>493984</td>\n",
       "      <td>258516</td>\n",
       "      <td>1306590.0</td>\n",
       "      <td>694512</td>\n",
       "      <td>1655042</td>\n",
       "      <td>4908375.0</td>\n",
       "      <td>5.801548e+06</td>\n",
       "      <td>2</td>\n",
       "      <td>304.366667</td>\n",
       "    </tr>\n",
       "    <tr>\n",
       "      <td>2020-03</td>\n",
       "      <td>146987</td>\n",
       "      <td>150119</td>\n",
       "      <td>306420</td>\n",
       "      <td>147830</td>\n",
       "      <td>770226.0</td>\n",
       "      <td>438251</td>\n",
       "      <td>963524</td>\n",
       "      <td>2923357.0</td>\n",
       "      <td>5.590893e+06</td>\n",
       "      <td>3</td>\n",
       "      <td>305.333333</td>\n",
       "    </tr>\n",
       "    <tr>\n",
       "      <td>2020-04</td>\n",
       "      <td>25272</td>\n",
       "      <td>14773</td>\n",
       "      <td>29753</td>\n",
       "      <td>8748</td>\n",
       "      <td>89035.0</td>\n",
       "      <td>41679</td>\n",
       "      <td>89838</td>\n",
       "      <td>299098.0</td>\n",
       "      <td>5.172371e+06</td>\n",
       "      <td>4</td>\n",
       "      <td>306.366667</td>\n",
       "    </tr>\n",
       "    <tr>\n",
       "      <td>2020-05</td>\n",
       "      <td>48289</td>\n",
       "      <td>28214</td>\n",
       "      <td>144702</td>\n",
       "      <td>14486</td>\n",
       "      <td>320493.0</td>\n",
       "      <td>120265</td>\n",
       "      <td>158422</td>\n",
       "      <td>834871.0</td>\n",
       "      <td>4.738468e+06</td>\n",
       "      <td>5</td>\n",
       "      <td>307.366667</td>\n",
       "    </tr>\n",
       "    <tr>\n",
       "      <td>2020-06</td>\n",
       "      <td>74928</td>\n",
       "      <td>48656</td>\n",
       "      <td>323277</td>\n",
       "      <td>45765</td>\n",
       "      <td>809923.0</td>\n",
       "      <td>197807</td>\n",
       "      <td>250012</td>\n",
       "      <td>1750368.0</td>\n",
       "      <td>4.352193e+06</td>\n",
       "      <td>6</td>\n",
       "      <td>308.400000</td>\n",
       "    </tr>\n",
       "    <tr>\n",
       "      <td>2020-07</td>\n",
       "      <td>154607</td>\n",
       "      <td>81130</td>\n",
       "      <td>479485</td>\n",
       "      <td>148904</td>\n",
       "      <td>945160.0</td>\n",
       "      <td>294247</td>\n",
       "      <td>488744</td>\n",
       "      <td>2592277.0</td>\n",
       "      <td>4.007159e+06</td>\n",
       "      <td>7</td>\n",
       "      <td>309.400000</td>\n",
       "    </tr>\n",
       "    <tr>\n",
       "      <td>2020-08</td>\n",
       "      <td>171353</td>\n",
       "      <td>105907</td>\n",
       "      <td>533026</td>\n",
       "      <td>136293</td>\n",
       "      <td>951646.0</td>\n",
       "      <td>339484</td>\n",
       "      <td>747851</td>\n",
       "      <td>2985560.0</td>\n",
       "      <td>3.718033e+06</td>\n",
       "      <td>8</td>\n",
       "      <td>310.433333</td>\n",
       "    </tr>\n",
       "  </tbody>\n",
       "</table>\n",
       "</div>"
      ],
      "text/plain": [
       "         American   Delta  Frontier   Other  Southwest  United Express  \\\n",
       "2019-11    248838  271136    645543  269124  1502102.0          653590   \n",
       "2019-12    285504  312654    558746  306029  1661202.0          749165   \n",
       "2020-01    252609  277318    527185  282431  1407678.0          685777   \n",
       "2020-02    236439  263292    493984  258516  1306590.0          694512   \n",
       "2020-03    146987  150119    306420  147830   770226.0          438251   \n",
       "2020-04     25272   14773     29753    8748    89035.0           41679   \n",
       "2020-05     48289   28214    144702   14486   320493.0          120265   \n",
       "2020-06     74928   48656    323277   45765   809923.0          197807   \n",
       "2020-07    154607   81130    479485  148904   945160.0          294247   \n",
       "2020-08    171353  105907    533026  136293   951646.0          339484   \n",
       "\n",
       "          United      Total  Rolling Total  months  months_open  \n",
       "2019-11  1713647  5303980.0   5.704145e+06      11   301.300000  \n",
       "2019-12  1915520  5788820.0   5.751247e+06      12   302.300000  \n",
       "2020-01  1765230  5198228.0   5.774883e+06       1   303.333333  \n",
       "2020-02  1655042  4908375.0   5.801548e+06       2   304.366667  \n",
       "2020-03   963524  2923357.0   5.590893e+06       3   305.333333  \n",
       "2020-04    89838   299098.0   5.172371e+06       4   306.366667  \n",
       "2020-05   158422   834871.0   4.738468e+06       5   307.366667  \n",
       "2020-06   250012  1750368.0   4.352193e+06       6   308.400000  \n",
       "2020-07   488744  2592277.0   4.007159e+06       7   309.400000  \n",
       "2020-08   747851  2985560.0   3.718033e+06       8   310.433333  "
      ]
     },
     "execution_count": 21,
     "metadata": {},
     "output_type": "execute_result"
    }
   ],
   "source": [
    "den_pass_df['months'] = [i.month for i in den_pass_df.index]\n",
    "den_pass_df.tail(10)"
   ]
  },
  {
   "cell_type": "markdown",
   "metadata": {},
   "source": [
    "Second, use seaborn's [`lmplot`](https://seaborn.pydata.org/generated/seaborn.lmplot.html) to visualize the kind of linear relationship between the \"months_open\" variable on the x-axis and the \"Total passengers\" on the y-axis."
   ]
  },
  {
   "cell_type": "code",
   "execution_count": 18,
   "metadata": {},
   "outputs": [
    {
     "ename": "NameError",
     "evalue": "name 'm0' is not defined",
     "output_type": "error",
     "traceback": [
      "\u001b[1;31m---------------------------------------------------------------------------\u001b[0m",
      "\u001b[1;31mNameError\u001b[0m                                 Traceback (most recent call last)",
      "\u001b[1;32m<ipython-input-18-a336fb83cfa3>\u001b[0m in \u001b[0;36m<module>\u001b[1;34m\u001b[0m\n\u001b[1;32m----> 1\u001b[1;33m \u001b[0mm0\u001b[0m\u001b[1;33m.\u001b[0m\u001b[0msummary\u001b[0m\u001b[1;33m(\u001b[0m\u001b[1;33m)\u001b[0m\u001b[1;33m\u001b[0m\u001b[1;33m\u001b[0m\u001b[0m\n\u001b[0m",
      "\u001b[1;31mNameError\u001b[0m: name 'm0' is not defined"
     ]
    }
   ],
   "source": [
    "m0.summary()"
   ]
  },
  {
   "cell_type": "code",
   "execution_count": 19,
   "metadata": {},
   "outputs": [
    {
     "data": {
      "text/plain": [
       "<matplotlib.axes._subplots.AxesSubplot at 0x29a70af7b88>"
      ]
     },
     "execution_count": 19,
     "metadata": {},
     "output_type": "execute_result"
    },
    {
     "data": {
      "image/png": "[encoded data removed]",
      "text/plain": [
       "<Figure size 432x288 with 1 Axes>"
      ]
     },
     "metadata": {
      "needs_background": "light"
     },
     "output_type": "display_data"
    }
   ],
   "source": [
    "sb.pointplot(x='months', y='Total', data = den_pass_df)"
   ]
  },
  {
   "cell_type": "code",
   "execution_count": null,
   "metadata": {},
   "outputs": [],
   "source": [
    "m1"
   ]
  },
  {
   "cell_type": "markdown",
   "metadata": {},
   "source": [
    "Third, use statsmodel's [formula functionality](https://www.statsmodels.org/dev/example_formulas.html) to specify and estimate a simple regression model."
   ]
  },
  {
   "cell_type": "code",
   "execution_count": null,
   "metadata": {},
   "outputs": [],
   "source": []
  },
  {
   "cell_type": "markdown",
   "metadata": {},
   "source": [
    "Fourth, interpret the parameters and performance of this regression model."
   ]
  },
  {
   "cell_type": "code",
   "execution_count": null,
   "metadata": {},
   "outputs": [],
   "source": [
    "m1.predict()"
   ]
  },
  {
   "cell_type": "markdown",
   "metadata": {},
   "source": [
    "Fifth, use the [`wls_prediction_std`](https://www.statsmodels.org/dev/examples/notebooks/generated/ols.html#OLS-non-linear-curve-but-linear-in-parameters) function to extract the model predictions and errors overlay on top of the observed data.  Interpret the predictions from the model against the actual data. What does the model do well? Poorly? Unexpectedly?"
   ]
  },
  {
   "cell_type": "code",
   "execution_count": null,
   "metadata": {},
   "outputs": [],
   "source": [
    "from statsmodels.sandbox.regression.predstd import wls_prediction_std"
   ]
  },
  {
   "cell_type": "markdown",
   "metadata": {},
   "source": [
    "Sixth, make a new DataFrame that goes a few years into the future. Use the `.predict()` method on the fitted model from Step 3 with the extended \"months_open\" variable to forecast the future number of passengers."
   ]
  },
  {
   "cell_type": "code",
   "execution_count": null,
   "metadata": {},
   "outputs": [],
   "source": []
  },
  {
   "cell_type": "markdown",
   "metadata": {},
   "source": [
    "Seventh, visualize the model predictions going into the future."
   ]
  },
  {
   "cell_type": "code",
   "execution_count": null,
   "metadata": {},
   "outputs": [],
   "source": []
  },
  {
   "cell_type": "markdown",
   "metadata": {},
   "source": [
    "## Forecasting with fixed effects (in-class)\n",
    "\n",
    "We know there is a strong monthly pattern to the data: passenger numbers are higher in the summer, lower in the winter, *etc*. The way we've specified our regression model only allows for the number of months since the airport opened, but doesn't carry any of these monthly patterns. We can used \"fixed effects\" with the months to capture this behavior in the data.\n",
    "\n",
    "First, make a new column \"months\" and extract the month from the index."
   ]
  },
  {
   "cell_type": "code",
   "execution_count": null,
   "metadata": {},
   "outputs": [],
   "source": []
  },
  {
   "cell_type": "markdown",
   "metadata": {},
   "source": [
    "Second, use statesmodel's formula functionality to specify and estimate a fixed effects regression model."
   ]
  },
  {
   "cell_type": "code",
   "execution_count": null,
   "metadata": {},
   "outputs": [],
   "source": []
  },
  {
   "cell_type": "markdown",
   "metadata": {},
   "source": [
    "Third, interpret the parameters and performance of this regression model."
   ]
  },
  {
   "cell_type": "code",
   "execution_count": null,
   "metadata": {},
   "outputs": [],
   "source": []
  },
  {
   "cell_type": "markdown",
   "metadata": {},
   "source": [
    "Fourth, make a new DataFrame that goes a few years into the future. Use the `.predict()` method on the fitted model from Step 2 with the extended \"months_open\" variable to forecast the future number of passengers."
   ]
  },
  {
   "cell_type": "code",
   "execution_count": null,
   "metadata": {},
   "outputs": [],
   "source": []
  },
  {
   "cell_type": "markdown",
   "metadata": {},
   "source": [
    "Fifth, visualize the model predictions going into the future."
   ]
  },
  {
   "cell_type": "code",
   "execution_count": null,
   "metadata": {},
   "outputs": [],
   "source": []
  },
  {
   "cell_type": "markdown",
   "metadata": {},
   "source": [
    "## Exercise: Forecasting with BEST data\n",
    "\n",
    "First: Read in the BEST temperature data, cast the months column to a `Timestamp` or `Period` object, set as an index, and describe the data."
   ]
  },
  {
   "cell_type": "code",
   "execution_count": null,
   "metadata": {},
   "outputs": [],
   "source": []
  },
  {
   "cell_type": "markdown",
   "metadata": {},
   "source": [
    "Second: Make a plot of the 1M anomaly data (ideally really wide)."
   ]
  },
  {
   "cell_type": "code",
   "execution_count": null,
   "metadata": {},
   "outputs": [],
   "source": []
  },
  {
   "cell_type": "markdown",
   "metadata": {},
   "source": [
    "Third: make a new column \"elapsed\" that (similar to the \"months_open\" variable from above) where the values are `float`s of the number of days since January 1750."
   ]
  },
  {
   "cell_type": "code",
   "execution_count": null,
   "metadata": {},
   "outputs": [],
   "source": []
  },
  {
   "cell_type": "markdown",
   "metadata": {},
   "source": [
    "Fourth: use statsmodel's formula functionality to specify an estimate a simple regression model using the \"elapsed\" as a predictor and the \"1M anomaly\" as an outcome variable. Alternatively, estimate a more advanced regression model that includes fixed effects on the month."
   ]
  },
  {
   "cell_type": "code",
   "execution_count": null,
   "metadata": {},
   "outputs": [],
   "source": []
  },
  {
   "cell_type": "markdown",
   "metadata": {},
   "source": [
    "Fifth: interpret the estimated parameters and performance of this regression model."
   ]
  },
  {
   "cell_type": "code",
   "execution_count": null,
   "metadata": {},
   "outputs": [],
   "source": []
  },
  {
   "cell_type": "markdown",
   "metadata": {},
   "source": [
    "Sixth: make a new DataFrame that goes a few years/decades into the future. Use the `.predict()` method on the fitted model from step 4 with the extended dates to forecast the future temperatures."
   ]
  },
  {
   "cell_type": "code",
   "execution_count": null,
   "metadata": {},
   "outputs": [],
   "source": []
  },
  {
   "cell_type": "markdown",
   "metadata": {},
   "source": [
    "Seventh: visualize the model predictions going into the future."
   ]
  },
  {
   "cell_type": "code",
   "execution_count": null,
   "metadata": {},
   "outputs": [],
   "source": []
  }
 ],
 "metadata": {
  "kernelspec": {
   "display_name": "Python 3",
   "language": "python",
   "name": "python3"
  },
  "language_info": {
   "codemirror_mode": {
    "name": "ipython",
    "version": 3
   },
   "file_extension": ".py",
   "mimetype": "text/x-python",
   "name": "python",
   "nbconvert_exporter": "python",
   "pygments_lexer": "ipython3",
   "version": "3.8.11"
  }
 },
 "nbformat": 4,
 "nbformat_minor": 4
}
